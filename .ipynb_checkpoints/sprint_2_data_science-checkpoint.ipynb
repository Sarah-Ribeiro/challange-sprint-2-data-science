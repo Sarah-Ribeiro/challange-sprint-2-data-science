{
 "cells": [
  {
   "cell_type": "code",
   "execution_count": 114,
   "id": "928f7117-9db3-495a-9ba6-524d7e4314c9",
   "metadata": {},
   "outputs": [],
   "source": [
    "import pandas as pd"
   ]
  },
  {
   "cell_type": "code",
   "execution_count": 115,
   "id": "e9126399-c6c5-4655-9f39-0415e47334b1",
   "metadata": {},
   "outputs": [],
   "source": [
    "data = pd.read_csv('obitos-2024.csv')"
   ]
  },
  {
   "cell_type": "code",
   "execution_count": 116,
   "id": "f4d1fa04-cb12-47cf-bc33-fde949554028",
   "metadata": {},
   "outputs": [
    {
     "data": {
      "text/html": [
       "<div>\n",
       "<style scoped>\n",
       "    .dataframe tbody tr th:only-of-type {\n",
       "        vertical-align: middle;\n",
       "    }\n",
       "\n",
       "    .dataframe tbody tr th {\n",
       "        vertical-align: top;\n",
       "    }\n",
       "\n",
       "    .dataframe thead th {\n",
       "        text-align: right;\n",
       "    }\n",
       "</style>\n",
       "<table border=\"1\" class=\"dataframe\">\n",
       "  <thead>\n",
       "    <tr style=\"text-align: right;\">\n",
       "      <th></th>\n",
       "      <th>uf</th>\n",
       "      <th>tipo_doenca</th>\n",
       "      <th>local_obito</th>\n",
       "      <th>faixa_etaria</th>\n",
       "      <th>sexo</th>\n",
       "      <th>total</th>\n",
       "    </tr>\n",
       "  </thead>\n",
       "  <tbody>\n",
       "    <tr>\n",
       "      <th>0</th>\n",
       "      <td>AC</td>\n",
       "      <td>OUTRAS</td>\n",
       "      <td>DOMICILIO</td>\n",
       "      <td>&lt; 9</td>\n",
       "      <td>F</td>\n",
       "      <td>4</td>\n",
       "    </tr>\n",
       "    <tr>\n",
       "      <th>1</th>\n",
       "      <td>AC</td>\n",
       "      <td>OUTRAS</td>\n",
       "      <td>DOMICILIO</td>\n",
       "      <td>&lt; 9</td>\n",
       "      <td>M</td>\n",
       "      <td>7</td>\n",
       "    </tr>\n",
       "    <tr>\n",
       "      <th>2</th>\n",
       "      <td>AC</td>\n",
       "      <td>OUTRAS</td>\n",
       "      <td>HOSPITAL</td>\n",
       "      <td>&lt; 9</td>\n",
       "      <td>F</td>\n",
       "      <td>19</td>\n",
       "    </tr>\n",
       "    <tr>\n",
       "      <th>3</th>\n",
       "      <td>AC</td>\n",
       "      <td>OUTRAS</td>\n",
       "      <td>HOSPITAL</td>\n",
       "      <td>&lt; 9</td>\n",
       "      <td>I</td>\n",
       "      <td>1</td>\n",
       "    </tr>\n",
       "    <tr>\n",
       "      <th>4</th>\n",
       "      <td>AC</td>\n",
       "      <td>OUTRAS</td>\n",
       "      <td>HOSPITAL</td>\n",
       "      <td>&lt; 9</td>\n",
       "      <td>M</td>\n",
       "      <td>26</td>\n",
       "    </tr>\n",
       "    <tr>\n",
       "      <th>...</th>\n",
       "      <td>...</td>\n",
       "      <td>...</td>\n",
       "      <td>...</td>\n",
       "      <td>...</td>\n",
       "      <td>...</td>\n",
       "      <td>...</td>\n",
       "    </tr>\n",
       "    <tr>\n",
       "      <th>10430</th>\n",
       "      <td>TO</td>\n",
       "      <td>SEPTICEMIA</td>\n",
       "      <td>HOSPITAL</td>\n",
       "      <td>N/I</td>\n",
       "      <td>F</td>\n",
       "      <td>7</td>\n",
       "    </tr>\n",
       "    <tr>\n",
       "      <th>10431</th>\n",
       "      <td>TO</td>\n",
       "      <td>SEPTICEMIA</td>\n",
       "      <td>HOSPITAL</td>\n",
       "      <td>N/I</td>\n",
       "      <td>I</td>\n",
       "      <td>1</td>\n",
       "    </tr>\n",
       "    <tr>\n",
       "      <th>10432</th>\n",
       "      <td>TO</td>\n",
       "      <td>SEPTICEMIA</td>\n",
       "      <td>HOSPITAL</td>\n",
       "      <td>N/I</td>\n",
       "      <td>M</td>\n",
       "      <td>22</td>\n",
       "    </tr>\n",
       "    <tr>\n",
       "      <th>10433</th>\n",
       "      <td>TO</td>\n",
       "      <td>SRAG</td>\n",
       "      <td>HOSPITAL</td>\n",
       "      <td>N/I</td>\n",
       "      <td>F</td>\n",
       "      <td>1</td>\n",
       "    </tr>\n",
       "    <tr>\n",
       "      <th>10434</th>\n",
       "      <td>TO</td>\n",
       "      <td>SRAG</td>\n",
       "      <td>HOSPITAL</td>\n",
       "      <td>N/I</td>\n",
       "      <td>M</td>\n",
       "      <td>1</td>\n",
       "    </tr>\n",
       "  </tbody>\n",
       "</table>\n",
       "<p>10435 rows × 6 columns</p>\n",
       "</div>"
      ],
      "text/plain": [
       "       uf tipo_doenca local_obito faixa_etaria sexo  total\n",
       "0      AC      OUTRAS   DOMICILIO          < 9    F      4\n",
       "1      AC      OUTRAS   DOMICILIO          < 9    M      7\n",
       "2      AC      OUTRAS    HOSPITAL          < 9    F     19\n",
       "3      AC      OUTRAS    HOSPITAL          < 9    I      1\n",
       "4      AC      OUTRAS    HOSPITAL          < 9    M     26\n",
       "...    ..         ...         ...          ...  ...    ...\n",
       "10430  TO  SEPTICEMIA    HOSPITAL          N/I    F      7\n",
       "10431  TO  SEPTICEMIA    HOSPITAL          N/I    I      1\n",
       "10432  TO  SEPTICEMIA    HOSPITAL          N/I    M     22\n",
       "10433  TO        SRAG    HOSPITAL          N/I    F      1\n",
       "10434  TO        SRAG    HOSPITAL          N/I    M      1\n",
       "\n",
       "[10435 rows x 6 columns]"
      ]
     },
     "execution_count": 116,
     "metadata": {},
     "output_type": "execute_result"
    }
   ],
   "source": [
    "data"
   ]
  },
  {
   "cell_type": "code",
   "execution_count": 117,
   "id": "0750315c-755d-408f-8ccd-1f1c3cb9e86f",
   "metadata": {
    "scrolled": false
   },
   "outputs": [
    {
     "data": {
      "text/html": [
       "<div>\n",
       "<style scoped>\n",
       "    .dataframe tbody tr th:only-of-type {\n",
       "        vertical-align: middle;\n",
       "    }\n",
       "\n",
       "    .dataframe tbody tr th {\n",
       "        vertical-align: top;\n",
       "    }\n",
       "\n",
       "    .dataframe thead th {\n",
       "        text-align: right;\n",
       "    }\n",
       "</style>\n",
       "<table border=\"1\" class=\"dataframe\">\n",
       "  <thead>\n",
       "    <tr style=\"text-align: right;\">\n",
       "      <th></th>\n",
       "      <th>uf</th>\n",
       "      <th>tipo_doenca</th>\n",
       "      <th>local_obito</th>\n",
       "      <th>faixa_etaria</th>\n",
       "      <th>sexo</th>\n",
       "      <th>total</th>\n",
       "    </tr>\n",
       "  </thead>\n",
       "  <tbody>\n",
       "    <tr>\n",
       "      <th>0</th>\n",
       "      <td>AC</td>\n",
       "      <td>OUTRAS</td>\n",
       "      <td>DOMICILIO</td>\n",
       "      <td>&lt; 9</td>\n",
       "      <td>F</td>\n",
       "      <td>4</td>\n",
       "    </tr>\n",
       "    <tr>\n",
       "      <th>1</th>\n",
       "      <td>AC</td>\n",
       "      <td>OUTRAS</td>\n",
       "      <td>DOMICILIO</td>\n",
       "      <td>&lt; 9</td>\n",
       "      <td>M</td>\n",
       "      <td>7</td>\n",
       "    </tr>\n",
       "    <tr>\n",
       "      <th>2</th>\n",
       "      <td>AC</td>\n",
       "      <td>OUTRAS</td>\n",
       "      <td>HOSPITAL</td>\n",
       "      <td>&lt; 9</td>\n",
       "      <td>F</td>\n",
       "      <td>19</td>\n",
       "    </tr>\n",
       "    <tr>\n",
       "      <th>3</th>\n",
       "      <td>AC</td>\n",
       "      <td>OUTRAS</td>\n",
       "      <td>HOSPITAL</td>\n",
       "      <td>&lt; 9</td>\n",
       "      <td>I</td>\n",
       "      <td>1</td>\n",
       "    </tr>\n",
       "    <tr>\n",
       "      <th>4</th>\n",
       "      <td>AC</td>\n",
       "      <td>OUTRAS</td>\n",
       "      <td>HOSPITAL</td>\n",
       "      <td>&lt; 9</td>\n",
       "      <td>M</td>\n",
       "      <td>26</td>\n",
       "    </tr>\n",
       "    <tr>\n",
       "      <th>...</th>\n",
       "      <td>...</td>\n",
       "      <td>...</td>\n",
       "      <td>...</td>\n",
       "      <td>...</td>\n",
       "      <td>...</td>\n",
       "      <td>...</td>\n",
       "    </tr>\n",
       "    <tr>\n",
       "      <th>10430</th>\n",
       "      <td>TO</td>\n",
       "      <td>SEPTICEMIA</td>\n",
       "      <td>HOSPITAL</td>\n",
       "      <td>N/I</td>\n",
       "      <td>F</td>\n",
       "      <td>7</td>\n",
       "    </tr>\n",
       "    <tr>\n",
       "      <th>10431</th>\n",
       "      <td>TO</td>\n",
       "      <td>SEPTICEMIA</td>\n",
       "      <td>HOSPITAL</td>\n",
       "      <td>N/I</td>\n",
       "      <td>I</td>\n",
       "      <td>1</td>\n",
       "    </tr>\n",
       "    <tr>\n",
       "      <th>10432</th>\n",
       "      <td>TO</td>\n",
       "      <td>SEPTICEMIA</td>\n",
       "      <td>HOSPITAL</td>\n",
       "      <td>N/I</td>\n",
       "      <td>M</td>\n",
       "      <td>22</td>\n",
       "    </tr>\n",
       "    <tr>\n",
       "      <th>10433</th>\n",
       "      <td>TO</td>\n",
       "      <td>SRAG</td>\n",
       "      <td>HOSPITAL</td>\n",
       "      <td>N/I</td>\n",
       "      <td>F</td>\n",
       "      <td>1</td>\n",
       "    </tr>\n",
       "    <tr>\n",
       "      <th>10434</th>\n",
       "      <td>TO</td>\n",
       "      <td>SRAG</td>\n",
       "      <td>HOSPITAL</td>\n",
       "      <td>N/I</td>\n",
       "      <td>M</td>\n",
       "      <td>1</td>\n",
       "    </tr>\n",
       "  </tbody>\n",
       "</table>\n",
       "<p>10435 rows × 6 columns</p>\n",
       "</div>"
      ],
      "text/plain": [
       "       uf tipo_doenca local_obito faixa_etaria sexo  total\n",
       "0      AC      OUTRAS   DOMICILIO          < 9    F      4\n",
       "1      AC      OUTRAS   DOMICILIO          < 9    M      7\n",
       "2      AC      OUTRAS    HOSPITAL          < 9    F     19\n",
       "3      AC      OUTRAS    HOSPITAL          < 9    I      1\n",
       "4      AC      OUTRAS    HOSPITAL          < 9    M     26\n",
       "...    ..         ...         ...          ...  ...    ...\n",
       "10430  TO  SEPTICEMIA    HOSPITAL          N/I    F      7\n",
       "10431  TO  SEPTICEMIA    HOSPITAL          N/I    I      1\n",
       "10432  TO  SEPTICEMIA    HOSPITAL          N/I    M     22\n",
       "10433  TO        SRAG    HOSPITAL          N/I    F      1\n",
       "10434  TO        SRAG    HOSPITAL          N/I    M      1\n",
       "\n",
       "[10435 rows x 6 columns]"
      ]
     },
     "execution_count": 117,
     "metadata": {},
     "output_type": "execute_result"
    }
   ],
   "source": [
    "data"
   ]
  },
  {
   "cell_type": "markdown",
   "id": "080079ac-b6d9-4604-803a-09c826b184d2",
   "metadata": {},
   "source": [
    "### Quantidade de estados"
   ]
  },
  {
   "cell_type": "code",
   "execution_count": 118,
   "id": "7487ca80-d490-47fb-ac34-4a4126de8268",
   "metadata": {},
   "outputs": [],
   "source": [
    "estados_quantidade = data['uf'].value_counts()"
   ]
  },
  {
   "cell_type": "code",
   "execution_count": 119,
   "id": "b4ac602d-599a-40bf-9f45-0bc6fa89477e",
   "metadata": {},
   "outputs": [
    {
     "data": {
      "text/plain": [
       "27"
      ]
     },
     "execution_count": 119,
     "metadata": {},
     "output_type": "execute_result"
    }
   ],
   "source": [
    "len(estados_quantidade)"
   ]
  },
  {
   "cell_type": "code",
   "execution_count": 120,
   "id": "9fc5e1dc-b6b6-48e4-bdba-d54c10887064",
   "metadata": {},
   "outputs": [
    {
     "data": {
      "text/plain": [
       "RangeIndex(start=0, stop=10435, step=1)"
      ]
     },
     "execution_count": 120,
     "metadata": {},
     "output_type": "execute_result"
    }
   ],
   "source": [
    "data['uf'].index"
   ]
  },
  {
   "cell_type": "code",
   "execution_count": 121,
   "id": "95b91130-79f4-4d26-801b-06a25fb091b6",
   "metadata": {},
   "outputs": [
    {
     "data": {
      "text/plain": [
       "10435"
      ]
     },
     "execution_count": 121,
     "metadata": {},
     "output_type": "execute_result"
    }
   ],
   "source": [
    "estados_quantidade.sum()"
   ]
  },
  {
   "cell_type": "code",
   "execution_count": 122,
   "id": "d7ac45f6-1a57-442b-abbd-8e392236f6bb",
   "metadata": {},
   "outputs": [
    {
     "name": "stdout",
     "output_type": "stream",
     "text": [
      "    uf  quantidade\n",
      "0   SP         723\n",
      "1   MG         670\n",
      "2   RJ         530\n",
      "3   BA         510\n",
      "4   CE         507\n",
      "5   PE         496\n",
      "6   GO         494\n",
      "7   PR         484\n",
      "8   RS         480\n",
      "9   PA         442\n",
      "10  MA         409\n",
      "11  MT         382\n",
      "12  PB         380\n",
      "13  RN         380\n",
      "14  SC         369\n",
      "15  AL         353\n",
      "16  ES         341\n",
      "17  DF         334\n",
      "18  SE         315\n",
      "19  PI         297\n",
      "20  MS         290\n",
      "21  AM         287\n",
      "22  TO         255\n",
      "23  RO         229\n",
      "24  AC         194\n",
      "25  AP         175\n",
      "26  RR         109\n"
     ]
    }
   ],
   "source": [
    "df = estados_quantidade.rename_axis('uf').reset_index(name='quantidade')\n",
    "print(df)\n",
    "df.to_csv('uf.csv')"
   ]
  },
  {
   "cell_type": "code",
   "execution_count": 123,
   "id": "9297d3ed-fb16-49b6-b550-cc3ae56386c8",
   "metadata": {},
   "outputs": [],
   "source": [
    "estados_df = pd.read_csv('uf.csv')\n",
    "estados_df.drop(estados_df.filter(regex=\"Unname\"),axis=1, inplace=True)"
   ]
  },
  {
   "cell_type": "code",
   "execution_count": 124,
   "id": "b6ebe88d-f3fb-4bd3-ab06-b85f1067c046",
   "metadata": {},
   "outputs": [
    {
     "data": {
      "text/html": [
       "<div>\n",
       "<style scoped>\n",
       "    .dataframe tbody tr th:only-of-type {\n",
       "        vertical-align: middle;\n",
       "    }\n",
       "\n",
       "    .dataframe tbody tr th {\n",
       "        vertical-align: top;\n",
       "    }\n",
       "\n",
       "    .dataframe thead th {\n",
       "        text-align: right;\n",
       "    }\n",
       "</style>\n",
       "<table border=\"1\" class=\"dataframe\">\n",
       "  <thead>\n",
       "    <tr style=\"text-align: right;\">\n",
       "      <th></th>\n",
       "      <th>uf</th>\n",
       "      <th>quantidade</th>\n",
       "    </tr>\n",
       "  </thead>\n",
       "  <tbody>\n",
       "    <tr>\n",
       "      <th>0</th>\n",
       "      <td>SP</td>\n",
       "      <td>723</td>\n",
       "    </tr>\n",
       "    <tr>\n",
       "      <th>1</th>\n",
       "      <td>MG</td>\n",
       "      <td>670</td>\n",
       "    </tr>\n",
       "    <tr>\n",
       "      <th>2</th>\n",
       "      <td>RJ</td>\n",
       "      <td>530</td>\n",
       "    </tr>\n",
       "    <tr>\n",
       "      <th>3</th>\n",
       "      <td>BA</td>\n",
       "      <td>510</td>\n",
       "    </tr>\n",
       "    <tr>\n",
       "      <th>4</th>\n",
       "      <td>CE</td>\n",
       "      <td>507</td>\n",
       "    </tr>\n",
       "    <tr>\n",
       "      <th>5</th>\n",
       "      <td>PE</td>\n",
       "      <td>496</td>\n",
       "    </tr>\n",
       "    <tr>\n",
       "      <th>6</th>\n",
       "      <td>GO</td>\n",
       "      <td>494</td>\n",
       "    </tr>\n",
       "    <tr>\n",
       "      <th>7</th>\n",
       "      <td>PR</td>\n",
       "      <td>484</td>\n",
       "    </tr>\n",
       "    <tr>\n",
       "      <th>8</th>\n",
       "      <td>RS</td>\n",
       "      <td>480</td>\n",
       "    </tr>\n",
       "    <tr>\n",
       "      <th>9</th>\n",
       "      <td>PA</td>\n",
       "      <td>442</td>\n",
       "    </tr>\n",
       "    <tr>\n",
       "      <th>10</th>\n",
       "      <td>MA</td>\n",
       "      <td>409</td>\n",
       "    </tr>\n",
       "    <tr>\n",
       "      <th>11</th>\n",
       "      <td>MT</td>\n",
       "      <td>382</td>\n",
       "    </tr>\n",
       "    <tr>\n",
       "      <th>12</th>\n",
       "      <td>PB</td>\n",
       "      <td>380</td>\n",
       "    </tr>\n",
       "    <tr>\n",
       "      <th>13</th>\n",
       "      <td>RN</td>\n",
       "      <td>380</td>\n",
       "    </tr>\n",
       "    <tr>\n",
       "      <th>14</th>\n",
       "      <td>SC</td>\n",
       "      <td>369</td>\n",
       "    </tr>\n",
       "    <tr>\n",
       "      <th>15</th>\n",
       "      <td>AL</td>\n",
       "      <td>353</td>\n",
       "    </tr>\n",
       "    <tr>\n",
       "      <th>16</th>\n",
       "      <td>ES</td>\n",
       "      <td>341</td>\n",
       "    </tr>\n",
       "    <tr>\n",
       "      <th>17</th>\n",
       "      <td>DF</td>\n",
       "      <td>334</td>\n",
       "    </tr>\n",
       "    <tr>\n",
       "      <th>18</th>\n",
       "      <td>SE</td>\n",
       "      <td>315</td>\n",
       "    </tr>\n",
       "    <tr>\n",
       "      <th>19</th>\n",
       "      <td>PI</td>\n",
       "      <td>297</td>\n",
       "    </tr>\n",
       "    <tr>\n",
       "      <th>20</th>\n",
       "      <td>MS</td>\n",
       "      <td>290</td>\n",
       "    </tr>\n",
       "    <tr>\n",
       "      <th>21</th>\n",
       "      <td>AM</td>\n",
       "      <td>287</td>\n",
       "    </tr>\n",
       "    <tr>\n",
       "      <th>22</th>\n",
       "      <td>TO</td>\n",
       "      <td>255</td>\n",
       "    </tr>\n",
       "    <tr>\n",
       "      <th>23</th>\n",
       "      <td>RO</td>\n",
       "      <td>229</td>\n",
       "    </tr>\n",
       "    <tr>\n",
       "      <th>24</th>\n",
       "      <td>AC</td>\n",
       "      <td>194</td>\n",
       "    </tr>\n",
       "    <tr>\n",
       "      <th>25</th>\n",
       "      <td>AP</td>\n",
       "      <td>175</td>\n",
       "    </tr>\n",
       "    <tr>\n",
       "      <th>26</th>\n",
       "      <td>RR</td>\n",
       "      <td>109</td>\n",
       "    </tr>\n",
       "  </tbody>\n",
       "</table>\n",
       "</div>"
      ],
      "text/plain": [
       "    uf  quantidade\n",
       "0   SP         723\n",
       "1   MG         670\n",
       "2   RJ         530\n",
       "3   BA         510\n",
       "4   CE         507\n",
       "5   PE         496\n",
       "6   GO         494\n",
       "7   PR         484\n",
       "8   RS         480\n",
       "9   PA         442\n",
       "10  MA         409\n",
       "11  MT         382\n",
       "12  PB         380\n",
       "13  RN         380\n",
       "14  SC         369\n",
       "15  AL         353\n",
       "16  ES         341\n",
       "17  DF         334\n",
       "18  SE         315\n",
       "19  PI         297\n",
       "20  MS         290\n",
       "21  AM         287\n",
       "22  TO         255\n",
       "23  RO         229\n",
       "24  AC         194\n",
       "25  AP         175\n",
       "26  RR         109"
      ]
     },
     "execution_count": 124,
     "metadata": {},
     "output_type": "execute_result"
    }
   ],
   "source": [
    "estados_df"
   ]
  },
  {
   "cell_type": "code",
   "execution_count": 125,
   "id": "d1a8085d-06eb-4a13-a668-da21d38fc6a9",
   "metadata": {},
   "outputs": [
    {
     "name": "stdout",
     "output_type": "stream",
     "text": [
      "Requirement already satisfied: matplotlib in /home/parallels/anaconda3/lib/python3.11/site-packages (3.8.0)\n",
      "Requirement already satisfied: contourpy>=1.0.1 in /home/parallels/anaconda3/lib/python3.11/site-packages (from matplotlib) (1.2.0)\n",
      "Requirement already satisfied: cycler>=0.10 in /home/parallels/anaconda3/lib/python3.11/site-packages (from matplotlib) (0.11.0)\n",
      "Requirement already satisfied: fonttools>=4.22.0 in /home/parallels/anaconda3/lib/python3.11/site-packages (from matplotlib) (4.25.0)\n",
      "Requirement already satisfied: kiwisolver>=1.0.1 in /home/parallels/anaconda3/lib/python3.11/site-packages (from matplotlib) (1.4.4)\n",
      "Requirement already satisfied: numpy<2,>=1.21 in /home/parallels/anaconda3/lib/python3.11/site-packages (from matplotlib) (1.26.4)\n",
      "Requirement already satisfied: packaging>=20.0 in /home/parallels/anaconda3/lib/python3.11/site-packages (from matplotlib) (23.1)\n",
      "Requirement already satisfied: pillow>=6.2.0 in /home/parallels/anaconda3/lib/python3.11/site-packages (from matplotlib) (10.2.0)\n",
      "Requirement already satisfied: pyparsing>=2.3.1 in /home/parallels/anaconda3/lib/python3.11/site-packages (from matplotlib) (3.0.9)\n",
      "Requirement already satisfied: python-dateutil>=2.7 in /home/parallels/anaconda3/lib/python3.11/site-packages (from matplotlib) (2.8.2)\n",
      "Requirement already satisfied: six>=1.5 in /home/parallels/anaconda3/lib/python3.11/site-packages (from python-dateutil>=2.7->matplotlib) (1.16.0)\n",
      "Note: you may need to restart the kernel to use updated packages.\n"
     ]
    }
   ],
   "source": [
    "pip install matplotlib"
   ]
  },
  {
   "cell_type": "code",
   "execution_count": 126,
   "id": "3536f87e",
   "metadata": {},
   "outputs": [],
   "source": [
    "import matplotlib.pyplot as plt"
   ]
  },
  {
   "cell_type": "markdown",
   "id": "7b37157a-8591-4553-94af-a97d666a0e06",
   "metadata": {},
   "source": [
    "Gráfico da quantidade de estados"
   ]
  },
  {
   "cell_type": "code",
   "execution_count": 127,
   "id": "50feba67-5bdf-4685-ae31-d7b4f0139fbd",
   "metadata": {},
   "outputs": [
    {
     "data": {
      "image/png": "[encoded data removed]",
      "text/plain": [
       "<Figure size 1000x600 with 1 Axes>"
      ]
     },
     "metadata": {},
     "output_type": "display_data"
    }
   ],
   "source": [
    "fig, ax = plt.subplots(figsize=(10, 6))  # Set the figure size\n",
    "\n",
    "# Calculate the counts of each state\n",
    "counts = estados_df['quantidade']\n",
    "\n",
    "# Extract the state names\n",
    "estados_nomes = estados_df['uf']\n",
    "\n",
    "# Plotting the bar chart\n",
    "ax.bar(estados_nomes, counts)\n",
    "\n",
    "ax.set_ylabel('Count')  # Label for y-axis\n",
    "ax.set_xlabel('Estados')  # Label for x-axis\n",
    "ax.set_title('Quantidade de Estados')  # Title of the plot\n",
    "\n",
    "# Rotate the x-axis labels for better readability if needed\n",
    "plt.xticks(rotation=90)\n",
    "\n",
    "plt.show()"
   ]
  },
  {
   "cell_type": "markdown",
   "id": "82625215-2b83-47ff-bf2f-b720393cf961",
   "metadata": {},
   "source": [
    "### Análise da coluna tipo doença"
   ]
  },
  {
   "cell_type": "code",
   "execution_count": 128,
   "id": "13012882-9672-44ab-a5a6-a2f621b25fd4",
   "metadata": {},
   "outputs": [
    {
     "data": {
      "text/html": [
       "<div>\n",
       "<style scoped>\n",
       "    .dataframe tbody tr th:only-of-type {\n",
       "        vertical-align: middle;\n",
       "    }\n",
       "\n",
       "    .dataframe tbody tr th {\n",
       "        vertical-align: top;\n",
       "    }\n",
       "\n",
       "    .dataframe thead th {\n",
       "        text-align: right;\n",
       "    }\n",
       "</style>\n",
       "<table border=\"1\" class=\"dataframe\">\n",
       "  <thead>\n",
       "    <tr style=\"text-align: right;\">\n",
       "      <th></th>\n",
       "      <th>uf</th>\n",
       "      <th>tipo_doenca</th>\n",
       "      <th>local_obito</th>\n",
       "      <th>faixa_etaria</th>\n",
       "      <th>sexo</th>\n",
       "      <th>total</th>\n",
       "    </tr>\n",
       "  </thead>\n",
       "  <tbody>\n",
       "    <tr>\n",
       "      <th>0</th>\n",
       "      <td>AC</td>\n",
       "      <td>OUTRAS</td>\n",
       "      <td>DOMICILIO</td>\n",
       "      <td>&lt; 9</td>\n",
       "      <td>F</td>\n",
       "      <td>4</td>\n",
       "    </tr>\n",
       "    <tr>\n",
       "      <th>1</th>\n",
       "      <td>AC</td>\n",
       "      <td>OUTRAS</td>\n",
       "      <td>DOMICILIO</td>\n",
       "      <td>&lt; 9</td>\n",
       "      <td>M</td>\n",
       "      <td>7</td>\n",
       "    </tr>\n",
       "    <tr>\n",
       "      <th>2</th>\n",
       "      <td>AC</td>\n",
       "      <td>OUTRAS</td>\n",
       "      <td>HOSPITAL</td>\n",
       "      <td>&lt; 9</td>\n",
       "      <td>F</td>\n",
       "      <td>19</td>\n",
       "    </tr>\n",
       "    <tr>\n",
       "      <th>3</th>\n",
       "      <td>AC</td>\n",
       "      <td>OUTRAS</td>\n",
       "      <td>HOSPITAL</td>\n",
       "      <td>&lt; 9</td>\n",
       "      <td>I</td>\n",
       "      <td>1</td>\n",
       "    </tr>\n",
       "    <tr>\n",
       "      <th>4</th>\n",
       "      <td>AC</td>\n",
       "      <td>OUTRAS</td>\n",
       "      <td>HOSPITAL</td>\n",
       "      <td>&lt; 9</td>\n",
       "      <td>M</td>\n",
       "      <td>26</td>\n",
       "    </tr>\n",
       "    <tr>\n",
       "      <th>...</th>\n",
       "      <td>...</td>\n",
       "      <td>...</td>\n",
       "      <td>...</td>\n",
       "      <td>...</td>\n",
       "      <td>...</td>\n",
       "      <td>...</td>\n",
       "    </tr>\n",
       "    <tr>\n",
       "      <th>10430</th>\n",
       "      <td>TO</td>\n",
       "      <td>SEPTICEMIA</td>\n",
       "      <td>HOSPITAL</td>\n",
       "      <td>N/I</td>\n",
       "      <td>F</td>\n",
       "      <td>7</td>\n",
       "    </tr>\n",
       "    <tr>\n",
       "      <th>10431</th>\n",
       "      <td>TO</td>\n",
       "      <td>SEPTICEMIA</td>\n",
       "      <td>HOSPITAL</td>\n",
       "      <td>N/I</td>\n",
       "      <td>I</td>\n",
       "      <td>1</td>\n",
       "    </tr>\n",
       "    <tr>\n",
       "      <th>10432</th>\n",
       "      <td>TO</td>\n",
       "      <td>SEPTICEMIA</td>\n",
       "      <td>HOSPITAL</td>\n",
       "      <td>N/I</td>\n",
       "      <td>M</td>\n",
       "      <td>22</td>\n",
       "    </tr>\n",
       "    <tr>\n",
       "      <th>10433</th>\n",
       "      <td>TO</td>\n",
       "      <td>SRAG</td>\n",
       "      <td>HOSPITAL</td>\n",
       "      <td>N/I</td>\n",
       "      <td>F</td>\n",
       "      <td>1</td>\n",
       "    </tr>\n",
       "    <tr>\n",
       "      <th>10434</th>\n",
       "      <td>TO</td>\n",
       "      <td>SRAG</td>\n",
       "      <td>HOSPITAL</td>\n",
       "      <td>N/I</td>\n",
       "      <td>M</td>\n",
       "      <td>1</td>\n",
       "    </tr>\n",
       "  </tbody>\n",
       "</table>\n",
       "<p>10435 rows × 6 columns</p>\n",
       "</div>"
      ],
      "text/plain": [
       "       uf tipo_doenca local_obito faixa_etaria sexo  total\n",
       "0      AC      OUTRAS   DOMICILIO          < 9    F      4\n",
       "1      AC      OUTRAS   DOMICILIO          < 9    M      7\n",
       "2      AC      OUTRAS    HOSPITAL          < 9    F     19\n",
       "3      AC      OUTRAS    HOSPITAL          < 9    I      1\n",
       "4      AC      OUTRAS    HOSPITAL          < 9    M     26\n",
       "...    ..         ...         ...          ...  ...    ...\n",
       "10430  TO  SEPTICEMIA    HOSPITAL          N/I    F      7\n",
       "10431  TO  SEPTICEMIA    HOSPITAL          N/I    I      1\n",
       "10432  TO  SEPTICEMIA    HOSPITAL          N/I    M     22\n",
       "10433  TO        SRAG    HOSPITAL          N/I    F      1\n",
       "10434  TO        SRAG    HOSPITAL          N/I    M      1\n",
       "\n",
       "[10435 rows x 6 columns]"
      ]
     },
     "execution_count": 128,
     "metadata": {},
     "output_type": "execute_result"
    }
   ],
   "source": [
    "data"
   ]
  },
  {
   "cell_type": "code",
   "execution_count": 129,
   "id": "089c26b2-2d41-4331-be3f-297fe7fae451",
   "metadata": {},
   "outputs": [
    {
     "data": {
      "text/plain": [
       "0            OUTRAS\n",
       "1            OUTRAS\n",
       "2            OUTRAS\n",
       "3            OUTRAS\n",
       "4            OUTRAS\n",
       "            ...    \n",
       "10430    SEPTICEMIA\n",
       "10431    SEPTICEMIA\n",
       "10432    SEPTICEMIA\n",
       "10433          SRAG\n",
       "10434          SRAG\n",
       "Name: tipo_doenca, Length: 10435, dtype: object"
      ]
     },
     "execution_count": 129,
     "metadata": {},
     "output_type": "execute_result"
    }
   ],
   "source": [
    "data.tipo_doenca"
   ]
  },
  {
   "cell_type": "code",
   "execution_count": 130,
   "id": "2c9262fc-1591-44e4-832f-8a8c2a563971",
   "metadata": {},
   "outputs": [
    {
     "data": {
      "text/plain": [
       "tipo_doenca\n",
       "OUTRAS                        3160\n",
       "PNEUMONIA                     1820\n",
       "INSUFICIENCIA_RESPIRATORIA    1806\n",
       "SEPTICEMIA                    1647\n",
       "INDETERMINADA                  862\n",
       "COVID                          626\n",
       "SRAG                           514\n",
       "Name: count, dtype: int64"
      ]
     },
     "execution_count": 130,
     "metadata": {},
     "output_type": "execute_result"
    }
   ],
   "source": [
    "data.tipo_doenca.value_counts()"
   ]
  },
  {
   "cell_type": "code",
   "execution_count": 131,
   "id": "f15e8f51-0888-4051-9665-509a8f01aa8c",
   "metadata": {},
   "outputs": [],
   "source": [
    "tipo_doenca_quantidade = data['tipo_doenca'].value_counts()"
   ]
  },
  {
   "cell_type": "code",
   "execution_count": 132,
   "id": "38ee4ec0-7456-4776-9169-ca562ca4d497",
   "metadata": {},
   "outputs": [
    {
     "name": "stdout",
     "output_type": "stream",
     "text": [
      "                  tipo_doenca  quantidade\n",
      "0                      OUTRAS        3160\n",
      "1                   PNEUMONIA        1820\n",
      "2  INSUFICIENCIA_RESPIRATORIA        1806\n",
      "3                  SEPTICEMIA        1647\n",
      "4               INDETERMINADA         862\n",
      "5                       COVID         626\n",
      "6                        SRAG         514\n"
     ]
    }
   ],
   "source": [
    "df_tipo_doenca = tipo_doenca_quantidade.rename_axis('tipo_doenca').reset_index(name='quantidade')\n",
    "print(df_tipo_doenca)\n",
    "df_tipo_doenca.to_csv('tipo_doenca.csv')"
   ]
  },
  {
   "cell_type": "code",
   "execution_count": 133,
   "id": "19f0c456-a152-47e5-8dfe-f2103328cc22",
   "metadata": {},
   "outputs": [],
   "source": [
    "df_tipo_doenca = pd.read_csv('tipo_doenca.csv')"
   ]
  },
  {
   "cell_type": "code",
   "execution_count": 134,
   "id": "d4da5e78-49b1-4173-aade-254865916ad1",
   "metadata": {},
   "outputs": [],
   "source": [
    "df_tipo_doenca\n",
    "df_tipo_doenca.drop(df_tipo_doenca.filter(regex=\"Unname\"),axis=1, inplace=True)"
   ]
  },
  {
   "cell_type": "code",
   "execution_count": 135,
   "id": "69bc4485-5adb-4986-a7fb-a3e3068a9982",
   "metadata": {},
   "outputs": [
    {
     "data": {
      "text/html": [
       "<div>\n",
       "<style scoped>\n",
       "    .dataframe tbody tr th:only-of-type {\n",
       "        vertical-align: middle;\n",
       "    }\n",
       "\n",
       "    .dataframe tbody tr th {\n",
       "        vertical-align: top;\n",
       "    }\n",
       "\n",
       "    .dataframe thead th {\n",
       "        text-align: right;\n",
       "    }\n",
       "</style>\n",
       "<table border=\"1\" class=\"dataframe\">\n",
       "  <thead>\n",
       "    <tr style=\"text-align: right;\">\n",
       "      <th></th>\n",
       "      <th>tipo_doenca</th>\n",
       "      <th>quantidade</th>\n",
       "    </tr>\n",
       "  </thead>\n",
       "  <tbody>\n",
       "    <tr>\n",
       "      <th>0</th>\n",
       "      <td>OUTRAS</td>\n",
       "      <td>3160</td>\n",
       "    </tr>\n",
       "    <tr>\n",
       "      <th>1</th>\n",
       "      <td>PNEUMONIA</td>\n",
       "      <td>1820</td>\n",
       "    </tr>\n",
       "    <tr>\n",
       "      <th>2</th>\n",
       "      <td>INSUFICIENCIA_RESPIRATORIA</td>\n",
       "      <td>1806</td>\n",
       "    </tr>\n",
       "    <tr>\n",
       "      <th>3</th>\n",
       "      <td>SEPTICEMIA</td>\n",
       "      <td>1647</td>\n",
       "    </tr>\n",
       "    <tr>\n",
       "      <th>4</th>\n",
       "      <td>INDETERMINADA</td>\n",
       "      <td>862</td>\n",
       "    </tr>\n",
       "    <tr>\n",
       "      <th>5</th>\n",
       "      <td>COVID</td>\n",
       "      <td>626</td>\n",
       "    </tr>\n",
       "    <tr>\n",
       "      <th>6</th>\n",
       "      <td>SRAG</td>\n",
       "      <td>514</td>\n",
       "    </tr>\n",
       "  </tbody>\n",
       "</table>\n",
       "</div>"
      ],
      "text/plain": [
       "                  tipo_doenca  quantidade\n",
       "0                      OUTRAS        3160\n",
       "1                   PNEUMONIA        1820\n",
       "2  INSUFICIENCIA_RESPIRATORIA        1806\n",
       "3                  SEPTICEMIA        1647\n",
       "4               INDETERMINADA         862\n",
       "5                       COVID         626\n",
       "6                        SRAG         514"
      ]
     },
     "execution_count": 135,
     "metadata": {},
     "output_type": "execute_result"
    }
   ],
   "source": [
    "df_tipo_doenca"
   ]
  },
  {
   "cell_type": "markdown",
   "id": "02bc5ad3-0bd9-4724-9578-cdf45378cf60",
   "metadata": {},
   "source": [
    "Gráfico de quantidade -> tipo doença"
   ]
  },
  {
   "cell_type": "code",
   "execution_count": 136,
   "id": "a75f9497-33ac-47e2-a488-a3f8e21f586e",
   "metadata": {},
   "outputs": [
    {
     "data": {
      "image/png": "[encoded data removed]",
      "text/plain": [
       "<Figure size 1000x1500 with 1 Axes>"
      ]
     },
     "metadata": {},
     "output_type": "display_data"
    }
   ],
   "source": [
    "fig, ax = plt.subplots(figsize=(10, 15))  # Set the figure size\n",
    "\n",
    "# Calculate the counts of each state\n",
    "counts = df_tipo_doenca['quantidade']\n",
    "\n",
    "# Extract the state names\n",
    "tipo_doenca_index = df_tipo_doenca['tipo_doenca']\n",
    "\n",
    "# Plotting the bar chart\n",
    "ax.bar(tipo_doenca_index, counts)\n",
    "\n",
    "ax.set_ylabel('Count')  # Label for y-axis\n",
    "ax.set_xlabel('Tipo Doença')  # Label for x-axis\n",
    "ax.set_title('Quantidade de tipo doeça')  # Title of the plot\n",
    "\n",
    "# Rotate the x-axis labels for better readability if needed\n",
    "plt.xticks(rotation=90)\n",
    "\n",
    "plt.show()"
   ]
  },
  {
   "cell_type": "markdown",
   "id": "8d993fe0",
   "metadata": {},
   "source": [
    "### Quantidade de Local Obito"
   ]
  },
  {
   "cell_type": "code",
   "execution_count": 137,
   "id": "e89d8fa9",
   "metadata": {},
   "outputs": [],
   "source": [
    "local_obito = data.local_obito"
   ]
  },
  {
   "cell_type": "code",
   "execution_count": 138,
   "id": "0ccb9fd1",
   "metadata": {},
   "outputs": [],
   "source": [
    "local_obito_quantidade = local_obito.value_counts()"
   ]
  },
  {
   "cell_type": "code",
   "execution_count": 139,
   "id": "526bc28c",
   "metadata": {},
   "outputs": [
    {
     "name": "stdout",
     "output_type": "stream",
     "text": [
      "             local_obito  quantidade\n",
      "0               HOSPITAL        3519\n",
      "1              DOMICILIO        2235\n",
      "2  OUTROS_SERVICOS_SAUDE        1603\n",
      "3                  OUTRO        1377\n",
      "4               IGNORADO         882\n",
      "5            VIA_PUBLICA         694\n",
      "6            POSTO_SAUDE          88\n",
      "7             AMBULANCIA          37\n"
     ]
    }
   ],
   "source": [
    "df_local_obito = local_obito_quantidade.rename_axis('local_obito').reset_index(name='quantidade')\n",
    "print(df_local_obito)\n",
    "df_local_obito.to_csv('local_obito.csv')"
   ]
  },
  {
   "cell_type": "code",
   "execution_count": 140,
   "id": "c18c79df",
   "metadata": {},
   "outputs": [],
   "source": [
    "df_local_obito = pd.read_csv('local_obito.csv')"
   ]
  },
  {
   "cell_type": "code",
   "execution_count": 141,
   "id": "3f45ce32",
   "metadata": {},
   "outputs": [
    {
     "data": {
      "text/html": [
       "<div>\n",
       "<style scoped>\n",
       "    .dataframe tbody tr th:only-of-type {\n",
       "        vertical-align: middle;\n",
       "    }\n",
       "\n",
       "    .dataframe tbody tr th {\n",
       "        vertical-align: top;\n",
       "    }\n",
       "\n",
       "    .dataframe thead th {\n",
       "        text-align: right;\n",
       "    }\n",
       "</style>\n",
       "<table border=\"1\" class=\"dataframe\">\n",
       "  <thead>\n",
       "    <tr style=\"text-align: right;\">\n",
       "      <th></th>\n",
       "      <th>Unnamed: 0</th>\n",
       "      <th>local_obito</th>\n",
       "      <th>quantidade</th>\n",
       "    </tr>\n",
       "  </thead>\n",
       "  <tbody>\n",
       "    <tr>\n",
       "      <th>0</th>\n",
       "      <td>0</td>\n",
       "      <td>HOSPITAL</td>\n",
       "      <td>3519</td>\n",
       "    </tr>\n",
       "    <tr>\n",
       "      <th>1</th>\n",
       "      <td>1</td>\n",
       "      <td>DOMICILIO</td>\n",
       "      <td>2235</td>\n",
       "    </tr>\n",
       "    <tr>\n",
       "      <th>2</th>\n",
       "      <td>2</td>\n",
       "      <td>OUTROS_SERVICOS_SAUDE</td>\n",
       "      <td>1603</td>\n",
       "    </tr>\n",
       "    <tr>\n",
       "      <th>3</th>\n",
       "      <td>3</td>\n",
       "      <td>OUTRO</td>\n",
       "      <td>1377</td>\n",
       "    </tr>\n",
       "    <tr>\n",
       "      <th>4</th>\n",
       "      <td>4</td>\n",
       "      <td>IGNORADO</td>\n",
       "      <td>882</td>\n",
       "    </tr>\n",
       "    <tr>\n",
       "      <th>5</th>\n",
       "      <td>5</td>\n",
       "      <td>VIA_PUBLICA</td>\n",
       "      <td>694</td>\n",
       "    </tr>\n",
       "    <tr>\n",
       "      <th>6</th>\n",
       "      <td>6</td>\n",
       "      <td>POSTO_SAUDE</td>\n",
       "      <td>88</td>\n",
       "    </tr>\n",
       "    <tr>\n",
       "      <th>7</th>\n",
       "      <td>7</td>\n",
       "      <td>AMBULANCIA</td>\n",
       "      <td>37</td>\n",
       "    </tr>\n",
       "  </tbody>\n",
       "</table>\n",
       "</div>"
      ],
      "text/plain": [
       "   Unnamed: 0            local_obito  quantidade\n",
       "0           0               HOSPITAL        3519\n",
       "1           1              DOMICILIO        2235\n",
       "2           2  OUTROS_SERVICOS_SAUDE        1603\n",
       "3           3                  OUTRO        1377\n",
       "4           4               IGNORADO         882\n",
       "5           5            VIA_PUBLICA         694\n",
       "6           6            POSTO_SAUDE          88\n",
       "7           7             AMBULANCIA          37"
      ]
     },
     "execution_count": 141,
     "metadata": {},
     "output_type": "execute_result"
    }
   ],
   "source": [
    "df_local_obito"
   ]
  },
  {
   "cell_type": "code",
   "execution_count": 142,
   "id": "196bf171",
   "metadata": {},
   "outputs": [],
   "source": [
    "df_local_obito.drop(df_local_obito.filter(regex=\"Unname\"),axis=1, inplace=True)"
   ]
  },
  {
   "cell_type": "code",
   "execution_count": 143,
   "id": "1261715e",
   "metadata": {},
   "outputs": [
    {
     "data": {
      "text/html": [
       "<div>\n",
       "<style scoped>\n",
       "    .dataframe tbody tr th:only-of-type {\n",
       "        vertical-align: middle;\n",
       "    }\n",
       "\n",
       "    .dataframe tbody tr th {\n",
       "        vertical-align: top;\n",
       "    }\n",
       "\n",
       "    .dataframe thead th {\n",
       "        text-align: right;\n",
       "    }\n",
       "</style>\n",
       "<table border=\"1\" class=\"dataframe\">\n",
       "  <thead>\n",
       "    <tr style=\"text-align: right;\">\n",
       "      <th></th>\n",
       "      <th>local_obito</th>\n",
       "      <th>quantidade</th>\n",
       "    </tr>\n",
       "  </thead>\n",
       "  <tbody>\n",
       "    <tr>\n",
       "      <th>0</th>\n",
       "      <td>HOSPITAL</td>\n",
       "      <td>3519</td>\n",
       "    </tr>\n",
       "    <tr>\n",
       "      <th>1</th>\n",
       "      <td>DOMICILIO</td>\n",
       "      <td>2235</td>\n",
       "    </tr>\n",
       "    <tr>\n",
       "      <th>2</th>\n",
       "      <td>OUTROS_SERVICOS_SAUDE</td>\n",
       "      <td>1603</td>\n",
       "    </tr>\n",
       "    <tr>\n",
       "      <th>3</th>\n",
       "      <td>OUTRO</td>\n",
       "      <td>1377</td>\n",
       "    </tr>\n",
       "    <tr>\n",
       "      <th>4</th>\n",
       "      <td>IGNORADO</td>\n",
       "      <td>882</td>\n",
       "    </tr>\n",
       "    <tr>\n",
       "      <th>5</th>\n",
       "      <td>VIA_PUBLICA</td>\n",
       "      <td>694</td>\n",
       "    </tr>\n",
       "    <tr>\n",
       "      <th>6</th>\n",
       "      <td>POSTO_SAUDE</td>\n",
       "      <td>88</td>\n",
       "    </tr>\n",
       "    <tr>\n",
       "      <th>7</th>\n",
       "      <td>AMBULANCIA</td>\n",
       "      <td>37</td>\n",
       "    </tr>\n",
       "  </tbody>\n",
       "</table>\n",
       "</div>"
      ],
      "text/plain": [
       "             local_obito  quantidade\n",
       "0               HOSPITAL        3519\n",
       "1              DOMICILIO        2235\n",
       "2  OUTROS_SERVICOS_SAUDE        1603\n",
       "3                  OUTRO        1377\n",
       "4               IGNORADO         882\n",
       "5            VIA_PUBLICA         694\n",
       "6            POSTO_SAUDE          88\n",
       "7             AMBULANCIA          37"
      ]
     },
     "execution_count": 143,
     "metadata": {},
     "output_type": "execute_result"
    }
   ],
   "source": [
    "df_local_obito"
   ]
  },
  {
   "cell_type": "code",
   "execution_count": 144,
   "id": "7c63f5be",
   "metadata": {},
   "outputs": [
    {
     "data": {
      "image/png": "[encoded data removed]",
      "text/plain": [
       "<Figure size 1000x600 with 1 Axes>"
      ]
     },
     "metadata": {},
     "output_type": "display_data"
    }
   ],
   "source": [
    "fig, ax = plt.subplots(figsize=(10, 6))  # Set the figure size\n",
    "\n",
    "# Calculate the counts of each state\n",
    "counts = df_local_obito['quantidade']\n",
    "\n",
    "# Extract the state names\n",
    "local_obito_index = df_local_obito['local_obito']\n",
    "\n",
    "# Plotting the bar chart\n",
    "ax.bar(local_obito_index, counts)\n",
    "\n",
    "ax.set_ylabel('Count')  # Label for y-axis\n",
    "ax.set_xlabel('Local obito')  # Label for x-axis\n",
    "ax.set_title('Quantidade de Local obito')  # Title of the plot\n",
    "\n",
    "# Rotate the x-axis labels for better readability if needed\n",
    "plt.xticks(rotation=90)\n",
    "\n",
    "plt.show()"
   ]
  },
  {
   "cell_type": "markdown",
   "id": "0d1185e8",
   "metadata": {},
   "source": [
    "### Quantidade Faixa Etária"
   ]
  },
  {
   "cell_type": "code",
   "execution_count": 145,
   "id": "3b40adef",
   "metadata": {},
   "outputs": [
    {
     "data": {
      "text/plain": [
       "0        < 9\n",
       "1        < 9\n",
       "2        < 9\n",
       "3        < 9\n",
       "4        < 9\n",
       "        ... \n",
       "10430    N/I\n",
       "10431    N/I\n",
       "10432    N/I\n",
       "10433    N/I\n",
       "10434    N/I\n",
       "Name: faixa_etaria, Length: 10435, dtype: object"
      ]
     },
     "execution_count": 145,
     "metadata": {},
     "output_type": "execute_result"
    }
   ],
   "source": [
    "data.faixa_etaria"
   ]
  },
  {
   "cell_type": "code",
   "execution_count": 146,
   "id": "f99f6d56",
   "metadata": {},
   "outputs": [],
   "source": [
    "quantidade_faixa_etaria = data.faixa_etaria.value_counts()"
   ]
  },
  {
   "cell_type": "code",
   "execution_count": 147,
   "id": "1608751d",
   "metadata": {},
   "outputs": [
    {
     "data": {
      "text/plain": [
       "faixa_etaria\n",
       "80 - 89    1250\n",
       "70 - 79    1236\n",
       "60 - 69    1174\n",
       "50 - 59    1083\n",
       "90 - 99    1020\n",
       "40 - 49     953\n",
       "30 - 39     829\n",
       "< 9         726\n",
       "20 - 29     691\n",
       "> 100       555\n",
       "10 - 19     492\n",
       "N/I         426\n",
       "Name: count, dtype: int64"
      ]
     },
     "execution_count": 147,
     "metadata": {},
     "output_type": "execute_result"
    }
   ],
   "source": [
    "quantidade_faixa_etaria"
   ]
  },
  {
   "cell_type": "code",
   "execution_count": 148,
   "id": "8d6597b4",
   "metadata": {},
   "outputs": [
    {
     "name": "stdout",
     "output_type": "stream",
     "text": [
      "   faixa_etaria  quantidade\n",
      "0       80 - 89        1250\n",
      "1       70 - 79        1236\n",
      "2       60 - 69        1174\n",
      "3       50 - 59        1083\n",
      "4       90 - 99        1020\n",
      "5       40 - 49         953\n",
      "6       30 - 39         829\n",
      "7           < 9         726\n",
      "8       20 - 29         691\n",
      "9         > 100         555\n",
      "10      10 - 19         492\n",
      "11          N/I         426\n"
     ]
    }
   ],
   "source": [
    "df_faixa_etaria = quantidade_faixa_etaria.rename_axis('faixa_etaria').reset_index(name='quantidade')\n",
    "print(df_faixa_etaria)\n",
    "df_faixa_etaria.to_csv('faixa_etaria.csv')"
   ]
  },
  {
   "cell_type": "code",
   "execution_count": 149,
   "id": "9f8fb5ef",
   "metadata": {},
   "outputs": [
    {
     "data": {
      "text/html": [
       "<div>\n",
       "<style scoped>\n",
       "    .dataframe tbody tr th:only-of-type {\n",
       "        vertical-align: middle;\n",
       "    }\n",
       "\n",
       "    .dataframe tbody tr th {\n",
       "        vertical-align: top;\n",
       "    }\n",
       "\n",
       "    .dataframe thead th {\n",
       "        text-align: right;\n",
       "    }\n",
       "</style>\n",
       "<table border=\"1\" class=\"dataframe\">\n",
       "  <thead>\n",
       "    <tr style=\"text-align: right;\">\n",
       "      <th></th>\n",
       "      <th>faixa_etaria</th>\n",
       "      <th>quantidade</th>\n",
       "    </tr>\n",
       "  </thead>\n",
       "  <tbody>\n",
       "    <tr>\n",
       "      <th>0</th>\n",
       "      <td>80 - 89</td>\n",
       "      <td>1250</td>\n",
       "    </tr>\n",
       "    <tr>\n",
       "      <th>1</th>\n",
       "      <td>70 - 79</td>\n",
       "      <td>1236</td>\n",
       "    </tr>\n",
       "    <tr>\n",
       "      <th>2</th>\n",
       "      <td>60 - 69</td>\n",
       "      <td>1174</td>\n",
       "    </tr>\n",
       "    <tr>\n",
       "      <th>3</th>\n",
       "      <td>50 - 59</td>\n",
       "      <td>1083</td>\n",
       "    </tr>\n",
       "    <tr>\n",
       "      <th>4</th>\n",
       "      <td>90 - 99</td>\n",
       "      <td>1020</td>\n",
       "    </tr>\n",
       "    <tr>\n",
       "      <th>5</th>\n",
       "      <td>40 - 49</td>\n",
       "      <td>953</td>\n",
       "    </tr>\n",
       "    <tr>\n",
       "      <th>6</th>\n",
       "      <td>30 - 39</td>\n",
       "      <td>829</td>\n",
       "    </tr>\n",
       "    <tr>\n",
       "      <th>7</th>\n",
       "      <td>&lt; 9</td>\n",
       "      <td>726</td>\n",
       "    </tr>\n",
       "    <tr>\n",
       "      <th>8</th>\n",
       "      <td>20 - 29</td>\n",
       "      <td>691</td>\n",
       "    </tr>\n",
       "    <tr>\n",
       "      <th>9</th>\n",
       "      <td>&gt; 100</td>\n",
       "      <td>555</td>\n",
       "    </tr>\n",
       "    <tr>\n",
       "      <th>10</th>\n",
       "      <td>10 - 19</td>\n",
       "      <td>492</td>\n",
       "    </tr>\n",
       "    <tr>\n",
       "      <th>11</th>\n",
       "      <td>N/I</td>\n",
       "      <td>426</td>\n",
       "    </tr>\n",
       "  </tbody>\n",
       "</table>\n",
       "</div>"
      ],
      "text/plain": [
       "   faixa_etaria  quantidade\n",
       "0       80 - 89        1250\n",
       "1       70 - 79        1236\n",
       "2       60 - 69        1174\n",
       "3       50 - 59        1083\n",
       "4       90 - 99        1020\n",
       "5       40 - 49         953\n",
       "6       30 - 39         829\n",
       "7           < 9         726\n",
       "8       20 - 29         691\n",
       "9         > 100         555\n",
       "10      10 - 19         492\n",
       "11          N/I         426"
      ]
     },
     "execution_count": 149,
     "metadata": {},
     "output_type": "execute_result"
    }
   ],
   "source": [
    "df_faixa_etaria"
   ]
  },
  {
   "cell_type": "code",
   "execution_count": 150,
   "id": "75158bc2",
   "metadata": {},
   "outputs": [
    {
     "data": {
      "image/png": "[encoded data removed]",
      "text/plain": [
       "<Figure size 1000x600 with 1 Axes>"
      ]
     },
     "metadata": {},
     "output_type": "display_data"
    }
   ],
   "source": [
    "fig, ax = plt.subplots(figsize=(10, 6))  # Set the figure size\n",
    "\n",
    "# Calculate the counts of each state\n",
    "counts = df_faixa_etaria['quantidade']\n",
    "\n",
    "# Extract the state names\n",
    "faixa_etaria_index = df_faixa_etaria['faixa_etaria']\n",
    "\n",
    "# Plotting the bar chart\n",
    "ax.bar(faixa_etaria_index, counts)\n",
    "\n",
    "ax.set_ylabel('Count')  # Label for y-axis\n",
    "ax.set_xlabel('Faixa etária')  # Label for x-axis\n",
    "ax.set_title('Quantidade Faixa Etária')  # Title of the plot\n",
    "\n",
    "# Rotate the x-axis labels for better readability if needed\n",
    "plt.xticks(rotation=90)\n",
    "\n",
    "plt.show()"
   ]
  },
  {
   "cell_type": "markdown",
   "id": "786da904",
   "metadata": {},
   "source": [
    "### Quantidade: SEXO"
   ]
  },
  {
   "cell_type": "code",
   "execution_count": 151,
   "id": "e702dd3b",
   "metadata": {
    "scrolled": true
   },
   "outputs": [
    {
     "data": {
      "text/plain": [
       "0        F\n",
       "1        M\n",
       "2        F\n",
       "3        I\n",
       "4        M\n",
       "        ..\n",
       "10430    F\n",
       "10431    I\n",
       "10432    M\n",
       "10433    F\n",
       "10434    M\n",
       "Name: sexo, Length: 10435, dtype: object"
      ]
     },
     "execution_count": 151,
     "metadata": {},
     "output_type": "execute_result"
    }
   ],
   "source": [
    "data.sexo"
   ]
  },
  {
   "cell_type": "code",
   "execution_count": 152,
   "id": "895b9923",
   "metadata": {},
   "outputs": [],
   "source": [
    "quantidade_genero = data.sexo.value_counts()"
   ]
  },
  {
   "cell_type": "code",
   "execution_count": 153,
   "id": "f54046d3",
   "metadata": {},
   "outputs": [
    {
     "name": "stdout",
     "output_type": "stream",
     "text": [
      "  genero  quantidade\n",
      "0      M        5347\n",
      "1      F        4871\n",
      "2      I         217\n"
     ]
    }
   ],
   "source": [
    "df_genero = quantidade_genero.rename_axis('genero').reset_index(name='quantidade')\n",
    "print(df_genero)\n",
    "df_genero.to_csv('sexo.csv')"
   ]
  },
  {
   "cell_type": "code",
   "execution_count": 154,
   "id": "835df268",
   "metadata": {},
   "outputs": [],
   "source": [
    "df_genero_data = pd.read_csv('sexo.csv')"
   ]
  },
  {
   "cell_type": "code",
   "execution_count": 155,
   "id": "1a66dbb7",
   "metadata": {},
   "outputs": [
    {
     "data": {
      "text/html": [
       "<div>\n",
       "<style scoped>\n",
       "    .dataframe tbody tr th:only-of-type {\n",
       "        vertical-align: middle;\n",
       "    }\n",
       "\n",
       "    .dataframe tbody tr th {\n",
       "        vertical-align: top;\n",
       "    }\n",
       "\n",
       "    .dataframe thead th {\n",
       "        text-align: right;\n",
       "    }\n",
       "</style>\n",
       "<table border=\"1\" class=\"dataframe\">\n",
       "  <thead>\n",
       "    <tr style=\"text-align: right;\">\n",
       "      <th></th>\n",
       "      <th>Unnamed: 0</th>\n",
       "      <th>genero</th>\n",
       "      <th>quantidade</th>\n",
       "    </tr>\n",
       "  </thead>\n",
       "  <tbody>\n",
       "    <tr>\n",
       "      <th>0</th>\n",
       "      <td>0</td>\n",
       "      <td>M</td>\n",
       "      <td>5347</td>\n",
       "    </tr>\n",
       "    <tr>\n",
       "      <th>1</th>\n",
       "      <td>1</td>\n",
       "      <td>F</td>\n",
       "      <td>4871</td>\n",
       "    </tr>\n",
       "    <tr>\n",
       "      <th>2</th>\n",
       "      <td>2</td>\n",
       "      <td>I</td>\n",
       "      <td>217</td>\n",
       "    </tr>\n",
       "  </tbody>\n",
       "</table>\n",
       "</div>"
      ],
      "text/plain": [
       "   Unnamed: 0 genero  quantidade\n",
       "0           0      M        5347\n",
       "1           1      F        4871\n",
       "2           2      I         217"
      ]
     },
     "execution_count": 155,
     "metadata": {},
     "output_type": "execute_result"
    }
   ],
   "source": [
    "df_genero_data"
   ]
  },
  {
   "cell_type": "code",
   "execution_count": 156,
   "id": "4795177b",
   "metadata": {},
   "outputs": [],
   "source": [
    "df_genero_data\n",
    "df_genero_data.drop(df_genero_data.filter(regex=\"Unname\"),axis=1, inplace=True)"
   ]
  },
  {
   "cell_type": "code",
   "execution_count": 157,
   "id": "3018f574",
   "metadata": {},
   "outputs": [
    {
     "data": {
      "text/html": [
       "<div>\n",
       "<style scoped>\n",
       "    .dataframe tbody tr th:only-of-type {\n",
       "        vertical-align: middle;\n",
       "    }\n",
       "\n",
       "    .dataframe tbody tr th {\n",
       "        vertical-align: top;\n",
       "    }\n",
       "\n",
       "    .dataframe thead th {\n",
       "        text-align: right;\n",
       "    }\n",
       "</style>\n",
       "<table border=\"1\" class=\"dataframe\">\n",
       "  <thead>\n",
       "    <tr style=\"text-align: right;\">\n",
       "      <th></th>\n",
       "      <th>genero</th>\n",
       "      <th>quantidade</th>\n",
       "    </tr>\n",
       "  </thead>\n",
       "  <tbody>\n",
       "    <tr>\n",
       "      <th>0</th>\n",
       "      <td>M</td>\n",
       "      <td>5347</td>\n",
       "    </tr>\n",
       "    <tr>\n",
       "      <th>1</th>\n",
       "      <td>F</td>\n",
       "      <td>4871</td>\n",
       "    </tr>\n",
       "    <tr>\n",
       "      <th>2</th>\n",
       "      <td>I</td>\n",
       "      <td>217</td>\n",
       "    </tr>\n",
       "  </tbody>\n",
       "</table>\n",
       "</div>"
      ],
      "text/plain": [
       "  genero  quantidade\n",
       "0      M        5347\n",
       "1      F        4871\n",
       "2      I         217"
      ]
     },
     "execution_count": 157,
     "metadata": {},
     "output_type": "execute_result"
    }
   ],
   "source": [
    "df_genero_data"
   ]
  },
  {
   "cell_type": "code",
   "execution_count": 158,
   "id": "645452d6",
   "metadata": {},
   "outputs": [
    {
     "data": {
      "image/png": "[encoded data removed]",
      "text/plain": [
       "<Figure size 1000x600 with 1 Axes>"
      ]
     },
     "metadata": {},
     "output_type": "display_data"
    }
   ],
   "source": [
    "fig, ax = plt.subplots(figsize=(10, 6))  # Set the figure size\n",
    "\n",
    "# Calculate the counts of each state\n",
    "counts = df_genero_data['quantidade']\n",
    "\n",
    "# Extract the state names\n",
    "genero_index = df_genero_data['genero']\n",
    "\n",
    "# Plotting the bar chart\n",
    "ax.bar(genero_index, counts)\n",
    "\n",
    "ax.set_ylabel('Count')  # Label for y-axis\n",
    "ax.set_xlabel('Genêro')  # Label for x-axis\n",
    "ax.set_title('Quantidade Genêro')  # Title of the plot\n",
    "\n",
    "# Rotate the x-axis labels for better readability if needed\n",
    "plt.xticks(rotation=90)\n",
    "\n",
    "plt.show()"
   ]
  },
  {
   "cell_type": "code",
   "execution_count": 159,
   "id": "1610dccd",
   "metadata": {},
   "outputs": [
    {
     "data": {
      "text/html": [
       "<div>\n",
       "<style scoped>\n",
       "    .dataframe tbody tr th:only-of-type {\n",
       "        vertical-align: middle;\n",
       "    }\n",
       "\n",
       "    .dataframe tbody tr th {\n",
       "        vertical-align: top;\n",
       "    }\n",
       "\n",
       "    .dataframe thead th {\n",
       "        text-align: right;\n",
       "    }\n",
       "</style>\n",
       "<table border=\"1\" class=\"dataframe\">\n",
       "  <thead>\n",
       "    <tr style=\"text-align: right;\">\n",
       "      <th></th>\n",
       "      <th>uf</th>\n",
       "      <th>tipo_doenca</th>\n",
       "      <th>local_obito</th>\n",
       "      <th>faixa_etaria</th>\n",
       "      <th>sexo</th>\n",
       "      <th>total</th>\n",
       "    </tr>\n",
       "  </thead>\n",
       "  <tbody>\n",
       "    <tr>\n",
       "      <th>0</th>\n",
       "      <td>AC</td>\n",
       "      <td>OUTRAS</td>\n",
       "      <td>DOMICILIO</td>\n",
       "      <td>&lt; 9</td>\n",
       "      <td>F</td>\n",
       "      <td>4</td>\n",
       "    </tr>\n",
       "    <tr>\n",
       "      <th>1</th>\n",
       "      <td>AC</td>\n",
       "      <td>OUTRAS</td>\n",
       "      <td>DOMICILIO</td>\n",
       "      <td>&lt; 9</td>\n",
       "      <td>M</td>\n",
       "      <td>7</td>\n",
       "    </tr>\n",
       "    <tr>\n",
       "      <th>2</th>\n",
       "      <td>AC</td>\n",
       "      <td>OUTRAS</td>\n",
       "      <td>HOSPITAL</td>\n",
       "      <td>&lt; 9</td>\n",
       "      <td>F</td>\n",
       "      <td>19</td>\n",
       "    </tr>\n",
       "    <tr>\n",
       "      <th>3</th>\n",
       "      <td>AC</td>\n",
       "      <td>OUTRAS</td>\n",
       "      <td>HOSPITAL</td>\n",
       "      <td>&lt; 9</td>\n",
       "      <td>I</td>\n",
       "      <td>1</td>\n",
       "    </tr>\n",
       "    <tr>\n",
       "      <th>4</th>\n",
       "      <td>AC</td>\n",
       "      <td>OUTRAS</td>\n",
       "      <td>HOSPITAL</td>\n",
       "      <td>&lt; 9</td>\n",
       "      <td>M</td>\n",
       "      <td>26</td>\n",
       "    </tr>\n",
       "    <tr>\n",
       "      <th>...</th>\n",
       "      <td>...</td>\n",
       "      <td>...</td>\n",
       "      <td>...</td>\n",
       "      <td>...</td>\n",
       "      <td>...</td>\n",
       "      <td>...</td>\n",
       "    </tr>\n",
       "    <tr>\n",
       "      <th>10430</th>\n",
       "      <td>TO</td>\n",
       "      <td>SEPTICEMIA</td>\n",
       "      <td>HOSPITAL</td>\n",
       "      <td>N/I</td>\n",
       "      <td>F</td>\n",
       "      <td>7</td>\n",
       "    </tr>\n",
       "    <tr>\n",
       "      <th>10431</th>\n",
       "      <td>TO</td>\n",
       "      <td>SEPTICEMIA</td>\n",
       "      <td>HOSPITAL</td>\n",
       "      <td>N/I</td>\n",
       "      <td>I</td>\n",
       "      <td>1</td>\n",
       "    </tr>\n",
       "    <tr>\n",
       "      <th>10432</th>\n",
       "      <td>TO</td>\n",
       "      <td>SEPTICEMIA</td>\n",
       "      <td>HOSPITAL</td>\n",
       "      <td>N/I</td>\n",
       "      <td>M</td>\n",
       "      <td>22</td>\n",
       "    </tr>\n",
       "    <tr>\n",
       "      <th>10433</th>\n",
       "      <td>TO</td>\n",
       "      <td>SRAG</td>\n",
       "      <td>HOSPITAL</td>\n",
       "      <td>N/I</td>\n",
       "      <td>F</td>\n",
       "      <td>1</td>\n",
       "    </tr>\n",
       "    <tr>\n",
       "      <th>10434</th>\n",
       "      <td>TO</td>\n",
       "      <td>SRAG</td>\n",
       "      <td>HOSPITAL</td>\n",
       "      <td>N/I</td>\n",
       "      <td>M</td>\n",
       "      <td>1</td>\n",
       "    </tr>\n",
       "  </tbody>\n",
       "</table>\n",
       "<p>10435 rows × 6 columns</p>\n",
       "</div>"
      ],
      "text/plain": [
       "       uf tipo_doenca local_obito faixa_etaria sexo  total\n",
       "0      AC      OUTRAS   DOMICILIO          < 9    F      4\n",
       "1      AC      OUTRAS   DOMICILIO          < 9    M      7\n",
       "2      AC      OUTRAS    HOSPITAL          < 9    F     19\n",
       "3      AC      OUTRAS    HOSPITAL          < 9    I      1\n",
       "4      AC      OUTRAS    HOSPITAL          < 9    M     26\n",
       "...    ..         ...         ...          ...  ...    ...\n",
       "10430  TO  SEPTICEMIA    HOSPITAL          N/I    F      7\n",
       "10431  TO  SEPTICEMIA    HOSPITAL          N/I    I      1\n",
       "10432  TO  SEPTICEMIA    HOSPITAL          N/I    M     22\n",
       "10433  TO        SRAG    HOSPITAL          N/I    F      1\n",
       "10434  TO        SRAG    HOSPITAL          N/I    M      1\n",
       "\n",
       "[10435 rows x 6 columns]"
      ]
     },
     "execution_count": 159,
     "metadata": {},
     "output_type": "execute_result"
    }
   ],
   "source": [
    "data"
   ]
  },
  {
   "cell_type": "markdown",
   "id": "66f3539f",
   "metadata": {},
   "source": [
    "### Selecao de certos dados nas primeiras cinco cidades com mais óbitos no Brasil"
   ]
  },
  {
   "cell_type": "code",
   "execution_count": 160,
   "id": "0944baa4",
   "metadata": {},
   "outputs": [
    {
     "data": {
      "text/plain": [
       "147"
      ]
     },
     "execution_count": 160,
     "metadata": {},
     "output_type": "execute_result"
    }
   ],
   "source": [
    "select = (data.uf == 'SP') & (data.local_obito == 'HOSPITAL') & (data.total >= 5)\n",
    "n1 = data[select].shape[0]\n",
    "n1"
   ]
  },
  {
   "cell_type": "code",
   "execution_count": 161,
   "id": "863b16d4",
   "metadata": {},
   "outputs": [
    {
     "data": {
      "text/plain": [
       "125"
      ]
     },
     "execution_count": 161,
     "metadata": {},
     "output_type": "execute_result"
    }
   ],
   "source": [
    "select = (data.uf == 'MG') & (data.local_obito == 'DOMICILIO') & (data.total >= 0)\n",
    "n2 = data[select].shape[0]\n",
    "n2"
   ]
  },
  {
   "cell_type": "code",
   "execution_count": 162,
   "id": "2c3be4ce",
   "metadata": {},
   "outputs": [
    {
     "data": {
      "text/plain": [
       "11"
      ]
     },
     "execution_count": 162,
     "metadata": {},
     "output_type": "execute_result"
    }
   ],
   "source": [
    "select = (data.uf == 'RJ') & (data.tipo_doenca == 'COVID') & (data.total >= 0) & (data.local_obito == 'OUTROS_SERVICOS_SAUDE')\n",
    "n3 = data[select].shape[0]\n",
    "n3"
   ]
  },
  {
   "cell_type": "code",
   "execution_count": 163,
   "id": "de0f2365",
   "metadata": {},
   "outputs": [
    {
     "data": {
      "text/plain": [
       "16"
      ]
     },
     "execution_count": 163,
     "metadata": {},
     "output_type": "execute_result"
    }
   ],
   "source": [
    "select = (data.uf == 'BA') & (data.tipo_doenca == 'INSUFICIENCIA_RESPIRATORIA') & (data.total >= 5) & (data.local_obito == 'DOMICILIO')\n",
    "n4 = data[select].shape[0]\n",
    "n4"
   ]
  },
  {
   "cell_type": "code",
   "execution_count": 164,
   "id": "0d0525c8",
   "metadata": {},
   "outputs": [
    {
     "data": {
      "text/plain": [
       "19"
      ]
     },
     "execution_count": 164,
     "metadata": {},
     "output_type": "execute_result"
    }
   ],
   "source": [
    "select = (data.uf == 'CE') & (data.tipo_doenca == 'PNEUMONIA') & (data.total >= 10) & (data.local_obito == 'HOSPITAL')\n",
    "n5 = data[select].shape[0]\n",
    "n5"
   ]
  },
  {
   "cell_type": "code",
   "execution_count": 165,
   "id": "4c34fd44",
   "metadata": {},
   "outputs": [
    {
     "name": "stdout",
     "output_type": "stream",
     "text": [
      "Número de óbitos em hospitais em São Paulo com mais de 5 óbitos -> 147\n",
      "Número de óbitos em hospitais em Minas Gerais com mais de 0 óbitos -> 125\n",
      "Número de óbitos em outros servicos de saúde no Rio de Janeiro com mais de 0 óbitos -> 11\n",
      "Número de óbitos em domicílios na Bahia com mais de 5 óbitos -> 16\n",
      "Número de óbitos em hospitais no Ceará com mais de 10 óbitos -> 19\n"
     ]
    }
   ],
   "source": [
    "print('Número de óbitos em hospitais em São Paulo com mais de 5 óbitos ->',format(n1))\n",
    "print('Número de óbitos em hospitais em Minas Gerais com mais de 0 óbitos ->',format(n2))\n",
    "print('Número de óbitos em outros servicos de saúde no Rio de Janeiro com mais de 0 óbitos ->',format(n3))\n",
    "print('Número de óbitos em domicílios na Bahia com mais de 5 óbitos ->',format(n4))\n",
    "print('Número de óbitos em hospitais no Ceará com mais de 10 óbitos ->',format(n5))"
   ]
  },
  {
   "cell_type": "code",
   "execution_count": 166,
   "id": "e584004e",
   "metadata": {},
   "outputs": [
    {
     "data": {
      "text/plain": [
       "uf\n",
       "SP    723\n",
       "MG    670\n",
       "RJ    530\n",
       "BA    510\n",
       "CE    507\n",
       "PE    496\n",
       "GO    494\n",
       "PR    484\n",
       "RS    480\n",
       "PA    442\n",
       "MA    409\n",
       "MT    382\n",
       "PB    380\n",
       "RN    380\n",
       "SC    369\n",
       "AL    353\n",
       "ES    341\n",
       "DF    334\n",
       "SE    315\n",
       "PI    297\n",
       "MS    290\n",
       "AM    287\n",
       "TO    255\n",
       "RO    229\n",
       "AC    194\n",
       "AP    175\n",
       "RR    109\n",
       "Name: count, dtype: int64"
      ]
     },
     "execution_count": 166,
     "metadata": {},
     "output_type": "execute_result"
    }
   ],
   "source": [
    "data.uf.value_counts()"
   ]
  },
  {
   "cell_type": "code",
   "execution_count": 167,
   "id": "4fdfaee2",
   "metadata": {},
   "outputs": [
    {
     "data": {
      "text/plain": [
       "local_obito\n",
       "HOSPITAL                 3519\n",
       "DOMICILIO                2235\n",
       "OUTROS_SERVICOS_SAUDE    1603\n",
       "OUTRO                    1377\n",
       "IGNORADO                  882\n",
       "VIA_PUBLICA               694\n",
       "POSTO_SAUDE                88\n",
       "AMBULANCIA                 37\n",
       "Name: count, dtype: int64"
      ]
     },
     "execution_count": 167,
     "metadata": {},
     "output_type": "execute_result"
    }
   ],
   "source": [
    "data.local_obito.value_counts()"
   ]
  },
  {
   "cell_type": "markdown",
   "id": "b74166c5",
   "metadata": {},
   "source": [
    "### Primeiro 5 estados com mais óbitos no Brasil"
   ]
  },
  {
   "cell_type": "code",
   "execution_count": 168,
   "id": "d839a237",
   "metadata": {},
   "outputs": [
    {
     "name": "stdout",
     "output_type": "stream",
     "text": [
      "Primeiro 5 estados com mais óbitos no Brasil:\n",
      "\n",
      "Primeiro Lugar -> SP   | 723\n",
      "Segundo Lugar ->  MG   | 670\n",
      "Terceiro Lugar -> RJ   | 530\n",
      "Quarto Lugar ->   BA   | 510\n",
      "Quinto Lugar ->   CE   | 507\n"
     ]
    }
   ],
   "source": [
    "print('Primeiro 5 estados com mais óbitos no Brasil:\\n')\n",
    "print('Primeiro Lugar ->',estados_df['uf'][0],'  |',estados_df['quantidade'][0])\n",
    "print('Segundo Lugar -> ',estados_df['uf'][1], '  |',estados_df['quantidade'][1])\n",
    "print('Terceiro Lugar ->',estados_df['uf'][2],'  |',estados_df['quantidade'][2])\n",
    "print('Quarto Lugar ->  ',estados_df['uf'][3],  '  |',estados_df['quantidade'][3])\n",
    "print('Quinto Lugar ->  ',estados_df['uf'][4],  '  |',estados_df['quantidade'][4])"
   ]
  },
  {
   "cell_type": "markdown",
   "id": "e6272f6e",
   "metadata": {},
   "source": [
    "### Calculando as estástiticas dos dados"
   ]
  },
  {
   "cell_type": "markdown",
   "id": "93d6ac8b",
   "metadata": {},
   "source": [
    "https://docs.python.org/3/library/statistics.html"
   ]
  },
  {
   "cell_type": "code",
   "execution_count": 169,
   "id": "f7d2fde4",
   "metadata": {},
   "outputs": [],
   "source": [
    "from statistics import *\n",
    "from math import isnan"
   ]
  },
  {
   "cell_type": "code",
   "execution_count": 170,
   "id": "6d906a7e",
   "metadata": {},
   "outputs": [
    {
     "data": {
      "text/plain": [
       "0         4\n",
       "1         7\n",
       "2        19\n",
       "3         1\n",
       "4        26\n",
       "         ..\n",
       "10430     7\n",
       "10431     1\n",
       "10432    22\n",
       "10433     1\n",
       "10434     1\n",
       "Name: total, Length: 10435, dtype: int64"
      ]
     },
     "execution_count": 170,
     "metadata": {},
     "output_type": "execute_result"
    }
   ],
   "source": [
    "data.total"
   ]
  },
  {
   "cell_type": "code",
   "execution_count": 171,
   "id": "ca5d6862",
   "metadata": {},
   "outputs": [
    {
     "data": {
      "text/plain": [
       "4"
      ]
     },
     "execution_count": 171,
     "metadata": {},
     "output_type": "execute_result"
    }
   ],
   "source": [
    "median(data.total)"
   ]
  },
  {
   "cell_type": "code",
   "execution_count": 172,
   "id": "2eade076",
   "metadata": {},
   "outputs": [
    {
     "data": {
      "text/plain": [
       "['faixa_etaria', 'local_obito', 'sexo', 'tipo_doenca', 'total', 'uf']"
      ]
     },
     "execution_count": 172,
     "metadata": {},
     "output_type": "execute_result"
    }
   ],
   "source": [
    "sorted(data)"
   ]
  },
  {
   "cell_type": "markdown",
   "id": "638429fc",
   "metadata": {},
   "source": [
    " statistics.mean(data)"
   ]
  },
  {
   "cell_type": "markdown",
   "id": "62465d13",
   "metadata": {},
   "source": [
    "Return the sample arithmetic mean of data which can be a sequence or iterable."
   ]
  },
  {
   "cell_type": "code",
   "execution_count": 173,
   "id": "e48fed03",
   "metadata": {},
   "outputs": [
    {
     "data": {
      "text/plain": [
       "43.27034020124581"
      ]
     },
     "execution_count": 173,
     "metadata": {},
     "output_type": "execute_result"
    }
   ],
   "source": [
    "# Média dos números da coluna total\n",
    "mean(data['total'])"
   ]
  },
  {
   "cell_type": "markdown",
   "id": "df22ec5b",
   "metadata": {},
   "source": [
    "statistics.fmean(data, weights=None)"
   ]
  },
  {
   "cell_type": "markdown",
   "id": "faa7302f",
   "metadata": {},
   "source": [
    "Convert data to floats and compute the arithmetic mean."
   ]
  },
  {
   "cell_type": "code",
   "execution_count": 174,
   "id": "432cb47e",
   "metadata": {},
   "outputs": [
    {
     "data": {
      "text/plain": [
       "43.27034020124581"
      ]
     },
     "execution_count": 174,
     "metadata": {},
     "output_type": "execute_result"
    }
   ],
   "source": [
    "fmean(data['total'])"
   ]
  },
  {
   "cell_type": "markdown",
   "id": "64f3109b",
   "metadata": {},
   "source": [
    " statistics.geometric_mean(data)¶"
   ]
  },
  {
   "cell_type": "markdown",
   "id": "4b8d86c8",
   "metadata": {},
   "source": [
    "Return the harmonic mean of data, a sequence or iterable of real-valued numbers."
   ]
  },
  {
   "cell_type": "code",
   "execution_count": 175,
   "id": "c1658fe9",
   "metadata": {},
   "outputs": [
    {
     "data": {
      "text/plain": [
       "6"
      ]
     },
     "execution_count": 175,
     "metadata": {},
     "output_type": "execute_result"
    }
   ],
   "source": [
    "round(geometric_mean(data['total']))"
   ]
  },
  {
   "cell_type": "code",
   "execution_count": 176,
   "id": "0bf1fd9b",
   "metadata": {},
   "outputs": [
    {
     "data": {
      "text/plain": [
       "6.2784999169934785"
      ]
     },
     "execution_count": 176,
     "metadata": {},
     "output_type": "execute_result"
    }
   ],
   "source": [
    "geometric_mean(data['total'])"
   ]
  },
  {
   "cell_type": "markdown",
   "id": "c5e0bfdc",
   "metadata": {},
   "source": [
    "statistics.harmonic_mean(data, weights=None)"
   ]
  },
  {
   "cell_type": "code",
   "execution_count": 177,
   "id": "878d000f",
   "metadata": {},
   "outputs": [
    {
     "data": {
      "text/plain": [
       "3"
      ]
     },
     "execution_count": 177,
     "metadata": {},
     "output_type": "execute_result"
    }
   ],
   "source": [
    "round(harmonic_mean(data.total))"
   ]
  },
  {
   "cell_type": "code",
   "execution_count": 178,
   "id": "58214e11",
   "metadata": {},
   "outputs": [
    {
     "data": {
      "text/plain": [
       "2.504478138805884"
      ]
     },
     "execution_count": 178,
     "metadata": {},
     "output_type": "execute_result"
    }
   ],
   "source": [
    "harmonic_mean(data.total)"
   ]
  },
  {
   "cell_type": "markdown",
   "id": "6fa77c32",
   "metadata": {},
   "source": [
    "statistics.median(data)"
   ]
  },
  {
   "cell_type": "markdown",
   "id": "9827be95",
   "metadata": {},
   "source": [
    "Return the median (middle value) of numeric data, using the common “mean of middle two” method"
   ]
  },
  {
   "cell_type": "code",
   "execution_count": 179,
   "id": "17848ff8",
   "metadata": {},
   "outputs": [
    {
     "data": {
      "text/plain": [
       "4"
      ]
     },
     "execution_count": 179,
     "metadata": {},
     "output_type": "execute_result"
    }
   ],
   "source": [
    "# Cálcula a média da coluna Total\n",
    "median(data.total)"
   ]
  },
  {
   "cell_type": "markdown",
   "id": "fb2bb4c9",
   "metadata": {},
   "source": [
    "statistics.median_low(data)"
   ]
  },
  {
   "cell_type": "markdown",
   "id": "2abd8217",
   "metadata": {},
   "source": [
    "Return the low median of numeric data"
   ]
  },
  {
   "cell_type": "code",
   "execution_count": 180,
   "id": "77ceb308",
   "metadata": {},
   "outputs": [
    {
     "data": {
      "text/plain": [
       "4"
      ]
     },
     "execution_count": 180,
     "metadata": {},
     "output_type": "execute_result"
    }
   ],
   "source": [
    "median_low(data.total)"
   ]
  },
  {
   "cell_type": "markdown",
   "id": "23cdfe95",
   "metadata": {},
   "source": [
    "statistics.median_high(data)"
   ]
  },
  {
   "cell_type": "markdown",
   "id": "51b3d371",
   "metadata": {},
   "source": [
    "Return the high median of data. If data is empty, StatisticsError is raised. data can be a sequence or iterable."
   ]
  },
  {
   "cell_type": "code",
   "execution_count": 181,
   "id": "59a1d16c",
   "metadata": {},
   "outputs": [
    {
     "data": {
      "text/plain": [
       "4"
      ]
     },
     "execution_count": 181,
     "metadata": {},
     "output_type": "execute_result"
    }
   ],
   "source": [
    "median_high(data.total)"
   ]
  },
  {
   "cell_type": "markdown",
   "id": "d58b32d5",
   "metadata": {},
   "source": [
    "statistics.median_grouped(data, interval=1.0)"
   ]
  },
  {
   "cell_type": "markdown",
   "id": "371ef38d",
   "metadata": {},
   "source": [
    "Estimates the median for numeric data that has been grouped or binned around the midpoints of consecutive, fixed-width intervals."
   ]
  },
  {
   "cell_type": "code",
   "execution_count": 182,
   "id": "a2331016",
   "metadata": {},
   "outputs": [
    {
     "data": {
      "text/plain": [
       "4.299056603773585"
      ]
     },
     "execution_count": 182,
     "metadata": {},
     "output_type": "execute_result"
    }
   ],
   "source": [
    "median_grouped(data.total)"
   ]
  },
  {
   "cell_type": "code",
   "execution_count": 183,
   "id": "49db6d32",
   "metadata": {},
   "outputs": [
    {
     "data": {
      "text/plain": [
       "6.990566037735849"
      ]
     },
     "execution_count": 183,
     "metadata": {},
     "output_type": "execute_result"
    }
   ],
   "source": [
    "median_grouped(data.total, interval=10)"
   ]
  },
  {
   "cell_type": "code",
   "execution_count": 184,
   "id": "4f33fed3",
   "metadata": {},
   "outputs": [
    {
     "data": {
      "text/plain": [
       "8.485849056603774"
      ]
     },
     "execution_count": 184,
     "metadata": {},
     "output_type": "execute_result"
    }
   ],
   "source": [
    "median_grouped(data.total, interval=15.0)"
   ]
  },
  {
   "cell_type": "markdown",
   "id": "d788c93a",
   "metadata": {},
   "source": [
    "statistics.mode(data)"
   ]
  },
  {
   "cell_type": "markdown",
   "id": "702d6716",
   "metadata": {},
   "source": [
    "Return the single most common data point from discrete or nominal data."
   ]
  },
  {
   "cell_type": "code",
   "execution_count": 185,
   "id": "c86089b5",
   "metadata": {},
   "outputs": [
    {
     "data": {
      "text/plain": [
       "1"
      ]
     },
     "execution_count": 185,
     "metadata": {},
     "output_type": "execute_result"
    }
   ],
   "source": [
    "mode(data.total)"
   ]
  },
  {
   "cell_type": "markdown",
   "id": "d36679df",
   "metadata": {},
   "source": [
    "statistics.multimode(data)"
   ]
  },
  {
   "cell_type": "markdown",
   "id": "ea5e245b",
   "metadata": {},
   "source": [
    "Return a list of the most frequently occurring values in the order they were first encountered in the data."
   ]
  },
  {
   "cell_type": "code",
   "execution_count": 187,
   "id": "e71dddf7",
   "metadata": {},
   "outputs": [
    {
     "data": {
      "text/plain": [
       "[1]"
      ]
     },
     "execution_count": 187,
     "metadata": {},
     "output_type": "execute_result"
    }
   ],
   "source": [
    "multimode(data.total)"
   ]
  },
  {
   "cell_type": "markdown",
   "id": "41c6c9d8",
   "metadata": {},
   "source": [
    " statistics.pstdev(data, mu=None)¶"
   ]
  },
  {
   "cell_type": "markdown",
   "id": "628ad6cc",
   "metadata": {},
   "source": [
    "Return the population standard deviation (the square root of the population variance)"
   ]
  },
  {
   "cell_type": "code",
   "execution_count": 190,
   "id": "b161bcbe",
   "metadata": {},
   "outputs": [
    {
     "data": {
      "text/plain": [
       "177"
      ]
     },
     "execution_count": 190,
     "metadata": {},
     "output_type": "execute_result"
    }
   ],
   "source": [
    "round(pstdev(data.total))"
   ]
  },
  {
   "cell_type": "code",
   "execution_count": 191,
   "id": "8c0db225",
   "metadata": {},
   "outputs": [
    {
     "data": {
      "text/plain": [
       "177.21461529053502"
      ]
     },
     "execution_count": 191,
     "metadata": {},
     "output_type": "execute_result"
    }
   ],
   "source": [
    "pstdev(data.total)"
   ]
  },
  {
   "cell_type": "markdown",
   "id": "445ae9f3",
   "metadata": {},
   "source": [
    "If you have already calculated the mean of your data, you can pass it as the optional second argument mu to avoid recalculation:"
   ]
  },
  {
   "cell_type": "code",
   "execution_count": 192,
   "id": "87660d5c",
   "metadata": {},
   "outputs": [
    {
     "data": {
      "text/plain": [
       "177.21461529053502"
      ]
     },
     "execution_count": 192,
     "metadata": {},
     "output_type": "execute_result"
    }
   ],
   "source": [
    "mu = mean(data.total)\n",
    "pstdev(data.total, mu)"
   ]
  },
  {
   "cell_type": "markdown",
   "id": "f0b9bc4b",
   "metadata": {},
   "source": [
    "statistics.stdev(data, xbar=None)"
   ]
  },
  {
   "cell_type": "markdown",
   "id": "579278ae",
   "metadata": {},
   "source": [
    "return the sample standard deviation (the square root of the sample variance)"
   ]
  },
  {
   "cell_type": "code",
   "execution_count": null,
   "id": "13111552",
   "metadata": {},
   "outputs": [],
   "source": []
  }
 ],
 "metadata": {
  "kernelspec": {
   "display_name": "Python 3 (ipykernel)",
   "language": "python",
   "name": "python3"
  },
  "language_info": {
   "codemirror_mode": {
    "name": "ipython",
    "version": 3
   },
   "file_extension": ".py",
   "mimetype": "text/x-python",
   "name": "python",
   "nbconvert_exporter": "python",
   "pygments_lexer": "ipython3",
   "version": "3.11.7"
  }
 },
 "nbformat": 4,
 "nbformat_minor": 5
}
