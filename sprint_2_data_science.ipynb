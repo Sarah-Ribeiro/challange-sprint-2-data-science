{
 "cells": [
  {
   "cell_type": "code",
   "execution_count": 452,
   "id": "928f7117-9db3-495a-9ba6-524d7e4314c9",
   "metadata": {},
   "outputs": [],
   "source": [
    "import pandas as pd"
   ]
  },
  {
   "cell_type": "code",
   "execution_count": 453,
   "id": "e9126399-c6c5-4655-9f39-0415e47334b1",
   "metadata": {},
   "outputs": [],
   "source": [
    "data = pd.read_csv('obitos-2024.csv')"
   ]
  },
  {
   "cell_type": "code",
   "execution_count": 454,
   "id": "f4d1fa04-cb12-47cf-bc33-fde949554028",
   "metadata": {},
   "outputs": [
    {
     "data": {
      "text/html": [
       "<div>\n",
       "<style scoped>\n",
       "    .dataframe tbody tr th:only-of-type {\n",
       "        vertical-align: middle;\n",
       "    }\n",
       "\n",
       "    .dataframe tbody tr th {\n",
       "        vertical-align: top;\n",
       "    }\n",
       "\n",
       "    .dataframe thead th {\n",
       "        text-align: right;\n",
       "    }\n",
       "</style>\n",
       "<table border=\"1\" class=\"dataframe\">\n",
       "  <thead>\n",
       "    <tr style=\"text-align: right;\">\n",
       "      <th></th>\n",
       "      <th>uf</th>\n",
       "      <th>tipo_doenca</th>\n",
       "      <th>local_obito</th>\n",
       "      <th>faixa_etaria</th>\n",
       "      <th>sexo</th>\n",
       "      <th>total</th>\n",
       "    </tr>\n",
       "  </thead>\n",
       "  <tbody>\n",
       "    <tr>\n",
       "      <th>0</th>\n",
       "      <td>AC</td>\n",
       "      <td>OUTRAS</td>\n",
       "      <td>DOMICILIO</td>\n",
       "      <td>&lt; 9</td>\n",
       "      <td>F</td>\n",
       "      <td>4</td>\n",
       "    </tr>\n",
       "    <tr>\n",
       "      <th>1</th>\n",
       "      <td>AC</td>\n",
       "      <td>OUTRAS</td>\n",
       "      <td>DOMICILIO</td>\n",
       "      <td>&lt; 9</td>\n",
       "      <td>M</td>\n",
       "      <td>7</td>\n",
       "    </tr>\n",
       "    <tr>\n",
       "      <th>2</th>\n",
       "      <td>AC</td>\n",
       "      <td>OUTRAS</td>\n",
       "      <td>HOSPITAL</td>\n",
       "      <td>&lt; 9</td>\n",
       "      <td>F</td>\n",
       "      <td>19</td>\n",
       "    </tr>\n",
       "    <tr>\n",
       "      <th>3</th>\n",
       "      <td>AC</td>\n",
       "      <td>OUTRAS</td>\n",
       "      <td>HOSPITAL</td>\n",
       "      <td>&lt; 9</td>\n",
       "      <td>I</td>\n",
       "      <td>1</td>\n",
       "    </tr>\n",
       "    <tr>\n",
       "      <th>4</th>\n",
       "      <td>AC</td>\n",
       "      <td>OUTRAS</td>\n",
       "      <td>HOSPITAL</td>\n",
       "      <td>&lt; 9</td>\n",
       "      <td>M</td>\n",
       "      <td>26</td>\n",
       "    </tr>\n",
       "    <tr>\n",
       "      <th>...</th>\n",
       "      <td>...</td>\n",
       "      <td>...</td>\n",
       "      <td>...</td>\n",
       "      <td>...</td>\n",
       "      <td>...</td>\n",
       "      <td>...</td>\n",
       "    </tr>\n",
       "    <tr>\n",
       "      <th>10430</th>\n",
       "      <td>TO</td>\n",
       "      <td>SEPTICEMIA</td>\n",
       "      <td>HOSPITAL</td>\n",
       "      <td>N/I</td>\n",
       "      <td>F</td>\n",
       "      <td>7</td>\n",
       "    </tr>\n",
       "    <tr>\n",
       "      <th>10431</th>\n",
       "      <td>TO</td>\n",
       "      <td>SEPTICEMIA</td>\n",
       "      <td>HOSPITAL</td>\n",
       "      <td>N/I</td>\n",
       "      <td>I</td>\n",
       "      <td>1</td>\n",
       "    </tr>\n",
       "    <tr>\n",
       "      <th>10432</th>\n",
       "      <td>TO</td>\n",
       "      <td>SEPTICEMIA</td>\n",
       "      <td>HOSPITAL</td>\n",
       "      <td>N/I</td>\n",
       "      <td>M</td>\n",
       "      <td>22</td>\n",
       "    </tr>\n",
       "    <tr>\n",
       "      <th>10433</th>\n",
       "      <td>TO</td>\n",
       "      <td>SRAG</td>\n",
       "      <td>HOSPITAL</td>\n",
       "      <td>N/I</td>\n",
       "      <td>F</td>\n",
       "      <td>1</td>\n",
       "    </tr>\n",
       "    <tr>\n",
       "      <th>10434</th>\n",
       "      <td>TO</td>\n",
       "      <td>SRAG</td>\n",
       "      <td>HOSPITAL</td>\n",
       "      <td>N/I</td>\n",
       "      <td>M</td>\n",
       "      <td>1</td>\n",
       "    </tr>\n",
       "  </tbody>\n",
       "</table>\n",
       "<p>10435 rows × 6 columns</p>\n",
       "</div>"
      ],
      "text/plain": [
       "       uf tipo_doenca local_obito faixa_etaria sexo  total\n",
       "0      AC      OUTRAS   DOMICILIO          < 9    F      4\n",
       "1      AC      OUTRAS   DOMICILIO          < 9    M      7\n",
       "2      AC      OUTRAS    HOSPITAL          < 9    F     19\n",
       "3      AC      OUTRAS    HOSPITAL          < 9    I      1\n",
       "4      AC      OUTRAS    HOSPITAL          < 9    M     26\n",
       "...    ..         ...         ...          ...  ...    ...\n",
       "10430  TO  SEPTICEMIA    HOSPITAL          N/I    F      7\n",
       "10431  TO  SEPTICEMIA    HOSPITAL          N/I    I      1\n",
       "10432  TO  SEPTICEMIA    HOSPITAL          N/I    M     22\n",
       "10433  TO        SRAG    HOSPITAL          N/I    F      1\n",
       "10434  TO        SRAG    HOSPITAL          N/I    M      1\n",
       "\n",
       "[10435 rows x 6 columns]"
      ]
     },
     "execution_count": 454,
     "metadata": {},
     "output_type": "execute_result"
    }
   ],
   "source": [
    "data"
   ]
  },
  {
   "cell_type": "code",
   "execution_count": 455,
   "id": "0750315c-755d-408f-8ccd-1f1c3cb9e86f",
   "metadata": {},
   "outputs": [
    {
     "data": {
      "text/html": [
       "<div>\n",
       "<style scoped>\n",
       "    .dataframe tbody tr th:only-of-type {\n",
       "        vertical-align: middle;\n",
       "    }\n",
       "\n",
       "    .dataframe tbody tr th {\n",
       "        vertical-align: top;\n",
       "    }\n",
       "\n",
       "    .dataframe thead th {\n",
       "        text-align: right;\n",
       "    }\n",
       "</style>\n",
       "<table border=\"1\" class=\"dataframe\">\n",
       "  <thead>\n",
       "    <tr style=\"text-align: right;\">\n",
       "      <th></th>\n",
       "      <th>uf</th>\n",
       "      <th>tipo_doenca</th>\n",
       "      <th>local_obito</th>\n",
       "      <th>faixa_etaria</th>\n",
       "      <th>sexo</th>\n",
       "      <th>total</th>\n",
       "    </tr>\n",
       "  </thead>\n",
       "  <tbody>\n",
       "    <tr>\n",
       "      <th>0</th>\n",
       "      <td>AC</td>\n",
       "      <td>OUTRAS</td>\n",
       "      <td>DOMICILIO</td>\n",
       "      <td>&lt; 9</td>\n",
       "      <td>F</td>\n",
       "      <td>4</td>\n",
       "    </tr>\n",
       "    <tr>\n",
       "      <th>1</th>\n",
       "      <td>AC</td>\n",
       "      <td>OUTRAS</td>\n",
       "      <td>DOMICILIO</td>\n",
       "      <td>&lt; 9</td>\n",
       "      <td>M</td>\n",
       "      <td>7</td>\n",
       "    </tr>\n",
       "    <tr>\n",
       "      <th>2</th>\n",
       "      <td>AC</td>\n",
       "      <td>OUTRAS</td>\n",
       "      <td>HOSPITAL</td>\n",
       "      <td>&lt; 9</td>\n",
       "      <td>F</td>\n",
       "      <td>19</td>\n",
       "    </tr>\n",
       "    <tr>\n",
       "      <th>3</th>\n",
       "      <td>AC</td>\n",
       "      <td>OUTRAS</td>\n",
       "      <td>HOSPITAL</td>\n",
       "      <td>&lt; 9</td>\n",
       "      <td>I</td>\n",
       "      <td>1</td>\n",
       "    </tr>\n",
       "    <tr>\n",
       "      <th>4</th>\n",
       "      <td>AC</td>\n",
       "      <td>OUTRAS</td>\n",
       "      <td>HOSPITAL</td>\n",
       "      <td>&lt; 9</td>\n",
       "      <td>M</td>\n",
       "      <td>26</td>\n",
       "    </tr>\n",
       "    <tr>\n",
       "      <th>...</th>\n",
       "      <td>...</td>\n",
       "      <td>...</td>\n",
       "      <td>...</td>\n",
       "      <td>...</td>\n",
       "      <td>...</td>\n",
       "      <td>...</td>\n",
       "    </tr>\n",
       "    <tr>\n",
       "      <th>10430</th>\n",
       "      <td>TO</td>\n",
       "      <td>SEPTICEMIA</td>\n",
       "      <td>HOSPITAL</td>\n",
       "      <td>N/I</td>\n",
       "      <td>F</td>\n",
       "      <td>7</td>\n",
       "    </tr>\n",
       "    <tr>\n",
       "      <th>10431</th>\n",
       "      <td>TO</td>\n",
       "      <td>SEPTICEMIA</td>\n",
       "      <td>HOSPITAL</td>\n",
       "      <td>N/I</td>\n",
       "      <td>I</td>\n",
       "      <td>1</td>\n",
       "    </tr>\n",
       "    <tr>\n",
       "      <th>10432</th>\n",
       "      <td>TO</td>\n",
       "      <td>SEPTICEMIA</td>\n",
       "      <td>HOSPITAL</td>\n",
       "      <td>N/I</td>\n",
       "      <td>M</td>\n",
       "      <td>22</td>\n",
       "    </tr>\n",
       "    <tr>\n",
       "      <th>10433</th>\n",
       "      <td>TO</td>\n",
       "      <td>SRAG</td>\n",
       "      <td>HOSPITAL</td>\n",
       "      <td>N/I</td>\n",
       "      <td>F</td>\n",
       "      <td>1</td>\n",
       "    </tr>\n",
       "    <tr>\n",
       "      <th>10434</th>\n",
       "      <td>TO</td>\n",
       "      <td>SRAG</td>\n",
       "      <td>HOSPITAL</td>\n",
       "      <td>N/I</td>\n",
       "      <td>M</td>\n",
       "      <td>1</td>\n",
       "    </tr>\n",
       "  </tbody>\n",
       "</table>\n",
       "<p>10435 rows × 6 columns</p>\n",
       "</div>"
      ],
      "text/plain": [
       "       uf tipo_doenca local_obito faixa_etaria sexo  total\n",
       "0      AC      OUTRAS   DOMICILIO          < 9    F      4\n",
       "1      AC      OUTRAS   DOMICILIO          < 9    M      7\n",
       "2      AC      OUTRAS    HOSPITAL          < 9    F     19\n",
       "3      AC      OUTRAS    HOSPITAL          < 9    I      1\n",
       "4      AC      OUTRAS    HOSPITAL          < 9    M     26\n",
       "...    ..         ...         ...          ...  ...    ...\n",
       "10430  TO  SEPTICEMIA    HOSPITAL          N/I    F      7\n",
       "10431  TO  SEPTICEMIA    HOSPITAL          N/I    I      1\n",
       "10432  TO  SEPTICEMIA    HOSPITAL          N/I    M     22\n",
       "10433  TO        SRAG    HOSPITAL          N/I    F      1\n",
       "10434  TO        SRAG    HOSPITAL          N/I    M      1\n",
       "\n",
       "[10435 rows x 6 columns]"
      ]
     },
     "execution_count": 455,
     "metadata": {},
     "output_type": "execute_result"
    }
   ],
   "source": [
    "data"
   ]
  },
  {
   "cell_type": "markdown",
   "id": "080079ac-b6d9-4604-803a-09c826b184d2",
   "metadata": {},
   "source": [
    "### Quantidade de estados"
   ]
  },
  {
   "cell_type": "code",
   "execution_count": 456,
   "id": "7487ca80-d490-47fb-ac34-4a4126de8268",
   "metadata": {},
   "outputs": [],
   "source": [
    "estados_quantidade = data['uf'].value_counts()"
   ]
  },
  {
   "cell_type": "code",
   "execution_count": 457,
   "id": "b4ac602d-599a-40bf-9f45-0bc6fa89477e",
   "metadata": {},
   "outputs": [
    {
     "data": {
      "text/plain": [
       "27"
      ]
     },
     "execution_count": 457,
     "metadata": {},
     "output_type": "execute_result"
    }
   ],
   "source": [
    "len(estados_quantidade)"
   ]
  },
  {
   "cell_type": "code",
   "execution_count": 458,
   "id": "9fc5e1dc-b6b6-48e4-bdba-d54c10887064",
   "metadata": {},
   "outputs": [
    {
     "data": {
      "text/plain": [
       "RangeIndex(start=0, stop=10435, step=1)"
      ]
     },
     "execution_count": 458,
     "metadata": {},
     "output_type": "execute_result"
    }
   ],
   "source": [
    "data['uf'].index"
   ]
  },
  {
   "cell_type": "code",
   "execution_count": 459,
   "id": "95b91130-79f4-4d26-801b-06a25fb091b6",
   "metadata": {},
   "outputs": [
    {
     "data": {
      "text/plain": [
       "10435"
      ]
     },
     "execution_count": 459,
     "metadata": {},
     "output_type": "execute_result"
    }
   ],
   "source": [
    "estados_quantidade.sum()"
   ]
  },
  {
   "cell_type": "code",
   "execution_count": 460,
   "id": "d7ac45f6-1a57-442b-abbd-8e392236f6bb",
   "metadata": {},
   "outputs": [
    {
     "name": "stdout",
     "output_type": "stream",
     "text": [
      "    uf  quantidade\n",
      "0   SP         723\n",
      "1   MG         670\n",
      "2   RJ         530\n",
      "3   BA         510\n",
      "4   CE         507\n",
      "5   PE         496\n",
      "6   GO         494\n",
      "7   PR         484\n",
      "8   RS         480\n",
      "9   PA         442\n",
      "10  MA         409\n",
      "11  MT         382\n",
      "12  PB         380\n",
      "13  RN         380\n",
      "14  SC         369\n",
      "15  AL         353\n",
      "16  ES         341\n",
      "17  DF         334\n",
      "18  SE         315\n",
      "19  PI         297\n",
      "20  MS         290\n",
      "21  AM         287\n",
      "22  TO         255\n",
      "23  RO         229\n",
      "24  AC         194\n",
      "25  AP         175\n",
      "26  RR         109\n"
     ]
    }
   ],
   "source": [
    "df = estados_quantidade.rename_axis('uf').reset_index(name='quantidade')\n",
    "print(df)\n",
    "df.to_csv('uf.csv')"
   ]
  },
  {
   "cell_type": "code",
   "execution_count": 461,
   "id": "9297d3ed-fb16-49b6-b550-cc3ae56386c8",
   "metadata": {},
   "outputs": [],
   "source": [
    "estados_df = pd.read_csv('uf.csv')\n",
    "estados_df.drop(estados_df.filter(regex=\"Unname\"),axis=1, inplace=True)"
   ]
  },
  {
   "cell_type": "code",
   "execution_count": 462,
   "id": "b6ebe88d-f3fb-4bd3-ab06-b85f1067c046",
   "metadata": {},
   "outputs": [
    {
     "data": {
      "text/html": [
       "<div>\n",
       "<style scoped>\n",
       "    .dataframe tbody tr th:only-of-type {\n",
       "        vertical-align: middle;\n",
       "    }\n",
       "\n",
       "    .dataframe tbody tr th {\n",
       "        vertical-align: top;\n",
       "    }\n",
       "\n",
       "    .dataframe thead th {\n",
       "        text-align: right;\n",
       "    }\n",
       "</style>\n",
       "<table border=\"1\" class=\"dataframe\">\n",
       "  <thead>\n",
       "    <tr style=\"text-align: right;\">\n",
       "      <th></th>\n",
       "      <th>estado</th>\n",
       "      <th>quantidade</th>\n",
       "    </tr>\n",
       "  </thead>\n",
       "  <tbody>\n",
       "    <tr>\n",
       "      <th>0</th>\n",
       "      <td>SP</td>\n",
       "      <td>723</td>\n",
       "    </tr>\n",
       "    <tr>\n",
       "      <th>1</th>\n",
       "      <td>MG</td>\n",
       "      <td>670</td>\n",
       "    </tr>\n",
       "    <tr>\n",
       "      <th>2</th>\n",
       "      <td>RJ</td>\n",
       "      <td>530</td>\n",
       "    </tr>\n",
       "    <tr>\n",
       "      <th>3</th>\n",
       "      <td>BA</td>\n",
       "      <td>510</td>\n",
       "    </tr>\n",
       "    <tr>\n",
       "      <th>4</th>\n",
       "      <td>CE</td>\n",
       "      <td>507</td>\n",
       "    </tr>\n",
       "    <tr>\n",
       "      <th>5</th>\n",
       "      <td>PE</td>\n",
       "      <td>496</td>\n",
       "    </tr>\n",
       "    <tr>\n",
       "      <th>6</th>\n",
       "      <td>GO</td>\n",
       "      <td>494</td>\n",
       "    </tr>\n",
       "    <tr>\n",
       "      <th>7</th>\n",
       "      <td>PR</td>\n",
       "      <td>484</td>\n",
       "    </tr>\n",
       "    <tr>\n",
       "      <th>8</th>\n",
       "      <td>RS</td>\n",
       "      <td>480</td>\n",
       "    </tr>\n",
       "    <tr>\n",
       "      <th>9</th>\n",
       "      <td>PA</td>\n",
       "      <td>442</td>\n",
       "    </tr>\n",
       "    <tr>\n",
       "      <th>10</th>\n",
       "      <td>MA</td>\n",
       "      <td>409</td>\n",
       "    </tr>\n",
       "    <tr>\n",
       "      <th>11</th>\n",
       "      <td>MT</td>\n",
       "      <td>382</td>\n",
       "    </tr>\n",
       "    <tr>\n",
       "      <th>12</th>\n",
       "      <td>PB</td>\n",
       "      <td>380</td>\n",
       "    </tr>\n",
       "    <tr>\n",
       "      <th>13</th>\n",
       "      <td>RN</td>\n",
       "      <td>380</td>\n",
       "    </tr>\n",
       "    <tr>\n",
       "      <th>14</th>\n",
       "      <td>SC</td>\n",
       "      <td>369</td>\n",
       "    </tr>\n",
       "    <tr>\n",
       "      <th>15</th>\n",
       "      <td>AL</td>\n",
       "      <td>353</td>\n",
       "    </tr>\n",
       "    <tr>\n",
       "      <th>16</th>\n",
       "      <td>ES</td>\n",
       "      <td>341</td>\n",
       "    </tr>\n",
       "    <tr>\n",
       "      <th>17</th>\n",
       "      <td>DF</td>\n",
       "      <td>334</td>\n",
       "    </tr>\n",
       "    <tr>\n",
       "      <th>18</th>\n",
       "      <td>SE</td>\n",
       "      <td>315</td>\n",
       "    </tr>\n",
       "    <tr>\n",
       "      <th>19</th>\n",
       "      <td>PI</td>\n",
       "      <td>297</td>\n",
       "    </tr>\n",
       "    <tr>\n",
       "      <th>20</th>\n",
       "      <td>MS</td>\n",
       "      <td>290</td>\n",
       "    </tr>\n",
       "    <tr>\n",
       "      <th>21</th>\n",
       "      <td>AM</td>\n",
       "      <td>287</td>\n",
       "    </tr>\n",
       "    <tr>\n",
       "      <th>22</th>\n",
       "      <td>TO</td>\n",
       "      <td>255</td>\n",
       "    </tr>\n",
       "    <tr>\n",
       "      <th>23</th>\n",
       "      <td>RO</td>\n",
       "      <td>229</td>\n",
       "    </tr>\n",
       "    <tr>\n",
       "      <th>24</th>\n",
       "      <td>AC</td>\n",
       "      <td>194</td>\n",
       "    </tr>\n",
       "    <tr>\n",
       "      <th>25</th>\n",
       "      <td>AP</td>\n",
       "      <td>175</td>\n",
       "    </tr>\n",
       "    <tr>\n",
       "      <th>26</th>\n",
       "      <td>RR</td>\n",
       "      <td>109</td>\n",
       "    </tr>\n",
       "  </tbody>\n",
       "</table>\n",
       "</div>"
      ],
      "text/plain": [
       "   estado  quantidade\n",
       "0      SP         723\n",
       "1      MG         670\n",
       "2      RJ         530\n",
       "3      BA         510\n",
       "4      CE         507\n",
       "5      PE         496\n",
       "6      GO         494\n",
       "7      PR         484\n",
       "8      RS         480\n",
       "9      PA         442\n",
       "10     MA         409\n",
       "11     MT         382\n",
       "12     PB         380\n",
       "13     RN         380\n",
       "14     SC         369\n",
       "15     AL         353\n",
       "16     ES         341\n",
       "17     DF         334\n",
       "18     SE         315\n",
       "19     PI         297\n",
       "20     MS         290\n",
       "21     AM         287\n",
       "22     TO         255\n",
       "23     RO         229\n",
       "24     AC         194\n",
       "25     AP         175\n",
       "26     RR         109"
      ]
     },
     "execution_count": 462,
     "metadata": {},
     "output_type": "execute_result"
    }
   ],
   "source": [
    "estados_df.columns = ['estado', 'quantidade']\n",
    "estados_df"
   ]
  },
  {
   "cell_type": "code",
   "execution_count": 463,
   "id": "3536f87e",
   "metadata": {},
   "outputs": [],
   "source": [
    "import matplotlib.pyplot as plt\n",
    "import seaborn as sns"
   ]
  },
  {
   "cell_type": "markdown",
   "id": "7b37157a-8591-4553-94af-a97d666a0e06",
   "metadata": {},
   "source": [
    "Gráfico da quantidade de estados"
   ]
  },
  {
   "cell_type": "markdown",
   "id": "d784167b",
   "metadata": {},
   "source": [
    "Nesse gráfico abaixo foram analisados os dados de quais são os Estados que mais aparecem na tabela"
   ]
  },
  {
   "cell_type": "code",
   "execution_count": 464,
   "id": "50feba67-5bdf-4685-ae31-d7b4f0139fbd",
   "metadata": {},
   "outputs": [
    {
     "name": "stderr",
     "output_type": "stream",
     "text": [
      "/var/folders/dz/0xtgsvld2wj69430hwkw47hm0000gn/T/ipykernel_21556/2649379041.py:3: FutureWarning: \n",
      "\n",
      "Passing `palette` without assigning `hue` is deprecated and will be removed in v0.14.0. Assign the `x` variable to `hue` and set `legend=False` for the same effect.\n",
      "\n",
      "  sns.barplot(x=estados_df[\"estado\"],\n"
     ]
    },
    {
     "data": {
      "image/png": "[encoded data removed]",
      "text/plain": [
       "<Figure size 1600x800 with 1 Axes>"
      ]
     },
     "metadata": {},
     "output_type": "display_data"
    }
   ],
   "source": [
    "plt.figure(figsize=(16, 8))  # Set the figure size\n",
    "\n",
    "sns.barplot(x=estados_df[\"estado\"], \n",
    "            y=estados_df[\"quantidade\"], \n",
    "            data=estados_df, \n",
    "            palette=\"mako\",\n",
    "            )\n",
    "plt.title(\"Estados que mais aparecem na tabela\")\n",
    "plt.show()"
   ]
  },
  {
   "cell_type": "markdown",
   "id": "82625215-2b83-47ff-bf2f-b720393cf961",
   "metadata": {},
   "source": [
    "### Análise da coluna tipo doença"
   ]
  },
  {
   "cell_type": "code",
   "execution_count": 465,
   "id": "13012882-9672-44ab-a5a6-a2f621b25fd4",
   "metadata": {},
   "outputs": [
    {
     "data": {
      "text/html": [
       "<div>\n",
       "<style scoped>\n",
       "    .dataframe tbody tr th:only-of-type {\n",
       "        vertical-align: middle;\n",
       "    }\n",
       "\n",
       "    .dataframe tbody tr th {\n",
       "        vertical-align: top;\n",
       "    }\n",
       "\n",
       "    .dataframe thead th {\n",
       "        text-align: right;\n",
       "    }\n",
       "</style>\n",
       "<table border=\"1\" class=\"dataframe\">\n",
       "  <thead>\n",
       "    <tr style=\"text-align: right;\">\n",
       "      <th></th>\n",
       "      <th>uf</th>\n",
       "      <th>tipo_doenca</th>\n",
       "      <th>local_obito</th>\n",
       "      <th>faixa_etaria</th>\n",
       "      <th>sexo</th>\n",
       "      <th>total</th>\n",
       "    </tr>\n",
       "  </thead>\n",
       "  <tbody>\n",
       "    <tr>\n",
       "      <th>0</th>\n",
       "      <td>AC</td>\n",
       "      <td>OUTRAS</td>\n",
       "      <td>DOMICILIO</td>\n",
       "      <td>&lt; 9</td>\n",
       "      <td>F</td>\n",
       "      <td>4</td>\n",
       "    </tr>\n",
       "    <tr>\n",
       "      <th>1</th>\n",
       "      <td>AC</td>\n",
       "      <td>OUTRAS</td>\n",
       "      <td>DOMICILIO</td>\n",
       "      <td>&lt; 9</td>\n",
       "      <td>M</td>\n",
       "      <td>7</td>\n",
       "    </tr>\n",
       "    <tr>\n",
       "      <th>2</th>\n",
       "      <td>AC</td>\n",
       "      <td>OUTRAS</td>\n",
       "      <td>HOSPITAL</td>\n",
       "      <td>&lt; 9</td>\n",
       "      <td>F</td>\n",
       "      <td>19</td>\n",
       "    </tr>\n",
       "    <tr>\n",
       "      <th>3</th>\n",
       "      <td>AC</td>\n",
       "      <td>OUTRAS</td>\n",
       "      <td>HOSPITAL</td>\n",
       "      <td>&lt; 9</td>\n",
       "      <td>I</td>\n",
       "      <td>1</td>\n",
       "    </tr>\n",
       "    <tr>\n",
       "      <th>4</th>\n",
       "      <td>AC</td>\n",
       "      <td>OUTRAS</td>\n",
       "      <td>HOSPITAL</td>\n",
       "      <td>&lt; 9</td>\n",
       "      <td>M</td>\n",
       "      <td>26</td>\n",
       "    </tr>\n",
       "    <tr>\n",
       "      <th>...</th>\n",
       "      <td>...</td>\n",
       "      <td>...</td>\n",
       "      <td>...</td>\n",
       "      <td>...</td>\n",
       "      <td>...</td>\n",
       "      <td>...</td>\n",
       "    </tr>\n",
       "    <tr>\n",
       "      <th>10430</th>\n",
       "      <td>TO</td>\n",
       "      <td>SEPTICEMIA</td>\n",
       "      <td>HOSPITAL</td>\n",
       "      <td>N/I</td>\n",
       "      <td>F</td>\n",
       "      <td>7</td>\n",
       "    </tr>\n",
       "    <tr>\n",
       "      <th>10431</th>\n",
       "      <td>TO</td>\n",
       "      <td>SEPTICEMIA</td>\n",
       "      <td>HOSPITAL</td>\n",
       "      <td>N/I</td>\n",
       "      <td>I</td>\n",
       "      <td>1</td>\n",
       "    </tr>\n",
       "    <tr>\n",
       "      <th>10432</th>\n",
       "      <td>TO</td>\n",
       "      <td>SEPTICEMIA</td>\n",
       "      <td>HOSPITAL</td>\n",
       "      <td>N/I</td>\n",
       "      <td>M</td>\n",
       "      <td>22</td>\n",
       "    </tr>\n",
       "    <tr>\n",
       "      <th>10433</th>\n",
       "      <td>TO</td>\n",
       "      <td>SRAG</td>\n",
       "      <td>HOSPITAL</td>\n",
       "      <td>N/I</td>\n",
       "      <td>F</td>\n",
       "      <td>1</td>\n",
       "    </tr>\n",
       "    <tr>\n",
       "      <th>10434</th>\n",
       "      <td>TO</td>\n",
       "      <td>SRAG</td>\n",
       "      <td>HOSPITAL</td>\n",
       "      <td>N/I</td>\n",
       "      <td>M</td>\n",
       "      <td>1</td>\n",
       "    </tr>\n",
       "  </tbody>\n",
       "</table>\n",
       "<p>10435 rows × 6 columns</p>\n",
       "</div>"
      ],
      "text/plain": [
       "       uf tipo_doenca local_obito faixa_etaria sexo  total\n",
       "0      AC      OUTRAS   DOMICILIO          < 9    F      4\n",
       "1      AC      OUTRAS   DOMICILIO          < 9    M      7\n",
       "2      AC      OUTRAS    HOSPITAL          < 9    F     19\n",
       "3      AC      OUTRAS    HOSPITAL          < 9    I      1\n",
       "4      AC      OUTRAS    HOSPITAL          < 9    M     26\n",
       "...    ..         ...         ...          ...  ...    ...\n",
       "10430  TO  SEPTICEMIA    HOSPITAL          N/I    F      7\n",
       "10431  TO  SEPTICEMIA    HOSPITAL          N/I    I      1\n",
       "10432  TO  SEPTICEMIA    HOSPITAL          N/I    M     22\n",
       "10433  TO        SRAG    HOSPITAL          N/I    F      1\n",
       "10434  TO        SRAG    HOSPITAL          N/I    M      1\n",
       "\n",
       "[10435 rows x 6 columns]"
      ]
     },
     "execution_count": 465,
     "metadata": {},
     "output_type": "execute_result"
    }
   ],
   "source": [
    "data"
   ]
  },
  {
   "cell_type": "code",
   "execution_count": 466,
   "id": "089c26b2-2d41-4331-be3f-297fe7fae451",
   "metadata": {},
   "outputs": [
    {
     "data": {
      "text/plain": [
       "0            OUTRAS\n",
       "1            OUTRAS\n",
       "2            OUTRAS\n",
       "3            OUTRAS\n",
       "4            OUTRAS\n",
       "            ...    \n",
       "10430    SEPTICEMIA\n",
       "10431    SEPTICEMIA\n",
       "10432    SEPTICEMIA\n",
       "10433          SRAG\n",
       "10434          SRAG\n",
       "Name: tipo_doenca, Length: 10435, dtype: object"
      ]
     },
     "execution_count": 466,
     "metadata": {},
     "output_type": "execute_result"
    }
   ],
   "source": [
    "data.tipo_doenca"
   ]
  },
  {
   "cell_type": "code",
   "execution_count": 467,
   "id": "2c9262fc-1591-44e4-832f-8a8c2a563971",
   "metadata": {},
   "outputs": [
    {
     "data": {
      "text/plain": [
       "tipo_doenca\n",
       "OUTRAS                        3160\n",
       "PNEUMONIA                     1820\n",
       "INSUFICIENCIA_RESPIRATORIA    1806\n",
       "SEPTICEMIA                    1647\n",
       "INDETERMINADA                  862\n",
       "COVID                          626\n",
       "SRAG                           514\n",
       "Name: count, dtype: int64"
      ]
     },
     "execution_count": 467,
     "metadata": {},
     "output_type": "execute_result"
    }
   ],
   "source": [
    "data.tipo_doenca.value_counts()"
   ]
  },
  {
   "cell_type": "code",
   "execution_count": 468,
   "id": "f15e8f51-0888-4051-9665-509a8f01aa8c",
   "metadata": {},
   "outputs": [],
   "source": [
    "tipo_doenca_quantidade = data['tipo_doenca'].value_counts()"
   ]
  },
  {
   "cell_type": "code",
   "execution_count": 469,
   "id": "38ee4ec0-7456-4776-9169-ca562ca4d497",
   "metadata": {},
   "outputs": [
    {
     "name": "stdout",
     "output_type": "stream",
     "text": [
      "                  tipo_doenca  quantidade\n",
      "0                      OUTRAS        3160\n",
      "1                   PNEUMONIA        1820\n",
      "2  INSUFICIENCIA_RESPIRATORIA        1806\n",
      "3                  SEPTICEMIA        1647\n",
      "4               INDETERMINADA         862\n",
      "5                       COVID         626\n",
      "6                        SRAG         514\n"
     ]
    }
   ],
   "source": [
    "df_tipo_doenca = tipo_doenca_quantidade.rename_axis('tipo_doenca').reset_index(name='quantidade')\n",
    "print(df_tipo_doenca)\n",
    "df_tipo_doenca.to_csv('tipo_doenca.csv')"
   ]
  },
  {
   "cell_type": "code",
   "execution_count": 470,
   "id": "19f0c456-a152-47e5-8dfe-f2103328cc22",
   "metadata": {},
   "outputs": [],
   "source": [
    "df_tipo_doenca = pd.read_csv('tipo_doenca.csv')"
   ]
  },
  {
   "cell_type": "code",
   "execution_count": 471,
   "id": "d4da5e78-49b1-4173-aade-254865916ad1",
   "metadata": {},
   "outputs": [],
   "source": [
    "df_tipo_doenca\n",
    "df_tipo_doenca.drop(df_tipo_doenca.filter(regex=\"Unname\"),axis=1, inplace=True)"
   ]
  },
  {
   "cell_type": "code",
   "execution_count": 472,
   "id": "69bc4485-5adb-4986-a7fb-a3e3068a9982",
   "metadata": {},
   "outputs": [
    {
     "data": {
      "text/html": [
       "<div>\n",
       "<style scoped>\n",
       "    .dataframe tbody tr th:only-of-type {\n",
       "        vertical-align: middle;\n",
       "    }\n",
       "\n",
       "    .dataframe tbody tr th {\n",
       "        vertical-align: top;\n",
       "    }\n",
       "\n",
       "    .dataframe thead th {\n",
       "        text-align: right;\n",
       "    }\n",
       "</style>\n",
       "<table border=\"1\" class=\"dataframe\">\n",
       "  <thead>\n",
       "    <tr style=\"text-align: right;\">\n",
       "      <th></th>\n",
       "      <th>tipo_doenca</th>\n",
       "      <th>quantidade</th>\n",
       "    </tr>\n",
       "  </thead>\n",
       "  <tbody>\n",
       "    <tr>\n",
       "      <th>0</th>\n",
       "      <td>OUTRAS</td>\n",
       "      <td>3160</td>\n",
       "    </tr>\n",
       "    <tr>\n",
       "      <th>1</th>\n",
       "      <td>PNEUMONIA</td>\n",
       "      <td>1820</td>\n",
       "    </tr>\n",
       "    <tr>\n",
       "      <th>2</th>\n",
       "      <td>INSUFICIENCIA_RESPIRATORIA</td>\n",
       "      <td>1806</td>\n",
       "    </tr>\n",
       "    <tr>\n",
       "      <th>3</th>\n",
       "      <td>SEPTICEMIA</td>\n",
       "      <td>1647</td>\n",
       "    </tr>\n",
       "    <tr>\n",
       "      <th>4</th>\n",
       "      <td>INDETERMINADA</td>\n",
       "      <td>862</td>\n",
       "    </tr>\n",
       "    <tr>\n",
       "      <th>5</th>\n",
       "      <td>COVID</td>\n",
       "      <td>626</td>\n",
       "    </tr>\n",
       "    <tr>\n",
       "      <th>6</th>\n",
       "      <td>SRAG</td>\n",
       "      <td>514</td>\n",
       "    </tr>\n",
       "  </tbody>\n",
       "</table>\n",
       "</div>"
      ],
      "text/plain": [
       "                  tipo_doenca  quantidade\n",
       "0                      OUTRAS        3160\n",
       "1                   PNEUMONIA        1820\n",
       "2  INSUFICIENCIA_RESPIRATORIA        1806\n",
       "3                  SEPTICEMIA        1647\n",
       "4               INDETERMINADA         862\n",
       "5                       COVID         626\n",
       "6                        SRAG         514"
      ]
     },
     "execution_count": 472,
     "metadata": {},
     "output_type": "execute_result"
    }
   ],
   "source": [
    "df_tipo_doenca"
   ]
  },
  {
   "cell_type": "markdown",
   "id": "02bc5ad3-0bd9-4724-9578-cdf45378cf60",
   "metadata": {},
   "source": [
    "Gráfico de quantidade -> tipo doença"
   ]
  },
  {
   "cell_type": "markdown",
   "id": "9697cffe",
   "metadata": {},
   "source": [
    "Esse é o gráfico da coluna tipo doença, aqui são mostrados as doenças que mais aparecem na tabela"
   ]
  },
  {
   "cell_type": "code",
   "execution_count": 473,
   "id": "a75f9497-33ac-47e2-a488-a3f8e21f586e",
   "metadata": {},
   "outputs": [
    {
     "name": "stderr",
     "output_type": "stream",
     "text": [
      "/var/folders/dz/0xtgsvld2wj69430hwkw47hm0000gn/T/ipykernel_21556/3625199380.py:3: FutureWarning: \n",
      "\n",
      "Passing `palette` without assigning `hue` is deprecated and will be removed in v0.14.0. Assign the `x` variable to `hue` and set `legend=False` for the same effect.\n",
      "\n",
      "  sns.barplot(x=df_tipo_doenca[\"tipo_doenca\"], y=df_tipo_doenca[\"quantidade\"], data=df_tipo_doenca, palette=\"rocket\")\n"
     ]
    },
    {
     "data": {
      "image/png": "[encoded data removed]",
      "text/plain": [
       "<Figure size 1600x800 with 1 Axes>"
      ]
     },
     "metadata": {},
     "output_type": "display_data"
    }
   ],
   "source": [
    "plt.figure(figsize=(16, 8))  # Set the figure size\n",
    "\n",
    "sns.barplot(x=df_tipo_doenca[\"tipo_doenca\"], y=df_tipo_doenca[\"quantidade\"], data=df_tipo_doenca, palette=\"rocket\")\n",
    "\n",
    "plt.title(\"Doenças que mais aparecem na tabela\")\n",
    "\n",
    "plt.show()"
   ]
  },
  {
   "cell_type": "markdown",
   "id": "8d993fe0",
   "metadata": {},
   "source": [
    "### Quantidade de Local Obito"
   ]
  },
  {
   "cell_type": "code",
   "execution_count": 474,
   "id": "382a3cbb",
   "metadata": {},
   "outputs": [],
   "source": [
    "total_hospitais = sum(data.local_obito == 'HOSPITAL')\n",
    "total_outros = sum(data.local_obito != 'HOSPITAL')"
   ]
  },
  {
   "cell_type": "code",
   "execution_count": 475,
   "id": "63a8e9ab",
   "metadata": {},
   "outputs": [
    {
     "name": "stdout",
     "output_type": "stream",
     "text": [
      "3519 6916\n"
     ]
    }
   ],
   "source": [
    "print(total_hospitais, total_outros)"
   ]
  },
  {
   "cell_type": "code",
   "execution_count": 476,
   "id": "198be943",
   "metadata": {},
   "outputs": [],
   "source": [
    "dados = {\n",
    "  'local_obito': [\"outros\", \"hospitais\"], \n",
    "  'quantidade': [total_outros, total_hospitais]\n",
    "}"
   ]
  },
  {
   "cell_type": "code",
   "execution_count": 477,
   "id": "7b9d9c11",
   "metadata": {},
   "outputs": [],
   "source": [
    "dados_hospitais_outros = pd.DataFrame(\n",
    "  data=dados\n",
    ")"
   ]
  },
  {
   "cell_type": "code",
   "execution_count": 478,
   "id": "d0053858",
   "metadata": {},
   "outputs": [
    {
     "data": {
      "text/html": [
       "<div>\n",
       "<style scoped>\n",
       "    .dataframe tbody tr th:only-of-type {\n",
       "        vertical-align: middle;\n",
       "    }\n",
       "\n",
       "    .dataframe tbody tr th {\n",
       "        vertical-align: top;\n",
       "    }\n",
       "\n",
       "    .dataframe thead th {\n",
       "        text-align: right;\n",
       "    }\n",
       "</style>\n",
       "<table border=\"1\" class=\"dataframe\">\n",
       "  <thead>\n",
       "    <tr style=\"text-align: right;\">\n",
       "      <th></th>\n",
       "      <th>local_obito</th>\n",
       "      <th>quantidade</th>\n",
       "    </tr>\n",
       "  </thead>\n",
       "  <tbody>\n",
       "    <tr>\n",
       "      <th>0</th>\n",
       "      <td>outros</td>\n",
       "      <td>6916</td>\n",
       "    </tr>\n",
       "    <tr>\n",
       "      <th>1</th>\n",
       "      <td>hospitais</td>\n",
       "      <td>3519</td>\n",
       "    </tr>\n",
       "  </tbody>\n",
       "</table>\n",
       "</div>"
      ],
      "text/plain": [
       "  local_obito  quantidade\n",
       "0      outros        6916\n",
       "1   hospitais        3519"
      ]
     },
     "execution_count": 478,
     "metadata": {},
     "output_type": "execute_result"
    }
   ],
   "source": [
    "dados_hospitais_outros"
   ]
  },
  {
   "cell_type": "markdown",
   "id": "9ac76f8b",
   "metadata": {},
   "source": [
    "Nesse gráfico foi feito a diferença entre a quantidade de óbitos em hospitais e outros locais"
   ]
  },
  {
   "cell_type": "code",
   "execution_count": 479,
   "id": "4c146f90",
   "metadata": {},
   "outputs": [
    {
     "name": "stderr",
     "output_type": "stream",
     "text": [
      "/var/folders/dz/0xtgsvld2wj69430hwkw47hm0000gn/T/ipykernel_21556/3476751216.py:4: FutureWarning: \n",
      "\n",
      "Passing `palette` without assigning `hue` is deprecated and will be removed in v0.14.0. Assign the `x` variable to `hue` and set `legend=False` for the same effect.\n",
      "\n",
      "  sns.barplot(data=dados_hospitais_outros, x=dados_hospitais_outros[\"local_obito\"], y=dados_hospitais_outros[\"quantidade\"], palette=\"rocket\")\n"
     ]
    },
    {
     "data": {
      "image/png": "[encoded data removed]",
      "text/plain": [
       "<Figure size 1600x800 with 1 Axes>"
      ]
     },
     "metadata": {},
     "output_type": "display_data"
    }
   ],
   "source": [
    "# Set the figure size\n",
    "plt.figure(figsize=(16, 8))\n",
    "\n",
    "sns.barplot(data=dados_hospitais_outros, x=dados_hospitais_outros[\"local_obito\"], y=dados_hospitais_outros[\"quantidade\"], palette=\"rocket\")\n",
    "\n",
    "plt.title(\"Diferença númerica entre Hopistal e outros locais óbito\")\n",
    "plt.show()"
   ]
  },
  {
   "cell_type": "code",
   "execution_count": 480,
   "id": "98f98a46",
   "metadata": {},
   "outputs": [],
   "source": [
    "local_obito_quantidade = data.local_obito.value_counts()"
   ]
  },
  {
   "cell_type": "code",
   "execution_count": 481,
   "id": "526bc28c",
   "metadata": {},
   "outputs": [
    {
     "name": "stdout",
     "output_type": "stream",
     "text": [
      "             local_obito  quantidade\n",
      "0               HOSPITAL        3519\n",
      "1              DOMICILIO        2235\n",
      "2  OUTROS_SERVICOS_SAUDE        1603\n",
      "3                  OUTRO        1377\n",
      "4               IGNORADO         882\n",
      "5            VIA_PUBLICA         694\n",
      "6            POSTO_SAUDE          88\n",
      "7             AMBULANCIA          37\n"
     ]
    }
   ],
   "source": [
    "df_local_obito = local_obito_quantidade.rename_axis('local_obito').reset_index(name='quantidade')\n",
    "print(df_local_obito)\n",
    "df_local_obito.to_csv('local_obito.csv')"
   ]
  },
  {
   "cell_type": "code",
   "execution_count": 482,
   "id": "c18c79df",
   "metadata": {},
   "outputs": [],
   "source": [
    "df_local_obito = pd.read_csv('local_obito.csv')"
   ]
  },
  {
   "cell_type": "code",
   "execution_count": 483,
   "id": "3f45ce32",
   "metadata": {},
   "outputs": [
    {
     "data": {
      "text/html": [
       "<div>\n",
       "<style scoped>\n",
       "    .dataframe tbody tr th:only-of-type {\n",
       "        vertical-align: middle;\n",
       "    }\n",
       "\n",
       "    .dataframe tbody tr th {\n",
       "        vertical-align: top;\n",
       "    }\n",
       "\n",
       "    .dataframe thead th {\n",
       "        text-align: right;\n",
       "    }\n",
       "</style>\n",
       "<table border=\"1\" class=\"dataframe\">\n",
       "  <thead>\n",
       "    <tr style=\"text-align: right;\">\n",
       "      <th></th>\n",
       "      <th>Unnamed: 0</th>\n",
       "      <th>local_obito</th>\n",
       "      <th>quantidade</th>\n",
       "    </tr>\n",
       "  </thead>\n",
       "  <tbody>\n",
       "    <tr>\n",
       "      <th>0</th>\n",
       "      <td>0</td>\n",
       "      <td>HOSPITAL</td>\n",
       "      <td>3519</td>\n",
       "    </tr>\n",
       "    <tr>\n",
       "      <th>1</th>\n",
       "      <td>1</td>\n",
       "      <td>DOMICILIO</td>\n",
       "      <td>2235</td>\n",
       "    </tr>\n",
       "    <tr>\n",
       "      <th>2</th>\n",
       "      <td>2</td>\n",
       "      <td>OUTROS_SERVICOS_SAUDE</td>\n",
       "      <td>1603</td>\n",
       "    </tr>\n",
       "    <tr>\n",
       "      <th>3</th>\n",
       "      <td>3</td>\n",
       "      <td>OUTRO</td>\n",
       "      <td>1377</td>\n",
       "    </tr>\n",
       "    <tr>\n",
       "      <th>4</th>\n",
       "      <td>4</td>\n",
       "      <td>IGNORADO</td>\n",
       "      <td>882</td>\n",
       "    </tr>\n",
       "    <tr>\n",
       "      <th>5</th>\n",
       "      <td>5</td>\n",
       "      <td>VIA_PUBLICA</td>\n",
       "      <td>694</td>\n",
       "    </tr>\n",
       "    <tr>\n",
       "      <th>6</th>\n",
       "      <td>6</td>\n",
       "      <td>POSTO_SAUDE</td>\n",
       "      <td>88</td>\n",
       "    </tr>\n",
       "    <tr>\n",
       "      <th>7</th>\n",
       "      <td>7</td>\n",
       "      <td>AMBULANCIA</td>\n",
       "      <td>37</td>\n",
       "    </tr>\n",
       "  </tbody>\n",
       "</table>\n",
       "</div>"
      ],
      "text/plain": [
       "   Unnamed: 0            local_obito  quantidade\n",
       "0           0               HOSPITAL        3519\n",
       "1           1              DOMICILIO        2235\n",
       "2           2  OUTROS_SERVICOS_SAUDE        1603\n",
       "3           3                  OUTRO        1377\n",
       "4           4               IGNORADO         882\n",
       "5           5            VIA_PUBLICA         694\n",
       "6           6            POSTO_SAUDE          88\n",
       "7           7             AMBULANCIA          37"
      ]
     },
     "execution_count": 483,
     "metadata": {},
     "output_type": "execute_result"
    }
   ],
   "source": [
    "df_local_obito"
   ]
  },
  {
   "cell_type": "code",
   "execution_count": 484,
   "id": "196bf171",
   "metadata": {},
   "outputs": [],
   "source": [
    "df_local_obito.drop(df_local_obito.filter(regex=\"Unname\"),axis=1, inplace=True)"
   ]
  },
  {
   "cell_type": "code",
   "execution_count": 485,
   "id": "1261715e",
   "metadata": {},
   "outputs": [
    {
     "data": {
      "text/html": [
       "<div>\n",
       "<style scoped>\n",
       "    .dataframe tbody tr th:only-of-type {\n",
       "        vertical-align: middle;\n",
       "    }\n",
       "\n",
       "    .dataframe tbody tr th {\n",
       "        vertical-align: top;\n",
       "    }\n",
       "\n",
       "    .dataframe thead th {\n",
       "        text-align: right;\n",
       "    }\n",
       "</style>\n",
       "<table border=\"1\" class=\"dataframe\">\n",
       "  <thead>\n",
       "    <tr style=\"text-align: right;\">\n",
       "      <th></th>\n",
       "      <th>local_obito</th>\n",
       "      <th>quantidade</th>\n",
       "    </tr>\n",
       "  </thead>\n",
       "  <tbody>\n",
       "    <tr>\n",
       "      <th>0</th>\n",
       "      <td>HOSPITAL</td>\n",
       "      <td>3519</td>\n",
       "    </tr>\n",
       "    <tr>\n",
       "      <th>1</th>\n",
       "      <td>DOMICILIO</td>\n",
       "      <td>2235</td>\n",
       "    </tr>\n",
       "    <tr>\n",
       "      <th>2</th>\n",
       "      <td>OUTROS_SERVICOS_SAUDE</td>\n",
       "      <td>1603</td>\n",
       "    </tr>\n",
       "    <tr>\n",
       "      <th>3</th>\n",
       "      <td>OUTRO</td>\n",
       "      <td>1377</td>\n",
       "    </tr>\n",
       "    <tr>\n",
       "      <th>4</th>\n",
       "      <td>IGNORADO</td>\n",
       "      <td>882</td>\n",
       "    </tr>\n",
       "    <tr>\n",
       "      <th>5</th>\n",
       "      <td>VIA_PUBLICA</td>\n",
       "      <td>694</td>\n",
       "    </tr>\n",
       "    <tr>\n",
       "      <th>6</th>\n",
       "      <td>POSTO_SAUDE</td>\n",
       "      <td>88</td>\n",
       "    </tr>\n",
       "    <tr>\n",
       "      <th>7</th>\n",
       "      <td>AMBULANCIA</td>\n",
       "      <td>37</td>\n",
       "    </tr>\n",
       "  </tbody>\n",
       "</table>\n",
       "</div>"
      ],
      "text/plain": [
       "             local_obito  quantidade\n",
       "0               HOSPITAL        3519\n",
       "1              DOMICILIO        2235\n",
       "2  OUTROS_SERVICOS_SAUDE        1603\n",
       "3                  OUTRO        1377\n",
       "4               IGNORADO         882\n",
       "5            VIA_PUBLICA         694\n",
       "6            POSTO_SAUDE          88\n",
       "7             AMBULANCIA          37"
      ]
     },
     "execution_count": 485,
     "metadata": {},
     "output_type": "execute_result"
    }
   ],
   "source": [
    "df_local_obito"
   ]
  },
  {
   "cell_type": "code",
   "execution_count": 486,
   "id": "33ffdbe9",
   "metadata": {},
   "outputs": [
    {
     "data": {
      "text/plain": [
       "8"
      ]
     },
     "execution_count": 486,
     "metadata": {},
     "output_type": "execute_result"
    }
   ],
   "source": [
    "df_local_obito['quantidade'].value_counts().sum()"
   ]
  },
  {
   "cell_type": "markdown",
   "id": "7e42dc2e",
   "metadata": {},
   "source": [
    "Esses são os locais que mais aparecem na tabela"
   ]
  },
  {
   "cell_type": "code",
   "execution_count": 487,
   "id": "7c63f5be",
   "metadata": {},
   "outputs": [
    {
     "name": "stderr",
     "output_type": "stream",
     "text": [
      "/var/folders/dz/0xtgsvld2wj69430hwkw47hm0000gn/T/ipykernel_21556/2381165289.py:3: FutureWarning: \n",
      "\n",
      "Passing `palette` without assigning `hue` is deprecated and will be removed in v0.14.0. Assign the `x` variable to `hue` and set `legend=False` for the same effect.\n",
      "\n",
      "  sns.barplot(data=df_local_obito, x=df_local_obito['local_obito'], y=df_local_obito['quantidade'], palette=\"mako\")\n"
     ]
    },
    {
     "data": {
      "image/png": "[encoded data removed]",
      "text/plain": [
       "<Figure size 1600x800 with 1 Axes>"
      ]
     },
     "metadata": {},
     "output_type": "display_data"
    }
   ],
   "source": [
    "plt.figure(figsize=(16, 8))  # Set the figure size\n",
    "\n",
    "sns.barplot(data=df_local_obito, x=df_local_obito['local_obito'], y=df_local_obito['quantidade'], palette=\"mako\")\n",
    "\n",
    "plt.title('Locais de óbito que mais aparecem na tabela')\n",
    "plt.show()"
   ]
  },
  {
   "cell_type": "markdown",
   "id": "4ff54dff",
   "metadata": {},
   "source": [
    "### Quantidade Faixa Etária"
   ]
  },
  {
   "cell_type": "code",
   "execution_count": 488,
   "id": "af1944c0",
   "metadata": {},
   "outputs": [
    {
     "data": {
      "text/plain": [
       "0        < 9\n",
       "1        < 9\n",
       "2        < 9\n",
       "3        < 9\n",
       "4        < 9\n",
       "        ... \n",
       "10430    N/I\n",
       "10431    N/I\n",
       "10432    N/I\n",
       "10433    N/I\n",
       "10434    N/I\n",
       "Name: faixa_etaria, Length: 10435, dtype: object"
      ]
     },
     "execution_count": 488,
     "metadata": {},
     "output_type": "execute_result"
    }
   ],
   "source": [
    "data.faixa_etaria"
   ]
  },
  {
   "cell_type": "code",
   "execution_count": 489,
   "id": "edfcce60",
   "metadata": {},
   "outputs": [],
   "source": [
    "quantidade_faixa_etaria = data.faixa_etaria.value_counts()"
   ]
  },
  {
   "cell_type": "code",
   "execution_count": 490,
   "id": "17e42f1f",
   "metadata": {},
   "outputs": [
    {
     "data": {
      "text/plain": [
       "faixa_etaria\n",
       "80 - 89    1250\n",
       "70 - 79    1236\n",
       "60 - 69    1174\n",
       "50 - 59    1083\n",
       "90 - 99    1020\n",
       "40 - 49     953\n",
       "30 - 39     829\n",
       "< 9         726\n",
       "20 - 29     691\n",
       "> 100       555\n",
       "10 - 19     492\n",
       "N/I         426\n",
       "Name: count, dtype: int64"
      ]
     },
     "execution_count": 490,
     "metadata": {},
     "output_type": "execute_result"
    }
   ],
   "source": [
    "quantidade_faixa_etaria"
   ]
  },
  {
   "cell_type": "code",
   "execution_count": 491,
   "id": "67081bdd",
   "metadata": {},
   "outputs": [
    {
     "name": "stdout",
     "output_type": "stream",
     "text": [
      "   faixa_etaria  quantidade\n",
      "0       80 - 89        1250\n",
      "1       70 - 79        1236\n",
      "2       60 - 69        1174\n",
      "3       50 - 59        1083\n",
      "4       90 - 99        1020\n",
      "5       40 - 49         953\n",
      "6       30 - 39         829\n",
      "7           < 9         726\n",
      "8       20 - 29         691\n",
      "9         > 100         555\n",
      "10      10 - 19         492\n",
      "11          N/I         426\n"
     ]
    }
   ],
   "source": [
    "df_faixa_etaria = quantidade_faixa_etaria.rename_axis('faixa_etaria').reset_index(name='quantidade')\n",
    "print(df_faixa_etaria)\n",
    "df_faixa_etaria.to_csv('faixa_etaria.csv')"
   ]
  },
  {
   "cell_type": "code",
   "execution_count": 492,
   "id": "c6252bb3",
   "metadata": {},
   "outputs": [
    {
     "data": {
      "text/html": [
       "<div>\n",
       "<style scoped>\n",
       "    .dataframe tbody tr th:only-of-type {\n",
       "        vertical-align: middle;\n",
       "    }\n",
       "\n",
       "    .dataframe tbody tr th {\n",
       "        vertical-align: top;\n",
       "    }\n",
       "\n",
       "    .dataframe thead th {\n",
       "        text-align: right;\n",
       "    }\n",
       "</style>\n",
       "<table border=\"1\" class=\"dataframe\">\n",
       "  <thead>\n",
       "    <tr style=\"text-align: right;\">\n",
       "      <th></th>\n",
       "      <th>faixa_etaria</th>\n",
       "      <th>quantidade</th>\n",
       "    </tr>\n",
       "  </thead>\n",
       "  <tbody>\n",
       "    <tr>\n",
       "      <th>0</th>\n",
       "      <td>80 - 89</td>\n",
       "      <td>1250</td>\n",
       "    </tr>\n",
       "    <tr>\n",
       "      <th>1</th>\n",
       "      <td>70 - 79</td>\n",
       "      <td>1236</td>\n",
       "    </tr>\n",
       "    <tr>\n",
       "      <th>2</th>\n",
       "      <td>60 - 69</td>\n",
       "      <td>1174</td>\n",
       "    </tr>\n",
       "    <tr>\n",
       "      <th>3</th>\n",
       "      <td>50 - 59</td>\n",
       "      <td>1083</td>\n",
       "    </tr>\n",
       "    <tr>\n",
       "      <th>4</th>\n",
       "      <td>90 - 99</td>\n",
       "      <td>1020</td>\n",
       "    </tr>\n",
       "    <tr>\n",
       "      <th>5</th>\n",
       "      <td>40 - 49</td>\n",
       "      <td>953</td>\n",
       "    </tr>\n",
       "    <tr>\n",
       "      <th>6</th>\n",
       "      <td>30 - 39</td>\n",
       "      <td>829</td>\n",
       "    </tr>\n",
       "    <tr>\n",
       "      <th>7</th>\n",
       "      <td>&lt; 9</td>\n",
       "      <td>726</td>\n",
       "    </tr>\n",
       "    <tr>\n",
       "      <th>8</th>\n",
       "      <td>20 - 29</td>\n",
       "      <td>691</td>\n",
       "    </tr>\n",
       "    <tr>\n",
       "      <th>9</th>\n",
       "      <td>&gt; 100</td>\n",
       "      <td>555</td>\n",
       "    </tr>\n",
       "    <tr>\n",
       "      <th>10</th>\n",
       "      <td>10 - 19</td>\n",
       "      <td>492</td>\n",
       "    </tr>\n",
       "    <tr>\n",
       "      <th>11</th>\n",
       "      <td>N/I</td>\n",
       "      <td>426</td>\n",
       "    </tr>\n",
       "  </tbody>\n",
       "</table>\n",
       "</div>"
      ],
      "text/plain": [
       "   faixa_etaria  quantidade\n",
       "0       80 - 89        1250\n",
       "1       70 - 79        1236\n",
       "2       60 - 69        1174\n",
       "3       50 - 59        1083\n",
       "4       90 - 99        1020\n",
       "5       40 - 49         953\n",
       "6       30 - 39         829\n",
       "7           < 9         726\n",
       "8       20 - 29         691\n",
       "9         > 100         555\n",
       "10      10 - 19         492\n",
       "11          N/I         426"
      ]
     },
     "execution_count": 492,
     "metadata": {},
     "output_type": "execute_result"
    }
   ],
   "source": [
    "df_faixa_etaria"
   ]
  },
  {
   "cell_type": "markdown",
   "id": "743227b1",
   "metadata": {},
   "source": [
    "Aqui são mostradas as idades que mais aparecem na tabela"
   ]
  },
  {
   "cell_type": "code",
   "execution_count": 493,
   "id": "92bdf474",
   "metadata": {},
   "outputs": [
    {
     "name": "stderr",
     "output_type": "stream",
     "text": [
      "/var/folders/dz/0xtgsvld2wj69430hwkw47hm0000gn/T/ipykernel_21556/2829050921.py:3: FutureWarning: \n",
      "\n",
      "Passing `palette` without assigning `hue` is deprecated and will be removed in v0.14.0. Assign the `x` variable to `hue` and set `legend=False` for the same effect.\n",
      "\n",
      "  sns.barplot(data=df_faixa_etaria, x=df_faixa_etaria['faixa_etaria'], y=df_faixa_etaria['quantidade'], palette=\"rocket\")\n"
     ]
    },
    {
     "data": {
      "image/png": "[encoded data removed]",
      "text/plain": [
       "<Figure size 1600x800 with 1 Axes>"
      ]
     },
     "metadata": {},
     "output_type": "display_data"
    }
   ],
   "source": [
    "plt.figure(figsize=(16, 8))  # Set the figure size\n",
    "\n",
    "sns.barplot(data=df_faixa_etaria, x=df_faixa_etaria['faixa_etaria'], y=df_faixa_etaria['quantidade'], palette=\"rocket\")\n",
    "\n",
    "plt.title('Faixa de etária que mais aparecem na tabela')\n",
    "plt.show()"
   ]
  },
  {
   "cell_type": "markdown",
   "id": "114a69df",
   "metadata": {},
   "source": [
    "### Quantidade: SEXO"
   ]
  },
  {
   "cell_type": "code",
   "execution_count": 494,
   "id": "776d69d0",
   "metadata": {
    "scrolled": true
   },
   "outputs": [
    {
     "data": {
      "text/plain": [
       "0        F\n",
       "1        M\n",
       "2        F\n",
       "3        I\n",
       "4        M\n",
       "        ..\n",
       "10430    F\n",
       "10431    I\n",
       "10432    M\n",
       "10433    F\n",
       "10434    M\n",
       "Name: sexo, Length: 10435, dtype: object"
      ]
     },
     "execution_count": 494,
     "metadata": {},
     "output_type": "execute_result"
    }
   ],
   "source": [
    "data.sexo"
   ]
  },
  {
   "cell_type": "code",
   "execution_count": 495,
   "id": "c6724db5",
   "metadata": {},
   "outputs": [],
   "source": [
    "quantidade_genero = data.sexo.value_counts()"
   ]
  },
  {
   "cell_type": "code",
   "execution_count": 496,
   "id": "f940ca17",
   "metadata": {},
   "outputs": [
    {
     "name": "stdout",
     "output_type": "stream",
     "text": [
      "  genero  quantidade\n",
      "0      M        5347\n",
      "1      F        4871\n",
      "2      I         217\n"
     ]
    }
   ],
   "source": [
    "df_genero = quantidade_genero.rename_axis('genero').reset_index(name='quantidade')\n",
    "print(df_genero)\n",
    "df_genero.to_csv('sexo.csv')"
   ]
  },
  {
   "cell_type": "code",
   "execution_count": 497,
   "id": "b3fd4107",
   "metadata": {},
   "outputs": [],
   "source": [
    "df_genero_data = pd.read_csv('sexo.csv')"
   ]
  },
  {
   "cell_type": "code",
   "execution_count": 498,
   "id": "108e7267",
   "metadata": {},
   "outputs": [
    {
     "data": {
      "text/html": [
       "<div>\n",
       "<style scoped>\n",
       "    .dataframe tbody tr th:only-of-type {\n",
       "        vertical-align: middle;\n",
       "    }\n",
       "\n",
       "    .dataframe tbody tr th {\n",
       "        vertical-align: top;\n",
       "    }\n",
       "\n",
       "    .dataframe thead th {\n",
       "        text-align: right;\n",
       "    }\n",
       "</style>\n",
       "<table border=\"1\" class=\"dataframe\">\n",
       "  <thead>\n",
       "    <tr style=\"text-align: right;\">\n",
       "      <th></th>\n",
       "      <th>Unnamed: 0</th>\n",
       "      <th>genero</th>\n",
       "      <th>quantidade</th>\n",
       "    </tr>\n",
       "  </thead>\n",
       "  <tbody>\n",
       "    <tr>\n",
       "      <th>0</th>\n",
       "      <td>0</td>\n",
       "      <td>M</td>\n",
       "      <td>5347</td>\n",
       "    </tr>\n",
       "    <tr>\n",
       "      <th>1</th>\n",
       "      <td>1</td>\n",
       "      <td>F</td>\n",
       "      <td>4871</td>\n",
       "    </tr>\n",
       "    <tr>\n",
       "      <th>2</th>\n",
       "      <td>2</td>\n",
       "      <td>I</td>\n",
       "      <td>217</td>\n",
       "    </tr>\n",
       "  </tbody>\n",
       "</table>\n",
       "</div>"
      ],
      "text/plain": [
       "   Unnamed: 0 genero  quantidade\n",
       "0           0      M        5347\n",
       "1           1      F        4871\n",
       "2           2      I         217"
      ]
     },
     "execution_count": 498,
     "metadata": {},
     "output_type": "execute_result"
    }
   ],
   "source": [
    "df_genero_data"
   ]
  },
  {
   "cell_type": "code",
   "execution_count": 499,
   "id": "434c0b7e",
   "metadata": {},
   "outputs": [],
   "source": [
    "df_genero_data\n",
    "df_genero_data.drop(df_genero_data.filter(regex=\"Unname\"),axis=1, inplace=True)"
   ]
  },
  {
   "cell_type": "code",
   "execution_count": 500,
   "id": "ddde7f95",
   "metadata": {},
   "outputs": [
    {
     "data": {
      "text/html": [
       "<div>\n",
       "<style scoped>\n",
       "    .dataframe tbody tr th:only-of-type {\n",
       "        vertical-align: middle;\n",
       "    }\n",
       "\n",
       "    .dataframe tbody tr th {\n",
       "        vertical-align: top;\n",
       "    }\n",
       "\n",
       "    .dataframe thead th {\n",
       "        text-align: right;\n",
       "    }\n",
       "</style>\n",
       "<table border=\"1\" class=\"dataframe\">\n",
       "  <thead>\n",
       "    <tr style=\"text-align: right;\">\n",
       "      <th></th>\n",
       "      <th>genero</th>\n",
       "      <th>quantidade</th>\n",
       "    </tr>\n",
       "  </thead>\n",
       "  <tbody>\n",
       "    <tr>\n",
       "      <th>0</th>\n",
       "      <td>M</td>\n",
       "      <td>5347</td>\n",
       "    </tr>\n",
       "    <tr>\n",
       "      <th>1</th>\n",
       "      <td>F</td>\n",
       "      <td>4871</td>\n",
       "    </tr>\n",
       "    <tr>\n",
       "      <th>2</th>\n",
       "      <td>I</td>\n",
       "      <td>217</td>\n",
       "    </tr>\n",
       "  </tbody>\n",
       "</table>\n",
       "</div>"
      ],
      "text/plain": [
       "  genero  quantidade\n",
       "0      M        5347\n",
       "1      F        4871\n",
       "2      I         217"
      ]
     },
     "execution_count": 500,
     "metadata": {},
     "output_type": "execute_result"
    }
   ],
   "source": [
    "df_genero_data"
   ]
  },
  {
   "cell_type": "markdown",
   "id": "7d0e1523",
   "metadata": {},
   "source": [
    "Diferença entre Feminino e Masculino"
   ]
  },
  {
   "cell_type": "code",
   "execution_count": 501,
   "id": "239a3bf8",
   "metadata": {},
   "outputs": [
    {
     "data": {
      "text/plain": [
       "476"
      ]
     },
     "execution_count": 501,
     "metadata": {},
     "output_type": "execute_result"
    }
   ],
   "source": [
    "sum(data.sexo == 'M') - sum(data.sexo == 'F')"
   ]
  },
  {
   "cell_type": "code",
   "execution_count": 502,
   "id": "dd37c9da",
   "metadata": {},
   "outputs": [
    {
     "data": {
      "text/plain": [
       "5088"
      ]
     },
     "execution_count": 502,
     "metadata": {},
     "output_type": "execute_result"
    }
   ],
   "source": [
    "sum(data.sexo == 'F') + sum(data.sexo == 'I')"
   ]
  },
  {
   "cell_type": "markdown",
   "id": "07694194",
   "metadata": {},
   "source": [
    "Esses são os gêneros que mais aparecem na tabela"
   ]
  },
  {
   "cell_type": "code",
   "execution_count": 503,
   "id": "88a56659",
   "metadata": {},
   "outputs": [
    {
     "name": "stderr",
     "output_type": "stream",
     "text": [
      "/var/folders/dz/0xtgsvld2wj69430hwkw47hm0000gn/T/ipykernel_21556/1245828778.py:3: FutureWarning: \n",
      "\n",
      "Passing `palette` without assigning `hue` is deprecated and will be removed in v0.14.0. Assign the `x` variable to `hue` and set `legend=False` for the same effect.\n",
      "\n",
      "  sns.barplot(data=df_genero, x=df_genero['genero'], y=df_genero['quantidade'], palette='magma')\n"
     ]
    },
    {
     "data": {
      "image/png": "[encoded data removed]",
      "text/plain": [
       "<Figure size 1000x600 with 1 Axes>"
      ]
     },
     "metadata": {},
     "output_type": "display_data"
    }
   ],
   "source": [
    "plt.figure(figsize=(10, 6))  # Set the figure size\n",
    "\n",
    "sns.barplot(data=df_genero, x=df_genero['genero'], y=df_genero['quantidade'], palette='magma')\n",
    "\n",
    "plt.title('Genêros que mais aparecem na tabela')\n",
    "plt.show()"
   ]
  },
  {
   "cell_type": "code",
   "execution_count": 504,
   "id": "1aa9bc7e",
   "metadata": {},
   "outputs": [
    {
     "data": {
      "text/html": [
       "<div>\n",
       "<style scoped>\n",
       "    .dataframe tbody tr th:only-of-type {\n",
       "        vertical-align: middle;\n",
       "    }\n",
       "\n",
       "    .dataframe tbody tr th {\n",
       "        vertical-align: top;\n",
       "    }\n",
       "\n",
       "    .dataframe thead th {\n",
       "        text-align: right;\n",
       "    }\n",
       "</style>\n",
       "<table border=\"1\" class=\"dataframe\">\n",
       "  <thead>\n",
       "    <tr style=\"text-align: right;\">\n",
       "      <th></th>\n",
       "      <th>uf</th>\n",
       "      <th>tipo_doenca</th>\n",
       "      <th>local_obito</th>\n",
       "      <th>faixa_etaria</th>\n",
       "      <th>sexo</th>\n",
       "      <th>total</th>\n",
       "    </tr>\n",
       "  </thead>\n",
       "  <tbody>\n",
       "    <tr>\n",
       "      <th>0</th>\n",
       "      <td>AC</td>\n",
       "      <td>OUTRAS</td>\n",
       "      <td>DOMICILIO</td>\n",
       "      <td>&lt; 9</td>\n",
       "      <td>F</td>\n",
       "      <td>4</td>\n",
       "    </tr>\n",
       "    <tr>\n",
       "      <th>1</th>\n",
       "      <td>AC</td>\n",
       "      <td>OUTRAS</td>\n",
       "      <td>DOMICILIO</td>\n",
       "      <td>&lt; 9</td>\n",
       "      <td>M</td>\n",
       "      <td>7</td>\n",
       "    </tr>\n",
       "    <tr>\n",
       "      <th>2</th>\n",
       "      <td>AC</td>\n",
       "      <td>OUTRAS</td>\n",
       "      <td>HOSPITAL</td>\n",
       "      <td>&lt; 9</td>\n",
       "      <td>F</td>\n",
       "      <td>19</td>\n",
       "    </tr>\n",
       "    <tr>\n",
       "      <th>3</th>\n",
       "      <td>AC</td>\n",
       "      <td>OUTRAS</td>\n",
       "      <td>HOSPITAL</td>\n",
       "      <td>&lt; 9</td>\n",
       "      <td>I</td>\n",
       "      <td>1</td>\n",
       "    </tr>\n",
       "    <tr>\n",
       "      <th>4</th>\n",
       "      <td>AC</td>\n",
       "      <td>OUTRAS</td>\n",
       "      <td>HOSPITAL</td>\n",
       "      <td>&lt; 9</td>\n",
       "      <td>M</td>\n",
       "      <td>26</td>\n",
       "    </tr>\n",
       "    <tr>\n",
       "      <th>...</th>\n",
       "      <td>...</td>\n",
       "      <td>...</td>\n",
       "      <td>...</td>\n",
       "      <td>...</td>\n",
       "      <td>...</td>\n",
       "      <td>...</td>\n",
       "    </tr>\n",
       "    <tr>\n",
       "      <th>10430</th>\n",
       "      <td>TO</td>\n",
       "      <td>SEPTICEMIA</td>\n",
       "      <td>HOSPITAL</td>\n",
       "      <td>N/I</td>\n",
       "      <td>F</td>\n",
       "      <td>7</td>\n",
       "    </tr>\n",
       "    <tr>\n",
       "      <th>10431</th>\n",
       "      <td>TO</td>\n",
       "      <td>SEPTICEMIA</td>\n",
       "      <td>HOSPITAL</td>\n",
       "      <td>N/I</td>\n",
       "      <td>I</td>\n",
       "      <td>1</td>\n",
       "    </tr>\n",
       "    <tr>\n",
       "      <th>10432</th>\n",
       "      <td>TO</td>\n",
       "      <td>SEPTICEMIA</td>\n",
       "      <td>HOSPITAL</td>\n",
       "      <td>N/I</td>\n",
       "      <td>M</td>\n",
       "      <td>22</td>\n",
       "    </tr>\n",
       "    <tr>\n",
       "      <th>10433</th>\n",
       "      <td>TO</td>\n",
       "      <td>SRAG</td>\n",
       "      <td>HOSPITAL</td>\n",
       "      <td>N/I</td>\n",
       "      <td>F</td>\n",
       "      <td>1</td>\n",
       "    </tr>\n",
       "    <tr>\n",
       "      <th>10434</th>\n",
       "      <td>TO</td>\n",
       "      <td>SRAG</td>\n",
       "      <td>HOSPITAL</td>\n",
       "      <td>N/I</td>\n",
       "      <td>M</td>\n",
       "      <td>1</td>\n",
       "    </tr>\n",
       "  </tbody>\n",
       "</table>\n",
       "<p>10435 rows × 6 columns</p>\n",
       "</div>"
      ],
      "text/plain": [
       "       uf tipo_doenca local_obito faixa_etaria sexo  total\n",
       "0      AC      OUTRAS   DOMICILIO          < 9    F      4\n",
       "1      AC      OUTRAS   DOMICILIO          < 9    M      7\n",
       "2      AC      OUTRAS    HOSPITAL          < 9    F     19\n",
       "3      AC      OUTRAS    HOSPITAL          < 9    I      1\n",
       "4      AC      OUTRAS    HOSPITAL          < 9    M     26\n",
       "...    ..         ...         ...          ...  ...    ...\n",
       "10430  TO  SEPTICEMIA    HOSPITAL          N/I    F      7\n",
       "10431  TO  SEPTICEMIA    HOSPITAL          N/I    I      1\n",
       "10432  TO  SEPTICEMIA    HOSPITAL          N/I    M     22\n",
       "10433  TO        SRAG    HOSPITAL          N/I    F      1\n",
       "10434  TO        SRAG    HOSPITAL          N/I    M      1\n",
       "\n",
       "[10435 rows x 6 columns]"
      ]
     },
     "execution_count": 504,
     "metadata": {},
     "output_type": "execute_result"
    }
   ],
   "source": [
    "data"
   ]
  },
  {
   "cell_type": "markdown",
   "id": "00201931",
   "metadata": {},
   "source": [
    "### Selecao de certos dados nas primeiras cinco cidades com mais óbitos no Brasil"
   ]
  },
  {
   "cell_type": "code",
   "execution_count": 505,
   "id": "4805c598",
   "metadata": {},
   "outputs": [
    {
     "data": {
      "text/plain": [
       "2"
      ]
     },
     "execution_count": 505,
     "metadata": {},
     "output_type": "execute_result"
    }
   ],
   "source": [
    "select = (data.uf == 'SP') & (data.local_obito == 'HOSPITAL') & (data.total >= 5) & (data.sexo == 'I')\n",
    "n1 = data[select].shape[0]\n",
    "n1"
   ]
  },
  {
   "cell_type": "code",
   "execution_count": 506,
   "id": "07c1868f",
   "metadata": {},
   "outputs": [
    {
     "data": {
      "text/plain": [
       "71"
      ]
     },
     "execution_count": 506,
     "metadata": {},
     "output_type": "execute_result"
    }
   ],
   "source": [
    "select = (data.uf == 'SP') & (data.local_obito == 'HOSPITAL') & (data.total >= 5) & (data.sexo == 'F')\n",
    "n2 = data[select].shape[0]\n",
    "n2"
   ]
  },
  {
   "cell_type": "code",
   "execution_count": 507,
   "id": "d59c0ed1",
   "metadata": {},
   "outputs": [
    {
     "data": {
      "text/plain": [
       "74"
      ]
     },
     "execution_count": 507,
     "metadata": {},
     "output_type": "execute_result"
    }
   ],
   "source": [
    "select = (data.uf == 'SP') & (data.local_obito == 'HOSPITAL') & (data.total >= 5) & (data.sexo == 'M')\n",
    "n3 = data[select].shape[0]\n",
    "n3"
   ]
  },
  {
   "cell_type": "code",
   "execution_count": 508,
   "id": "1c2f8dc0",
   "metadata": {},
   "outputs": [
    {
     "data": {
      "text/plain": [
       "125"
      ]
     },
     "execution_count": 508,
     "metadata": {},
     "output_type": "execute_result"
    }
   ],
   "source": [
    "select = (data.uf == 'MG') & (data.local_obito == 'DOMICILIO') & (data.total >= 0)\n",
    "n4 = data[select].shape[0]\n",
    "n4"
   ]
  },
  {
   "cell_type": "code",
   "execution_count": 509,
   "id": "d0bad419",
   "metadata": {},
   "outputs": [
    {
     "data": {
      "text/plain": [
       "117"
      ]
     },
     "execution_count": 509,
     "metadata": {},
     "output_type": "execute_result"
    }
   ],
   "source": [
    "select = (data.uf == 'MG') & (data.local_obito == 'OUTROS_SERVICOS_SAUDE') & (data.total >= 0)\n",
    "n4 = data[select].shape[0]\n",
    "n4"
   ]
  },
  {
   "cell_type": "code",
   "execution_count": 510,
   "id": "718b2a19",
   "metadata": {},
   "outputs": [
    {
     "data": {
      "text/plain": [
       "11"
      ]
     },
     "execution_count": 510,
     "metadata": {},
     "output_type": "execute_result"
    }
   ],
   "source": [
    "select = (data.uf == 'RJ') & (data.tipo_doenca == 'COVID') & (data.total >= 0) & (data.local_obito == 'OUTROS_SERVICOS_SAUDE')\n",
    "n5 = data[select].shape[0]\n",
    "n5"
   ]
  },
  {
   "cell_type": "code",
   "execution_count": 511,
   "id": "fac512b4",
   "metadata": {},
   "outputs": [
    {
     "data": {
      "text/plain": [
       "16"
      ]
     },
     "execution_count": 511,
     "metadata": {},
     "output_type": "execute_result"
    }
   ],
   "source": [
    "select = (data.uf == 'BA') & (data.tipo_doenca == 'INSUFICIENCIA_RESPIRATORIA') & (data.total >= 5) & (data.local_obito == 'DOMICILIO')\n",
    "n6 = data[select].shape[0]\n",
    "n6"
   ]
  },
  {
   "cell_type": "code",
   "execution_count": 512,
   "id": "0db9369c",
   "metadata": {},
   "outputs": [
    {
     "data": {
      "text/plain": [
       "2"
      ]
     },
     "execution_count": 512,
     "metadata": {},
     "output_type": "execute_result"
    }
   ],
   "source": [
    "select = (data.uf == 'CE') & (data.tipo_doenca == 'PNEUMONIA') & (data.total >= 10) & (data.local_obito == 'HOSPITAL') & (data.faixa_etaria == '80 - 89')\n",
    "n7 = data[select].shape[0]\n",
    "n7"
   ]
  },
  {
   "cell_type": "markdown",
   "id": "f37cf805",
   "metadata": {},
   "source": [
    "Foram selecionados certos dados de algumas cidades para assim fazer uma comparação entre eles"
   ]
  },
  {
   "cell_type": "code",
   "execution_count": 513,
   "id": "92b8f5bd",
   "metadata": {},
   "outputs": [
    {
     "name": "stdout",
     "output_type": "stream",
     "text": [
      "Número de óbitos em hospitais em São Paulo com mais de 5 óbitos com sexo indeterminado -> 2\n",
      "Número de óbitos em hospitais em São Paulo com mais de 5 óbitos com sexo feminino -> 71\n",
      "Número de óbitos em hospitais em São Paulo com mais de 5 óbitos com sexo masculino -> 74\n",
      "Número de óbitos em hospitais em Minas Gerais com mais de 0 óbitos -> 117\n",
      "Número de óbitos em outros servicos de saúde no Rio de Janeiro com mais de 0 óbitos -> 11\n",
      "Número de óbitos em hospitais no Ceará com mais de 10 óbitos com idades entre 80-89 anos por pneumonia -> 2\n"
     ]
    }
   ],
   "source": [
    "print('Número de óbitos em hospitais em São Paulo com mais de 5 óbitos com sexo indeterminado ->',format(n1))\n",
    "print('Número de óbitos em hospitais em São Paulo com mais de 5 óbitos com sexo feminino ->',format(n2))\n",
    "print('Número de óbitos em hospitais em São Paulo com mais de 5 óbitos com sexo masculino ->',format(n3))\n",
    "print('Número de óbitos em hospitais em Minas Gerais com mais de 0 óbitos ->',format(n4))\n",
    "print('Número de óbitos em outros servicos de saúde no Rio de Janeiro com mais de 0 óbitos ->',format(n5))\n",
    "print('Número de óbitos em hospitais no Ceará com mais de 10 óbitos com idades entre 80-89 anos por pneumonia ->',format(n7))"
   ]
  },
  {
   "cell_type": "markdown",
   "id": "79c25a93",
   "metadata": {},
   "source": [
    "É possível por exemplo, perceber que os estado de São Paulo teve uma quantidade de óbitos entre o sexo masculino e feminino, quase igualado, enquanto o indeterminado teve apenas 2"
   ]
  },
  {
   "cell_type": "code",
   "execution_count": 514,
   "id": "9379b3ea",
   "metadata": {},
   "outputs": [
    {
     "data": {
      "text/plain": [
       "uf\n",
       "SP    723\n",
       "MG    670\n",
       "RJ    530\n",
       "BA    510\n",
       "CE    507\n",
       "PE    496\n",
       "GO    494\n",
       "PR    484\n",
       "RS    480\n",
       "PA    442\n",
       "MA    409\n",
       "MT    382\n",
       "PB    380\n",
       "RN    380\n",
       "SC    369\n",
       "AL    353\n",
       "ES    341\n",
       "DF    334\n",
       "SE    315\n",
       "PI    297\n",
       "MS    290\n",
       "AM    287\n",
       "TO    255\n",
       "RO    229\n",
       "AC    194\n",
       "AP    175\n",
       "RR    109\n",
       "Name: count, dtype: int64"
      ]
     },
     "execution_count": 514,
     "metadata": {},
     "output_type": "execute_result"
    }
   ],
   "source": [
    "data.uf.value_counts()"
   ]
  },
  {
   "cell_type": "code",
   "execution_count": 515,
   "id": "ee598be8",
   "metadata": {},
   "outputs": [
    {
     "data": {
      "text/plain": [
       "local_obito\n",
       "HOSPITAL                 3519\n",
       "DOMICILIO                2235\n",
       "OUTROS_SERVICOS_SAUDE    1603\n",
       "OUTRO                    1377\n",
       "IGNORADO                  882\n",
       "VIA_PUBLICA               694\n",
       "POSTO_SAUDE                88\n",
       "AMBULANCIA                 37\n",
       "Name: count, dtype: int64"
      ]
     },
     "execution_count": 515,
     "metadata": {},
     "output_type": "execute_result"
    }
   ],
   "source": [
    "data.local_obito.value_counts()"
   ]
  },
  {
   "cell_type": "markdown",
   "id": "e6d0c11d",
   "metadata": {},
   "source": [
    "### Primeiro 5 estados com mais óbitos no Brasil"
   ]
  },
  {
   "cell_type": "markdown",
   "id": "d5ca83c8",
   "metadata": {},
   "source": [
    "Esses são os estados que aparacem dentro da tabela, porém isso não indica que eles tenham tido mais óbitos"
   ]
  },
  {
   "cell_type": "code",
   "execution_count": 516,
   "id": "a41848bf",
   "metadata": {},
   "outputs": [
    {
     "name": "stdout",
     "output_type": "stream",
     "text": [
      "Primeiro 5 estados com mais óbitos no Brasil:\n",
      "\n",
      "Primeiro Lugar -> SP   | 723\n",
      "Segundo Lugar ->  MG   | 670\n",
      "Terceiro Lugar -> RJ   | 530\n",
      "Quarto Lugar ->   BA   | 510\n",
      "Quinto Lugar ->   CE   | 507\n"
     ]
    }
   ],
   "source": [
    "print('Primeiro 5 estados com mais óbitos no Brasil:\\n')\n",
    "print('Primeiro Lugar ->',estados_df['estado'][0],'  |',estados_df['quantidade'][0])\n",
    "print('Segundo Lugar -> ',estados_df['estado'][1], '  |',estados_df['quantidade'][1])\n",
    "print('Terceiro Lugar ->',estados_df['estado'][2],'  |',estados_df['quantidade'][2])\n",
    "print('Quarto Lugar ->  ',estados_df['estado'][3],  '  |',estados_df['quantidade'][3])\n",
    "print('Quinto Lugar ->  ',estados_df['estado'][4],  '  |',estados_df['quantidade'][4])"
   ]
  },
  {
   "cell_type": "code",
   "execution_count": 517,
   "id": "8a0efb7d",
   "metadata": {},
   "outputs": [],
   "source": [
    "sao_paulo_obitos = data.query('uf == \"SP\"')\n",
    "total_sao_paulo_obitos = sao_paulo_obitos['total'].sum()"
   ]
  },
  {
   "cell_type": "code",
   "execution_count": 518,
   "id": "bd53ebdc",
   "metadata": {},
   "outputs": [],
   "source": [
    "minas_gerais_obitos = data.query('uf == \"MG\"')\n",
    "total_minas_gerais_obitos = minas_gerais_obitos['total'].sum()"
   ]
  },
  {
   "cell_type": "code",
   "execution_count": 519,
   "id": "8d27b42e",
   "metadata": {},
   "outputs": [],
   "source": [
    "rio_de_janeiro_obitos = data.query('uf == \"RJ\"')\n",
    "total_rio_de_janeiro_obitos = rio_de_janeiro_obitos['total'].sum()"
   ]
  },
  {
   "cell_type": "code",
   "execution_count": 520,
   "id": "f0d916c8",
   "metadata": {},
   "outputs": [],
   "source": [
    "bahia_obitos = data.query('uf == \"BA\"')\n",
    "total_bahia_obitos = bahia_obitos['total'].sum()"
   ]
  },
  {
   "cell_type": "code",
   "execution_count": 521,
   "id": "d75390b1",
   "metadata": {},
   "outputs": [],
   "source": [
    "ceara_obitos = data.query('uf == \"CE\"')\n",
    "total_ceara_obitos = ceara_obitos['total'].sum()"
   ]
  },
  {
   "cell_type": "markdown",
   "id": "936af08e",
   "metadata": {},
   "source": [
    "### Gráfico dos dados acima selecionados"
   ]
  },
  {
   "cell_type": "code",
   "execution_count": 522,
   "id": "c8dc8073",
   "metadata": {},
   "outputs": [],
   "source": [
    "dados_estados_mais_obitos = {\n",
    "  \"estados\": [\"São Paulo\", \"Minas Gerais\", \"Rio de Janeiro\", \"Bahia\", \"Ceará\"], \n",
    "  \"total\": [total_sao_paulo_obitos, total_minas_gerais_obitos, total_rio_de_janeiro_obitos, total_bahia_obitos, total_ceara_obitos]\n",
    "}"
   ]
  },
  {
   "cell_type": "code",
   "execution_count": 523,
   "id": "a3d8492b",
   "metadata": {},
   "outputs": [],
   "source": [
    "estados_com_mais_obitos = pd.DataFrame(data=dados_estados_mais_obitos)"
   ]
  },
  {
   "cell_type": "code",
   "execution_count": 529,
   "id": "94a64476",
   "metadata": {},
   "outputs": [
    {
     "data": {
      "text/html": [
       "<div>\n",
       "<style scoped>\n",
       "    .dataframe tbody tr th:only-of-type {\n",
       "        vertical-align: middle;\n",
       "    }\n",
       "\n",
       "    .dataframe tbody tr th {\n",
       "        vertical-align: top;\n",
       "    }\n",
       "\n",
       "    .dataframe thead th {\n",
       "        text-align: right;\n",
       "    }\n",
       "</style>\n",
       "<table border=\"1\" class=\"dataframe\">\n",
       "  <thead>\n",
       "    <tr style=\"text-align: right;\">\n",
       "      <th></th>\n",
       "      <th>estados</th>\n",
       "      <th>total</th>\n",
       "    </tr>\n",
       "  </thead>\n",
       "  <tbody>\n",
       "    <tr>\n",
       "      <th>0</th>\n",
       "      <td>São Paulo</td>\n",
       "      <td>114287</td>\n",
       "    </tr>\n",
       "    <tr>\n",
       "      <th>1</th>\n",
       "      <td>Minas Gerais</td>\n",
       "      <td>53684</td>\n",
       "    </tr>\n",
       "    <tr>\n",
       "      <th>2</th>\n",
       "      <td>Rio de Janeiro</td>\n",
       "      <td>49275</td>\n",
       "    </tr>\n",
       "    <tr>\n",
       "      <th>3</th>\n",
       "      <td>Bahia</td>\n",
       "      <td>25932</td>\n",
       "    </tr>\n",
       "    <tr>\n",
       "      <th>4</th>\n",
       "      <td>Ceará</td>\n",
       "      <td>17476</td>\n",
       "    </tr>\n",
       "  </tbody>\n",
       "</table>\n",
       "</div>"
      ],
      "text/plain": [
       "          estados   total\n",
       "0       São Paulo  114287\n",
       "1    Minas Gerais   53684\n",
       "2  Rio de Janeiro   49275\n",
       "3           Bahia   25932\n",
       "4           Ceará   17476"
      ]
     },
     "execution_count": 529,
     "metadata": {},
     "output_type": "execute_result"
    }
   ],
   "source": [
    "estados_com_mais_obitos"
   ]
  },
  {
   "cell_type": "code",
   "execution_count": null,
   "id": "ea1e74aa",
   "metadata": {},
   "outputs": [],
   "source": []
  },
  {
   "cell_type": "markdown",
   "id": "7ad881f8",
   "metadata": {},
   "source": [
    "Gráfico que mostra os estados do Brasil com mais óbitos tanto por covid, quanto outras doenças também "
   ]
  },
  {
   "cell_type": "code",
   "execution_count": 525,
   "id": "401a5bee",
   "metadata": {},
   "outputs": [
    {
     "name": "stderr",
     "output_type": "stream",
     "text": [
      "/var/folders/dz/0xtgsvld2wj69430hwkw47hm0000gn/T/ipykernel_21556/371071256.py:3: FutureWarning: \n",
      "\n",
      "Passing `palette` without assigning `hue` is deprecated and will be removed in v0.14.0. Assign the `x` variable to `hue` and set `legend=False` for the same effect.\n",
      "\n",
      "  sns.barplot(data=estados_com_mais_obitos, x=estados_com_mais_obitos['estados'], y=estados_com_mais_obitos['total'], palette=\"magma\")\n"
     ]
    },
    {
     "data": {
      "image/png": "[encoded data removed]",
      "text/plain": [
       "<Figure size 1600x800 with 1 Axes>"
      ]
     },
     "metadata": {},
     "output_type": "display_data"
    }
   ],
   "source": [
    "plt.figure(figsize=(16, 8))\n",
    "\n",
    "sns.barplot(data=estados_com_mais_obitos, x=estados_com_mais_obitos['estados'], y=estados_com_mais_obitos['total'], palette=\"magma\")\n",
    "\n",
    "plt.title('Estados com mais óbitos no país')\n",
    "plt.show()"
   ]
  },
  {
   "cell_type": "markdown",
   "id": "a7e04af9",
   "metadata": {},
   "source": [
    "### Comparando os óbitos por covid de outras doenças"
   ]
  },
  {
   "cell_type": "code",
   "execution_count": null,
   "id": "ba317885",
   "metadata": {},
   "outputs": [],
   "source": [
    "obitos_covid = data.query('tipo_doenca == \"COVID\"')\n",
    "outros_obitos = data.query('tipo_doenca != \"COVID\"')"
   ]
  },
  {
   "cell_type": "code",
   "execution_count": null,
   "id": "bd953f9d",
   "metadata": {},
   "outputs": [],
   "source": [
    "total_obitos_covid = obitos_covid['total'].sum()\n",
    "total_outros_obitos = outros_obitos['total'].sum()"
   ]
  },
  {
   "cell_type": "code",
   "execution_count": null,
   "id": "35300883",
   "metadata": {},
   "outputs": [
    {
     "data": {
      "text/plain": [
       "3377"
      ]
     },
     "execution_count": 402,
     "metadata": {},
     "output_type": "execute_result"
    }
   ],
   "source": [
    "total_obitos_covid"
   ]
  },
  {
   "cell_type": "code",
   "execution_count": null,
   "id": "baaa19ba",
   "metadata": {},
   "outputs": [
    {
     "data": {
      "text/plain": [
       "448149"
      ]
     },
     "execution_count": 403,
     "metadata": {},
     "output_type": "execute_result"
    }
   ],
   "source": [
    "total_outros_obitos"
   ]
  },
  {
   "cell_type": "code",
   "execution_count": null,
   "id": "94fda520",
   "metadata": {},
   "outputs": [],
   "source": [
    "dados_outros_obitos_e_covid = {\n",
    "  \"tipo_doenca\": [\"outras doencas\", \"COVID\"], \n",
    "  \"total\": [total_outros_obitos, total_obitos_covid]\n",
    "}"
   ]
  },
  {
   "cell_type": "code",
   "execution_count": null,
   "id": "052ae01e",
   "metadata": {},
   "outputs": [],
   "source": [
    "dados_obitos_tipo_doenca = pd.DataFrame(data=dados_outros_obitos_e_covid)"
   ]
  },
  {
   "cell_type": "markdown",
   "id": "bb77f3e9",
   "metadata": {},
   "source": [
    "#### Gráfico do DataFrame"
   ]
  },
  {
   "cell_type": "markdown",
   "id": "051e00d2",
   "metadata": {},
   "source": [
    "Esse é o gráfico da comparação entre os óbitos que ocorreram por outras doenças e pela COVID"
   ]
  },
  {
   "cell_type": "code",
   "execution_count": null,
   "id": "3fb4d157",
   "metadata": {},
   "outputs": [
    {
     "name": "stderr",
     "output_type": "stream",
     "text": [
      "/var/folders/dz/0xtgsvld2wj69430hwkw47hm0000gn/T/ipykernel_21556/1828222028.py:3: FutureWarning: \n",
      "\n",
      "Passing `palette` without assigning `hue` is deprecated and will be removed in v0.14.0. Assign the `x` variable to `hue` and set `legend=False` for the same effect.\n",
      "\n",
      "  sns.barplot(data=dados_obitos_tipo_doenca, x=dados_obitos_tipo_doenca['tipo_doenca'], y=dados_obitos_tipo_doenca['total'], palette=\"rocket\")\n"
     ]
    },
    {
     "data": {
      "image/png": "[encoded data removed]",
      "text/plain": [
       "<Figure size 1600x800 with 1 Axes>"
      ]
     },
     "metadata": {},
     "output_type": "display_data"
    }
   ],
   "source": [
    "plt.figure(figsize=(16, 8))\n",
    "\n",
    "sns.barplot(data=dados_obitos_tipo_doenca, x=dados_obitos_tipo_doenca['tipo_doenca'], y=dados_obitos_tipo_doenca['total'], palette=\"rocket\")\n",
    "\n",
    "plt.title('Comparação entre os óbitos por COVID e outras doenças')\n",
    "plt.show()"
   ]
  },
  {
   "cell_type": "markdown",
   "id": "7ed04830",
   "metadata": {},
   "source": [
    "### Calculando as estástiticas dos dados"
   ]
  },
  {
   "cell_type": "markdown",
   "id": "6e34134b",
   "metadata": {},
   "source": [
    "https://docs.python.org/3/library/statistics.html"
   ]
  },
  {
   "cell_type": "code",
   "execution_count": null,
   "id": "4ccfa5ca",
   "metadata": {},
   "outputs": [],
   "source": [
    "from statistics import *"
   ]
  },
  {
   "cell_type": "code",
   "execution_count": 536,
   "id": "8729d6e3",
   "metadata": {},
   "outputs": [
    {
     "data": {
      "text/html": [
       "<div>\n",
       "<style scoped>\n",
       "    .dataframe tbody tr th:only-of-type {\n",
       "        vertical-align: middle;\n",
       "    }\n",
       "\n",
       "    .dataframe tbody tr th {\n",
       "        vertical-align: top;\n",
       "    }\n",
       "\n",
       "    .dataframe thead th {\n",
       "        text-align: right;\n",
       "    }\n",
       "</style>\n",
       "<table border=\"1\" class=\"dataframe\">\n",
       "  <thead>\n",
       "    <tr style=\"text-align: right;\">\n",
       "      <th></th>\n",
       "      <th>uf</th>\n",
       "      <th>tipo_doenca</th>\n",
       "      <th>local_obito</th>\n",
       "      <th>faixa_etaria</th>\n",
       "      <th>sexo</th>\n",
       "      <th>total</th>\n",
       "    </tr>\n",
       "  </thead>\n",
       "  <tbody>\n",
       "    <tr>\n",
       "      <th>0</th>\n",
       "      <td>AC</td>\n",
       "      <td>OUTRAS</td>\n",
       "      <td>DOMICILIO</td>\n",
       "      <td>&lt; 9</td>\n",
       "      <td>F</td>\n",
       "      <td>4</td>\n",
       "    </tr>\n",
       "    <tr>\n",
       "      <th>1</th>\n",
       "      <td>AC</td>\n",
       "      <td>OUTRAS</td>\n",
       "      <td>DOMICILIO</td>\n",
       "      <td>&lt; 9</td>\n",
       "      <td>M</td>\n",
       "      <td>7</td>\n",
       "    </tr>\n",
       "    <tr>\n",
       "      <th>2</th>\n",
       "      <td>AC</td>\n",
       "      <td>OUTRAS</td>\n",
       "      <td>HOSPITAL</td>\n",
       "      <td>&lt; 9</td>\n",
       "      <td>F</td>\n",
       "      <td>19</td>\n",
       "    </tr>\n",
       "    <tr>\n",
       "      <th>3</th>\n",
       "      <td>AC</td>\n",
       "      <td>OUTRAS</td>\n",
       "      <td>HOSPITAL</td>\n",
       "      <td>&lt; 9</td>\n",
       "      <td>I</td>\n",
       "      <td>1</td>\n",
       "    </tr>\n",
       "    <tr>\n",
       "      <th>4</th>\n",
       "      <td>AC</td>\n",
       "      <td>OUTRAS</td>\n",
       "      <td>HOSPITAL</td>\n",
       "      <td>&lt; 9</td>\n",
       "      <td>M</td>\n",
       "      <td>26</td>\n",
       "    </tr>\n",
       "    <tr>\n",
       "      <th>...</th>\n",
       "      <td>...</td>\n",
       "      <td>...</td>\n",
       "      <td>...</td>\n",
       "      <td>...</td>\n",
       "      <td>...</td>\n",
       "      <td>...</td>\n",
       "    </tr>\n",
       "    <tr>\n",
       "      <th>10430</th>\n",
       "      <td>TO</td>\n",
       "      <td>SEPTICEMIA</td>\n",
       "      <td>HOSPITAL</td>\n",
       "      <td>N/I</td>\n",
       "      <td>F</td>\n",
       "      <td>7</td>\n",
       "    </tr>\n",
       "    <tr>\n",
       "      <th>10431</th>\n",
       "      <td>TO</td>\n",
       "      <td>SEPTICEMIA</td>\n",
       "      <td>HOSPITAL</td>\n",
       "      <td>N/I</td>\n",
       "      <td>I</td>\n",
       "      <td>1</td>\n",
       "    </tr>\n",
       "    <tr>\n",
       "      <th>10432</th>\n",
       "      <td>TO</td>\n",
       "      <td>SEPTICEMIA</td>\n",
       "      <td>HOSPITAL</td>\n",
       "      <td>N/I</td>\n",
       "      <td>M</td>\n",
       "      <td>22</td>\n",
       "    </tr>\n",
       "    <tr>\n",
       "      <th>10433</th>\n",
       "      <td>TO</td>\n",
       "      <td>SRAG</td>\n",
       "      <td>HOSPITAL</td>\n",
       "      <td>N/I</td>\n",
       "      <td>F</td>\n",
       "      <td>1</td>\n",
       "    </tr>\n",
       "    <tr>\n",
       "      <th>10434</th>\n",
       "      <td>TO</td>\n",
       "      <td>SRAG</td>\n",
       "      <td>HOSPITAL</td>\n",
       "      <td>N/I</td>\n",
       "      <td>M</td>\n",
       "      <td>1</td>\n",
       "    </tr>\n",
       "  </tbody>\n",
       "</table>\n",
       "<p>10435 rows × 6 columns</p>\n",
       "</div>"
      ],
      "text/plain": [
       "       uf tipo_doenca local_obito faixa_etaria sexo  total\n",
       "0      AC      OUTRAS   DOMICILIO          < 9    F      4\n",
       "1      AC      OUTRAS   DOMICILIO          < 9    M      7\n",
       "2      AC      OUTRAS    HOSPITAL          < 9    F     19\n",
       "3      AC      OUTRAS    HOSPITAL          < 9    I      1\n",
       "4      AC      OUTRAS    HOSPITAL          < 9    M     26\n",
       "...    ..         ...         ...          ...  ...    ...\n",
       "10430  TO  SEPTICEMIA    HOSPITAL          N/I    F      7\n",
       "10431  TO  SEPTICEMIA    HOSPITAL          N/I    I      1\n",
       "10432  TO  SEPTICEMIA    HOSPITAL          N/I    M     22\n",
       "10433  TO        SRAG    HOSPITAL          N/I    F      1\n",
       "10434  TO        SRAG    HOSPITAL          N/I    M      1\n",
       "\n",
       "[10435 rows x 6 columns]"
      ]
     },
     "execution_count": 536,
     "metadata": {},
     "output_type": "execute_result"
    }
   ],
   "source": [
    "data"
   ]
  },
  {
   "cell_type": "code",
   "execution_count": 541,
   "id": "de8942e2",
   "metadata": {},
   "outputs": [
    {
     "data": {
      "text/html": [
       "<div>\n",
       "<style scoped>\n",
       "    .dataframe tbody tr th:only-of-type {\n",
       "        vertical-align: middle;\n",
       "    }\n",
       "\n",
       "    .dataframe tbody tr th {\n",
       "        vertical-align: top;\n",
       "    }\n",
       "\n",
       "    .dataframe thead th {\n",
       "        text-align: right;\n",
       "    }\n",
       "</style>\n",
       "<table border=\"1\" class=\"dataframe\">\n",
       "  <thead>\n",
       "    <tr style=\"text-align: right;\">\n",
       "      <th></th>\n",
       "      <th>uf</th>\n",
       "      <th>tipo_doenca</th>\n",
       "      <th>local_obito</th>\n",
       "      <th>faixa_etaria</th>\n",
       "      <th>sexo</th>\n",
       "      <th>total</th>\n",
       "    </tr>\n",
       "  </thead>\n",
       "  <tbody>\n",
       "    <tr>\n",
       "      <th>0</th>\n",
       "      <td>AC</td>\n",
       "      <td>OUTRAS</td>\n",
       "      <td>DOMICILIO</td>\n",
       "      <td>&lt; 9</td>\n",
       "      <td>F</td>\n",
       "      <td>4</td>\n",
       "    </tr>\n",
       "    <tr>\n",
       "      <th>1</th>\n",
       "      <td>AC</td>\n",
       "      <td>OUTRAS</td>\n",
       "      <td>DOMICILIO</td>\n",
       "      <td>&lt; 9</td>\n",
       "      <td>M</td>\n",
       "      <td>7</td>\n",
       "    </tr>\n",
       "    <tr>\n",
       "      <th>2</th>\n",
       "      <td>AC</td>\n",
       "      <td>OUTRAS</td>\n",
       "      <td>HOSPITAL</td>\n",
       "      <td>&lt; 9</td>\n",
       "      <td>F</td>\n",
       "      <td>19</td>\n",
       "    </tr>\n",
       "    <tr>\n",
       "      <th>3</th>\n",
       "      <td>AC</td>\n",
       "      <td>OUTRAS</td>\n",
       "      <td>HOSPITAL</td>\n",
       "      <td>&lt; 9</td>\n",
       "      <td>I</td>\n",
       "      <td>1</td>\n",
       "    </tr>\n",
       "    <tr>\n",
       "      <th>4</th>\n",
       "      <td>AC</td>\n",
       "      <td>OUTRAS</td>\n",
       "      <td>HOSPITAL</td>\n",
       "      <td>&lt; 9</td>\n",
       "      <td>M</td>\n",
       "      <td>26</td>\n",
       "    </tr>\n",
       "    <tr>\n",
       "      <th>...</th>\n",
       "      <td>...</td>\n",
       "      <td>...</td>\n",
       "      <td>...</td>\n",
       "      <td>...</td>\n",
       "      <td>...</td>\n",
       "      <td>...</td>\n",
       "    </tr>\n",
       "    <tr>\n",
       "      <th>10430</th>\n",
       "      <td>TO</td>\n",
       "      <td>SEPTICEMIA</td>\n",
       "      <td>HOSPITAL</td>\n",
       "      <td>N/I</td>\n",
       "      <td>F</td>\n",
       "      <td>7</td>\n",
       "    </tr>\n",
       "    <tr>\n",
       "      <th>10431</th>\n",
       "      <td>TO</td>\n",
       "      <td>SEPTICEMIA</td>\n",
       "      <td>HOSPITAL</td>\n",
       "      <td>N/I</td>\n",
       "      <td>I</td>\n",
       "      <td>1</td>\n",
       "    </tr>\n",
       "    <tr>\n",
       "      <th>10432</th>\n",
       "      <td>TO</td>\n",
       "      <td>SEPTICEMIA</td>\n",
       "      <td>HOSPITAL</td>\n",
       "      <td>N/I</td>\n",
       "      <td>M</td>\n",
       "      <td>22</td>\n",
       "    </tr>\n",
       "    <tr>\n",
       "      <th>10433</th>\n",
       "      <td>TO</td>\n",
       "      <td>SRAG</td>\n",
       "      <td>HOSPITAL</td>\n",
       "      <td>N/I</td>\n",
       "      <td>F</td>\n",
       "      <td>1</td>\n",
       "    </tr>\n",
       "    <tr>\n",
       "      <th>10434</th>\n",
       "      <td>TO</td>\n",
       "      <td>SRAG</td>\n",
       "      <td>HOSPITAL</td>\n",
       "      <td>N/I</td>\n",
       "      <td>M</td>\n",
       "      <td>1</td>\n",
       "    </tr>\n",
       "  </tbody>\n",
       "</table>\n",
       "<p>9712 rows × 6 columns</p>\n",
       "</div>"
      ],
      "text/plain": [
       "       uf tipo_doenca local_obito faixa_etaria sexo  total\n",
       "0      AC      OUTRAS   DOMICILIO          < 9    F      4\n",
       "1      AC      OUTRAS   DOMICILIO          < 9    M      7\n",
       "2      AC      OUTRAS    HOSPITAL          < 9    F     19\n",
       "3      AC      OUTRAS    HOSPITAL          < 9    I      1\n",
       "4      AC      OUTRAS    HOSPITAL          < 9    M     26\n",
       "...    ..         ...         ...          ...  ...    ...\n",
       "10430  TO  SEPTICEMIA    HOSPITAL          N/I    F      7\n",
       "10431  TO  SEPTICEMIA    HOSPITAL          N/I    I      1\n",
       "10432  TO  SEPTICEMIA    HOSPITAL          N/I    M     22\n",
       "10433  TO        SRAG    HOSPITAL          N/I    F      1\n",
       "10434  TO        SRAG    HOSPITAL          N/I    M      1\n",
       "\n",
       "[9712 rows x 6 columns]"
      ]
     },
     "execution_count": 541,
     "metadata": {},
     "output_type": "execute_result"
    }
   ],
   "source": [
    "dados_sao_paulo = data.query('total > 0 and uf == \"SP\"')\n",
    "dados_sao_paulo\n",
    "\n",
    "dados_sem_sao_paulo = data.query('total > 0 and uf != \"SP\"')\n",
    "dados_sem_sao_paulo"
   ]
  },
  {
   "cell_type": "markdown",
   "id": "3ef8583e",
   "metadata": {},
   "source": [
    " statistics.mean(data)"
   ]
  },
  {
   "cell_type": "markdown",
   "id": "d272829f",
   "metadata": {},
   "source": [
    "Retorna a média aritmética da amostra dos dados que pode ser uma sequência ou iterável."
   ]
  },
  {
   "cell_type": "markdown",
   "id": "11cccdf9",
   "metadata": {},
   "source": [
    "Essa é a comparação da média entre o total de óbitos apenas na cidade de São Paulo comparado com o resto do Brasil, o que é um número bem alto, para apenas uma cidade, mesmo que essa tenha 12,3 milhões de habitantes."
   ]
  },
  {
   "cell_type": "code",
   "execution_count": 542,
   "id": "c3a3d150",
   "metadata": {},
   "outputs": [
    {
     "data": {
      "text/plain": [
       "34.72394975288303"
      ]
     },
     "execution_count": 542,
     "metadata": {},
     "output_type": "execute_result"
    }
   ],
   "source": [
    "mean(dados_sem_sao_paulo['total'])"
   ]
  },
  {
   "cell_type": "code",
   "execution_count": 543,
   "id": "b4846f1d",
   "metadata": {},
   "outputs": [
    {
     "data": {
      "text/plain": [
       "158.07330567081604"
      ]
     },
     "execution_count": 543,
     "metadata": {},
     "output_type": "execute_result"
    }
   ],
   "source": [
    "mean(dados_sao_paulo['total'])"
   ]
  },
  {
   "cell_type": "markdown",
   "id": "ed4763c7",
   "metadata": {},
   "source": [
    "statistics.median(data)"
   ]
  },
  {
   "cell_type": "markdown",
   "id": "0094a5f5",
   "metadata": {},
   "source": [
    "Retorne a mediana (valor do meio) dos dados numéricos, usando o método comum “média dos dois do meio”"
   ]
  },
  {
   "cell_type": "markdown",
   "id": "ce0a28e9",
   "metadata": {},
   "source": []
  },
  {
   "cell_type": "code",
   "execution_count": 544,
   "id": "e7bf8918",
   "metadata": {},
   "outputs": [
    {
     "data": {
      "text/plain": [
       "8"
      ]
     },
     "execution_count": 544,
     "metadata": {},
     "output_type": "execute_result"
    }
   ],
   "source": [
    "median(dados_sao_paulo['total'])"
   ]
  },
  {
   "cell_type": "code",
   "execution_count": 545,
   "id": "c3e71c06",
   "metadata": {},
   "outputs": [
    {
     "data": {
      "text/plain": [
       "4.0"
      ]
     },
     "execution_count": 545,
     "metadata": {},
     "output_type": "execute_result"
    }
   ],
   "source": [
    "median(dados_sem_sao_paulo['total'])"
   ]
  },
  {
   "cell_type": "markdown",
   "id": "56aa3973",
   "metadata": {},
   "source": [
    "statistics.median_low(data)"
   ]
  },
  {
   "cell_type": "markdown",
   "id": "071b814a",
   "metadata": {},
   "source": [
    "Return the low median of numeric data"
   ]
  },
  {
   "cell_type": "code",
   "execution_count": 546,
   "id": "03adc528",
   "metadata": {},
   "outputs": [
    {
     "data": {
      "text/plain": [
       "8"
      ]
     },
     "execution_count": 546,
     "metadata": {},
     "output_type": "execute_result"
    }
   ],
   "source": [
    "median_low(dados_sao_paulo.total)"
   ]
  },
  {
   "cell_type": "code",
   "execution_count": 547,
   "id": "b97a0374",
   "metadata": {},
   "outputs": [
    {
     "data": {
      "text/plain": [
       "4"
      ]
     },
     "execution_count": 547,
     "metadata": {},
     "output_type": "execute_result"
    }
   ],
   "source": [
    "median_low(dados_sem_sao_paulo.total)"
   ]
  },
  {
   "cell_type": "markdown",
   "id": "275dcad4",
   "metadata": {},
   "source": [
    "statistics.median_high(data)"
   ]
  },
  {
   "cell_type": "markdown",
   "id": "44f0b756",
   "metadata": {},
   "source": [
    "Return the high median of data. If data is empty, StatisticsError is raised. data can be a sequence or iterable."
   ]
  },
  {
   "cell_type": "code",
   "execution_count": 548,
   "id": "ce42a14d",
   "metadata": {},
   "outputs": [
    {
     "data": {
      "text/plain": [
       "8"
      ]
     },
     "execution_count": 548,
     "metadata": {},
     "output_type": "execute_result"
    }
   ],
   "source": [
    "median_high(dados_sao_paulo.total)"
   ]
  },
  {
   "cell_type": "code",
   "execution_count": 549,
   "id": "d7c1060e",
   "metadata": {},
   "outputs": [
    {
     "data": {
      "text/plain": [
       "4"
      ]
     },
     "execution_count": 549,
     "metadata": {},
     "output_type": "execute_result"
    }
   ],
   "source": [
    "median_high(dados_sem_sao_paulo.total)"
   ]
  },
  {
   "cell_type": "markdown",
   "id": "55aca1c3",
   "metadata": {},
   "source": [
    "statistics.mode(data)"
   ]
  },
  {
   "cell_type": "markdown",
   "id": "001da5d1",
   "metadata": {},
   "source": [
    "Return the single most common data point from discrete or nominal data."
   ]
  },
  {
   "cell_type": "code",
   "execution_count": 550,
   "id": "af723ec2",
   "metadata": {},
   "outputs": [
    {
     "data": {
      "text/plain": [
       "1"
      ]
     },
     "execution_count": 550,
     "metadata": {},
     "output_type": "execute_result"
    }
   ],
   "source": [
    "mode(dados_sao_paulo.total)"
   ]
  },
  {
   "cell_type": "code",
   "execution_count": 551,
   "id": "769934f8",
   "metadata": {},
   "outputs": [
    {
     "data": {
      "text/plain": [
       "1"
      ]
     },
     "execution_count": 551,
     "metadata": {},
     "output_type": "execute_result"
    }
   ],
   "source": [
    "mode(dados_sem_sao_paulo.total)"
   ]
  },
  {
   "cell_type": "markdown",
   "id": "3dda0626",
   "metadata": {},
   "source": [
    "statistics.stdev(data, xbar=None)"
   ]
  },
  {
   "cell_type": "markdown",
   "id": "470e40ab",
   "metadata": {},
   "source": [
    "return the sample standard deviation (the square root of the sample variance)"
   ]
  },
  {
   "cell_type": "code",
   "execution_count": 554,
   "id": "f6af50de",
   "metadata": {},
   "outputs": [
    {
     "data": {
      "text/plain": [
       "512.967977156825"
      ]
     },
     "execution_count": 554,
     "metadata": {},
     "output_type": "execute_result"
    }
   ],
   "source": [
    "stdev(dados_sao_paulo.total)"
   ]
  },
  {
   "cell_type": "code",
   "execution_count": 555,
   "id": "566239d9",
   "metadata": {},
   "outputs": [
    {
     "data": {
      "text/plain": [
       "114.57872806620355"
      ]
     },
     "execution_count": 555,
     "metadata": {},
     "output_type": "execute_result"
    }
   ],
   "source": [
    "stdev(dados_sem_sao_paulo.total)"
   ]
  },
  {
   "cell_type": "markdown",
   "id": "1afcd83d",
   "metadata": {},
   "source": [
    "statistics.variance(data, xbar=None)"
   ]
  },
  {
   "cell_type": "markdown",
   "id": "71172898",
   "metadata": {},
   "source": [
    "Return the sample variance of data, an iterable of at least two real-valued numbers. If the optional second argument xbar is given, it should be the sample mean of data"
   ]
  },
  {
   "cell_type": "code",
   "execution_count": 556,
   "id": "bea65172",
   "metadata": {},
   "outputs": [
    {
     "data": {
      "text/plain": [
       "263136.14558836486"
      ]
     },
     "execution_count": 556,
     "metadata": {},
     "output_type": "execute_result"
    }
   ],
   "source": [
    "variance(dados_sao_paulo.total)"
   ]
  },
  {
   "cell_type": "code",
   "execution_count": 557,
   "id": "9c39a9af",
   "metadata": {},
   "outputs": [
    {
     "data": {
      "text/plain": [
       "13128.284925269023"
      ]
     },
     "execution_count": 557,
     "metadata": {},
     "output_type": "execute_result"
    }
   ],
   "source": [
    "variance(dados_sem_sao_paulo.total)"
   ]
  }
 ],
 "metadata": {
  "kernelspec": {
   "display_name": "Python 3 (ipykernel)",
   "language": "python",
   "name": "python3"
  },
  "language_info": {
   "codemirror_mode": {
    "name": "ipython",
    "version": 3
   },
   "file_extension": ".py",
   "mimetype": "text/x-python",
   "name": "python",
   "nbconvert_exporter": "python",
   "pygments_lexer": "ipython3",
   "version": "3.12.0"
  },
  "widgets": {
   "application/vnd.jupyter.widget-state+json": {
    "state": {},
    "version_major": 2,
    "version_minor": 0
   }
  }
 },
 "nbformat": 4,
 "nbformat_minor": 5
}
