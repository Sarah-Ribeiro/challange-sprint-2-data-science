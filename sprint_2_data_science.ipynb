{
 "cells": [
  {
   "cell_type": "code",
   "execution_count": 218,
   "id": "928f7117-9db3-495a-9ba6-524d7e4314c9",
   "metadata": {},
   "outputs": [],
   "source": [
    "import pandas as pd"
   ]
  },
  {
   "cell_type": "code",
   "execution_count": 219,
   "id": "e9126399-c6c5-4655-9f39-0415e47334b1",
   "metadata": {},
   "outputs": [],
   "source": [
    "data = pd.read_csv('obitos-2024.csv')"
   ]
  },
  {
   "cell_type": "code",
   "execution_count": 220,
   "id": "f4d1fa04-cb12-47cf-bc33-fde949554028",
   "metadata": {},
   "outputs": [
    {
     "data": {
      "text/html": [
       "<div>\n",
       "<style scoped>\n",
       "    .dataframe tbody tr th:only-of-type {\n",
       "        vertical-align: middle;\n",
       "    }\n",
       "\n",
       "    .dataframe tbody tr th {\n",
       "        vertical-align: top;\n",
       "    }\n",
       "\n",
       "    .dataframe thead th {\n",
       "        text-align: right;\n",
       "    }\n",
       "</style>\n",
       "<table border=\"1\" class=\"dataframe\">\n",
       "  <thead>\n",
       "    <tr style=\"text-align: right;\">\n",
       "      <th></th>\n",
       "      <th>uf</th>\n",
       "      <th>tipo_doenca</th>\n",
       "      <th>local_obito</th>\n",
       "      <th>faixa_etaria</th>\n",
       "      <th>sexo</th>\n",
       "      <th>total</th>\n",
       "    </tr>\n",
       "  </thead>\n",
       "  <tbody>\n",
       "    <tr>\n",
       "      <th>0</th>\n",
       "      <td>AC</td>\n",
       "      <td>OUTRAS</td>\n",
       "      <td>DOMICILIO</td>\n",
       "      <td>&lt; 9</td>\n",
       "      <td>F</td>\n",
       "      <td>4</td>\n",
       "    </tr>\n",
       "    <tr>\n",
       "      <th>1</th>\n",
       "      <td>AC</td>\n",
       "      <td>OUTRAS</td>\n",
       "      <td>DOMICILIO</td>\n",
       "      <td>&lt; 9</td>\n",
       "      <td>M</td>\n",
       "      <td>7</td>\n",
       "    </tr>\n",
       "    <tr>\n",
       "      <th>2</th>\n",
       "      <td>AC</td>\n",
       "      <td>OUTRAS</td>\n",
       "      <td>HOSPITAL</td>\n",
       "      <td>&lt; 9</td>\n",
       "      <td>F</td>\n",
       "      <td>19</td>\n",
       "    </tr>\n",
       "    <tr>\n",
       "      <th>3</th>\n",
       "      <td>AC</td>\n",
       "      <td>OUTRAS</td>\n",
       "      <td>HOSPITAL</td>\n",
       "      <td>&lt; 9</td>\n",
       "      <td>I</td>\n",
       "      <td>1</td>\n",
       "    </tr>\n",
       "    <tr>\n",
       "      <th>4</th>\n",
       "      <td>AC</td>\n",
       "      <td>OUTRAS</td>\n",
       "      <td>HOSPITAL</td>\n",
       "      <td>&lt; 9</td>\n",
       "      <td>M</td>\n",
       "      <td>26</td>\n",
       "    </tr>\n",
       "    <tr>\n",
       "      <th>...</th>\n",
       "      <td>...</td>\n",
       "      <td>...</td>\n",
       "      <td>...</td>\n",
       "      <td>...</td>\n",
       "      <td>...</td>\n",
       "      <td>...</td>\n",
       "    </tr>\n",
       "    <tr>\n",
       "      <th>10430</th>\n",
       "      <td>TO</td>\n",
       "      <td>SEPTICEMIA</td>\n",
       "      <td>HOSPITAL</td>\n",
       "      <td>N/I</td>\n",
       "      <td>F</td>\n",
       "      <td>7</td>\n",
       "    </tr>\n",
       "    <tr>\n",
       "      <th>10431</th>\n",
       "      <td>TO</td>\n",
       "      <td>SEPTICEMIA</td>\n",
       "      <td>HOSPITAL</td>\n",
       "      <td>N/I</td>\n",
       "      <td>I</td>\n",
       "      <td>1</td>\n",
       "    </tr>\n",
       "    <tr>\n",
       "      <th>10432</th>\n",
       "      <td>TO</td>\n",
       "      <td>SEPTICEMIA</td>\n",
       "      <td>HOSPITAL</td>\n",
       "      <td>N/I</td>\n",
       "      <td>M</td>\n",
       "      <td>22</td>\n",
       "    </tr>\n",
       "    <tr>\n",
       "      <th>10433</th>\n",
       "      <td>TO</td>\n",
       "      <td>SRAG</td>\n",
       "      <td>HOSPITAL</td>\n",
       "      <td>N/I</td>\n",
       "      <td>F</td>\n",
       "      <td>1</td>\n",
       "    </tr>\n",
       "    <tr>\n",
       "      <th>10434</th>\n",
       "      <td>TO</td>\n",
       "      <td>SRAG</td>\n",
       "      <td>HOSPITAL</td>\n",
       "      <td>N/I</td>\n",
       "      <td>M</td>\n",
       "      <td>1</td>\n",
       "    </tr>\n",
       "  </tbody>\n",
       "</table>\n",
       "<p>10435 rows × 6 columns</p>\n",
       "</div>"
      ],
      "text/plain": [
       "       uf tipo_doenca local_obito faixa_etaria sexo  total\n",
       "0      AC      OUTRAS   DOMICILIO          < 9    F      4\n",
       "1      AC      OUTRAS   DOMICILIO          < 9    M      7\n",
       "2      AC      OUTRAS    HOSPITAL          < 9    F     19\n",
       "3      AC      OUTRAS    HOSPITAL          < 9    I      1\n",
       "4      AC      OUTRAS    HOSPITAL          < 9    M     26\n",
       "...    ..         ...         ...          ...  ...    ...\n",
       "10430  TO  SEPTICEMIA    HOSPITAL          N/I    F      7\n",
       "10431  TO  SEPTICEMIA    HOSPITAL          N/I    I      1\n",
       "10432  TO  SEPTICEMIA    HOSPITAL          N/I    M     22\n",
       "10433  TO        SRAG    HOSPITAL          N/I    F      1\n",
       "10434  TO        SRAG    HOSPITAL          N/I    M      1\n",
       "\n",
       "[10435 rows x 6 columns]"
      ]
     },
     "execution_count": 220,
     "metadata": {},
     "output_type": "execute_result"
    }
   ],
   "source": [
    "data"
   ]
  },
  {
   "cell_type": "code",
   "execution_count": 221,
   "id": "0750315c-755d-408f-8ccd-1f1c3cb9e86f",
   "metadata": {},
   "outputs": [
    {
     "data": {
      "text/html": [
       "<div>\n",
       "<style scoped>\n",
       "    .dataframe tbody tr th:only-of-type {\n",
       "        vertical-align: middle;\n",
       "    }\n",
       "\n",
       "    .dataframe tbody tr th {\n",
       "        vertical-align: top;\n",
       "    }\n",
       "\n",
       "    .dataframe thead th {\n",
       "        text-align: right;\n",
       "    }\n",
       "</style>\n",
       "<table border=\"1\" class=\"dataframe\">\n",
       "  <thead>\n",
       "    <tr style=\"text-align: right;\">\n",
       "      <th></th>\n",
       "      <th>uf</th>\n",
       "      <th>tipo_doenca</th>\n",
       "      <th>local_obito</th>\n",
       "      <th>faixa_etaria</th>\n",
       "      <th>sexo</th>\n",
       "      <th>total</th>\n",
       "    </tr>\n",
       "  </thead>\n",
       "  <tbody>\n",
       "    <tr>\n",
       "      <th>0</th>\n",
       "      <td>AC</td>\n",
       "      <td>OUTRAS</td>\n",
       "      <td>DOMICILIO</td>\n",
       "      <td>&lt; 9</td>\n",
       "      <td>F</td>\n",
       "      <td>4</td>\n",
       "    </tr>\n",
       "    <tr>\n",
       "      <th>1</th>\n",
       "      <td>AC</td>\n",
       "      <td>OUTRAS</td>\n",
       "      <td>DOMICILIO</td>\n",
       "      <td>&lt; 9</td>\n",
       "      <td>M</td>\n",
       "      <td>7</td>\n",
       "    </tr>\n",
       "    <tr>\n",
       "      <th>2</th>\n",
       "      <td>AC</td>\n",
       "      <td>OUTRAS</td>\n",
       "      <td>HOSPITAL</td>\n",
       "      <td>&lt; 9</td>\n",
       "      <td>F</td>\n",
       "      <td>19</td>\n",
       "    </tr>\n",
       "    <tr>\n",
       "      <th>3</th>\n",
       "      <td>AC</td>\n",
       "      <td>OUTRAS</td>\n",
       "      <td>HOSPITAL</td>\n",
       "      <td>&lt; 9</td>\n",
       "      <td>I</td>\n",
       "      <td>1</td>\n",
       "    </tr>\n",
       "    <tr>\n",
       "      <th>4</th>\n",
       "      <td>AC</td>\n",
       "      <td>OUTRAS</td>\n",
       "      <td>HOSPITAL</td>\n",
       "      <td>&lt; 9</td>\n",
       "      <td>M</td>\n",
       "      <td>26</td>\n",
       "    </tr>\n",
       "    <tr>\n",
       "      <th>...</th>\n",
       "      <td>...</td>\n",
       "      <td>...</td>\n",
       "      <td>...</td>\n",
       "      <td>...</td>\n",
       "      <td>...</td>\n",
       "      <td>...</td>\n",
       "    </tr>\n",
       "    <tr>\n",
       "      <th>10430</th>\n",
       "      <td>TO</td>\n",
       "      <td>SEPTICEMIA</td>\n",
       "      <td>HOSPITAL</td>\n",
       "      <td>N/I</td>\n",
       "      <td>F</td>\n",
       "      <td>7</td>\n",
       "    </tr>\n",
       "    <tr>\n",
       "      <th>10431</th>\n",
       "      <td>TO</td>\n",
       "      <td>SEPTICEMIA</td>\n",
       "      <td>HOSPITAL</td>\n",
       "      <td>N/I</td>\n",
       "      <td>I</td>\n",
       "      <td>1</td>\n",
       "    </tr>\n",
       "    <tr>\n",
       "      <th>10432</th>\n",
       "      <td>TO</td>\n",
       "      <td>SEPTICEMIA</td>\n",
       "      <td>HOSPITAL</td>\n",
       "      <td>N/I</td>\n",
       "      <td>M</td>\n",
       "      <td>22</td>\n",
       "    </tr>\n",
       "    <tr>\n",
       "      <th>10433</th>\n",
       "      <td>TO</td>\n",
       "      <td>SRAG</td>\n",
       "      <td>HOSPITAL</td>\n",
       "      <td>N/I</td>\n",
       "      <td>F</td>\n",
       "      <td>1</td>\n",
       "    </tr>\n",
       "    <tr>\n",
       "      <th>10434</th>\n",
       "      <td>TO</td>\n",
       "      <td>SRAG</td>\n",
       "      <td>HOSPITAL</td>\n",
       "      <td>N/I</td>\n",
       "      <td>M</td>\n",
       "      <td>1</td>\n",
       "    </tr>\n",
       "  </tbody>\n",
       "</table>\n",
       "<p>10435 rows × 6 columns</p>\n",
       "</div>"
      ],
      "text/plain": [
       "       uf tipo_doenca local_obito faixa_etaria sexo  total\n",
       "0      AC      OUTRAS   DOMICILIO          < 9    F      4\n",
       "1      AC      OUTRAS   DOMICILIO          < 9    M      7\n",
       "2      AC      OUTRAS    HOSPITAL          < 9    F     19\n",
       "3      AC      OUTRAS    HOSPITAL          < 9    I      1\n",
       "4      AC      OUTRAS    HOSPITAL          < 9    M     26\n",
       "...    ..         ...         ...          ...  ...    ...\n",
       "10430  TO  SEPTICEMIA    HOSPITAL          N/I    F      7\n",
       "10431  TO  SEPTICEMIA    HOSPITAL          N/I    I      1\n",
       "10432  TO  SEPTICEMIA    HOSPITAL          N/I    M     22\n",
       "10433  TO        SRAG    HOSPITAL          N/I    F      1\n",
       "10434  TO        SRAG    HOSPITAL          N/I    M      1\n",
       "\n",
       "[10435 rows x 6 columns]"
      ]
     },
     "execution_count": 221,
     "metadata": {},
     "output_type": "execute_result"
    }
   ],
   "source": [
    "data"
   ]
  },
  {
   "cell_type": "markdown",
   "id": "080079ac-b6d9-4604-803a-09c826b184d2",
   "metadata": {},
   "source": [
    "### Quantidade de estados"
   ]
  },
  {
   "cell_type": "code",
   "execution_count": 222,
   "id": "7487ca80-d490-47fb-ac34-4a4126de8268",
   "metadata": {},
   "outputs": [],
   "source": [
    "estados_quantidade = data['uf'].value_counts()"
   ]
  },
  {
   "cell_type": "code",
   "execution_count": 223,
   "id": "b4ac602d-599a-40bf-9f45-0bc6fa89477e",
   "metadata": {},
   "outputs": [
    {
     "data": {
      "text/plain": [
       "27"
      ]
     },
     "execution_count": 223,
     "metadata": {},
     "output_type": "execute_result"
    }
   ],
   "source": [
    "len(estados_quantidade)"
   ]
  },
  {
   "cell_type": "code",
   "execution_count": 224,
   "id": "9fc5e1dc-b6b6-48e4-bdba-d54c10887064",
   "metadata": {},
   "outputs": [
    {
     "data": {
      "text/plain": [
       "RangeIndex(start=0, stop=10435, step=1)"
      ]
     },
     "execution_count": 224,
     "metadata": {},
     "output_type": "execute_result"
    }
   ],
   "source": [
    "data['uf'].index"
   ]
  },
  {
   "cell_type": "code",
   "execution_count": 225,
   "id": "95b91130-79f4-4d26-801b-06a25fb091b6",
   "metadata": {},
   "outputs": [
    {
     "data": {
      "text/plain": [
       "10435"
      ]
     },
     "execution_count": 225,
     "metadata": {},
     "output_type": "execute_result"
    }
   ],
   "source": [
    "estados_quantidade.sum()"
   ]
  },
  {
   "cell_type": "code",
   "execution_count": 226,
   "id": "d7ac45f6-1a57-442b-abbd-8e392236f6bb",
   "metadata": {},
   "outputs": [
    {
     "name": "stdout",
     "output_type": "stream",
     "text": [
      "    uf  quantidade\n",
      "0   SP         723\n",
      "1   MG         670\n",
      "2   RJ         530\n",
      "3   BA         510\n",
      "4   CE         507\n",
      "5   PE         496\n",
      "6   GO         494\n",
      "7   PR         484\n",
      "8   RS         480\n",
      "9   PA         442\n",
      "10  MA         409\n",
      "11  MT         382\n",
      "12  PB         380\n",
      "13  RN         380\n",
      "14  SC         369\n",
      "15  AL         353\n",
      "16  ES         341\n",
      "17  DF         334\n",
      "18  SE         315\n",
      "19  PI         297\n",
      "20  MS         290\n",
      "21  AM         287\n",
      "22  TO         255\n",
      "23  RO         229\n",
      "24  AC         194\n",
      "25  AP         175\n",
      "26  RR         109\n"
     ]
    }
   ],
   "source": [
    "df = estados_quantidade.rename_axis('uf').reset_index(name='quantidade')\n",
    "print(df)\n",
    "df.to_csv('uf.csv')"
   ]
  },
  {
   "cell_type": "code",
   "execution_count": 227,
   "id": "9297d3ed-fb16-49b6-b550-cc3ae56386c8",
   "metadata": {},
   "outputs": [],
   "source": [
    "estados_df = pd.read_csv('uf.csv')\n",
    "estados_df.drop(estados_df.filter(regex=\"Unname\"),axis=1, inplace=True)"
   ]
  },
  {
   "cell_type": "code",
   "execution_count": 228,
   "id": "b6ebe88d-f3fb-4bd3-ab06-b85f1067c046",
   "metadata": {},
   "outputs": [
    {
     "data": {
      "text/html": [
       "<div>\n",
       "<style scoped>\n",
       "    .dataframe tbody tr th:only-of-type {\n",
       "        vertical-align: middle;\n",
       "    }\n",
       "\n",
       "    .dataframe tbody tr th {\n",
       "        vertical-align: top;\n",
       "    }\n",
       "\n",
       "    .dataframe thead th {\n",
       "        text-align: right;\n",
       "    }\n",
       "</style>\n",
       "<table border=\"1\" class=\"dataframe\">\n",
       "  <thead>\n",
       "    <tr style=\"text-align: right;\">\n",
       "      <th></th>\n",
       "      <th>uf</th>\n",
       "      <th>quantidade</th>\n",
       "    </tr>\n",
       "  </thead>\n",
       "  <tbody>\n",
       "    <tr>\n",
       "      <th>0</th>\n",
       "      <td>SP</td>\n",
       "      <td>723</td>\n",
       "    </tr>\n",
       "    <tr>\n",
       "      <th>1</th>\n",
       "      <td>MG</td>\n",
       "      <td>670</td>\n",
       "    </tr>\n",
       "    <tr>\n",
       "      <th>2</th>\n",
       "      <td>RJ</td>\n",
       "      <td>530</td>\n",
       "    </tr>\n",
       "    <tr>\n",
       "      <th>3</th>\n",
       "      <td>BA</td>\n",
       "      <td>510</td>\n",
       "    </tr>\n",
       "    <tr>\n",
       "      <th>4</th>\n",
       "      <td>CE</td>\n",
       "      <td>507</td>\n",
       "    </tr>\n",
       "    <tr>\n",
       "      <th>5</th>\n",
       "      <td>PE</td>\n",
       "      <td>496</td>\n",
       "    </tr>\n",
       "    <tr>\n",
       "      <th>6</th>\n",
       "      <td>GO</td>\n",
       "      <td>494</td>\n",
       "    </tr>\n",
       "    <tr>\n",
       "      <th>7</th>\n",
       "      <td>PR</td>\n",
       "      <td>484</td>\n",
       "    </tr>\n",
       "    <tr>\n",
       "      <th>8</th>\n",
       "      <td>RS</td>\n",
       "      <td>480</td>\n",
       "    </tr>\n",
       "    <tr>\n",
       "      <th>9</th>\n",
       "      <td>PA</td>\n",
       "      <td>442</td>\n",
       "    </tr>\n",
       "    <tr>\n",
       "      <th>10</th>\n",
       "      <td>MA</td>\n",
       "      <td>409</td>\n",
       "    </tr>\n",
       "    <tr>\n",
       "      <th>11</th>\n",
       "      <td>MT</td>\n",
       "      <td>382</td>\n",
       "    </tr>\n",
       "    <tr>\n",
       "      <th>12</th>\n",
       "      <td>PB</td>\n",
       "      <td>380</td>\n",
       "    </tr>\n",
       "    <tr>\n",
       "      <th>13</th>\n",
       "      <td>RN</td>\n",
       "      <td>380</td>\n",
       "    </tr>\n",
       "    <tr>\n",
       "      <th>14</th>\n",
       "      <td>SC</td>\n",
       "      <td>369</td>\n",
       "    </tr>\n",
       "    <tr>\n",
       "      <th>15</th>\n",
       "      <td>AL</td>\n",
       "      <td>353</td>\n",
       "    </tr>\n",
       "    <tr>\n",
       "      <th>16</th>\n",
       "      <td>ES</td>\n",
       "      <td>341</td>\n",
       "    </tr>\n",
       "    <tr>\n",
       "      <th>17</th>\n",
       "      <td>DF</td>\n",
       "      <td>334</td>\n",
       "    </tr>\n",
       "    <tr>\n",
       "      <th>18</th>\n",
       "      <td>SE</td>\n",
       "      <td>315</td>\n",
       "    </tr>\n",
       "    <tr>\n",
       "      <th>19</th>\n",
       "      <td>PI</td>\n",
       "      <td>297</td>\n",
       "    </tr>\n",
       "    <tr>\n",
       "      <th>20</th>\n",
       "      <td>MS</td>\n",
       "      <td>290</td>\n",
       "    </tr>\n",
       "    <tr>\n",
       "      <th>21</th>\n",
       "      <td>AM</td>\n",
       "      <td>287</td>\n",
       "    </tr>\n",
       "    <tr>\n",
       "      <th>22</th>\n",
       "      <td>TO</td>\n",
       "      <td>255</td>\n",
       "    </tr>\n",
       "    <tr>\n",
       "      <th>23</th>\n",
       "      <td>RO</td>\n",
       "      <td>229</td>\n",
       "    </tr>\n",
       "    <tr>\n",
       "      <th>24</th>\n",
       "      <td>AC</td>\n",
       "      <td>194</td>\n",
       "    </tr>\n",
       "    <tr>\n",
       "      <th>25</th>\n",
       "      <td>AP</td>\n",
       "      <td>175</td>\n",
       "    </tr>\n",
       "    <tr>\n",
       "      <th>26</th>\n",
       "      <td>RR</td>\n",
       "      <td>109</td>\n",
       "    </tr>\n",
       "  </tbody>\n",
       "</table>\n",
       "</div>"
      ],
      "text/plain": [
       "    uf  quantidade\n",
       "0   SP         723\n",
       "1   MG         670\n",
       "2   RJ         530\n",
       "3   BA         510\n",
       "4   CE         507\n",
       "5   PE         496\n",
       "6   GO         494\n",
       "7   PR         484\n",
       "8   RS         480\n",
       "9   PA         442\n",
       "10  MA         409\n",
       "11  MT         382\n",
       "12  PB         380\n",
       "13  RN         380\n",
       "14  SC         369\n",
       "15  AL         353\n",
       "16  ES         341\n",
       "17  DF         334\n",
       "18  SE         315\n",
       "19  PI         297\n",
       "20  MS         290\n",
       "21  AM         287\n",
       "22  TO         255\n",
       "23  RO         229\n",
       "24  AC         194\n",
       "25  AP         175\n",
       "26  RR         109"
      ]
     },
     "execution_count": 228,
     "metadata": {},
     "output_type": "execute_result"
    }
   ],
   "source": [
    "estados_df"
   ]
  },
  {
   "cell_type": "code",
   "execution_count": 229,
   "id": "d1a8085d-06eb-4a13-a668-da21d38fc6a9",
   "metadata": {},
   "outputs": [
    {
     "name": "stdout",
     "output_type": "stream",
     "text": [
      "Requirement already satisfied: matplotlib in /Library/Frameworks/Python.framework/Versions/3.12/lib/python3.12/site-packages (3.8.4)\n",
      "Requirement already satisfied: contourpy>=1.0.1 in /Library/Frameworks/Python.framework/Versions/3.12/lib/python3.12/site-packages (from matplotlib) (1.2.1)\n",
      "Requirement already satisfied: cycler>=0.10 in /Library/Frameworks/Python.framework/Versions/3.12/lib/python3.12/site-packages (from matplotlib) (0.12.1)\n",
      "Requirement already satisfied: fonttools>=4.22.0 in /Library/Frameworks/Python.framework/Versions/3.12/lib/python3.12/site-packages (from matplotlib) (4.25.0)\n",
      "Requirement already satisfied: kiwisolver>=1.3.1 in /Library/Frameworks/Python.framework/Versions/3.12/lib/python3.12/site-packages (from matplotlib) (1.4.5)\n",
      "Requirement already satisfied: numpy>=1.21 in /Library/Frameworks/Python.framework/Versions/3.12/lib/python3.12/site-packages (from matplotlib) (1.26.4)\n",
      "Requirement already satisfied: packaging>=20.0 in /Users/sarahribeiro/Library/Python/3.12/lib/python/site-packages (from matplotlib) (24.0)\n",
      "Requirement already satisfied: pillow>=8 in /Library/Frameworks/Python.framework/Versions/3.12/lib/python3.12/site-packages (from matplotlib) (10.3.0)\n",
      "Requirement already satisfied: pyparsing>=2.3.1 in /Library/Frameworks/Python.framework/Versions/3.12/lib/python3.12/site-packages (from matplotlib) (3.1.2)\n",
      "Requirement already satisfied: python-dateutil>=2.7 in /Users/sarahribeiro/Library/Python/3.12/lib/python/site-packages (from matplotlib) (2.9.0.post0)\n",
      "Requirement already satisfied: six>=1.5 in /Library/Frameworks/Python.framework/Versions/3.12/lib/python3.12/site-packages (from python-dateutil>=2.7->matplotlib) (1.16.0)\n",
      "Note: you may need to restart the kernel to use updated packages.\n"
     ]
    }
   ],
   "source": [
    "pip install matplotlib"
   ]
  },
  {
   "cell_type": "code",
   "execution_count": 230,
   "id": "3536f87e",
   "metadata": {},
   "outputs": [],
   "source": [
    "import matplotlib.pyplot as plt"
   ]
  },
  {
   "cell_type": "markdown",
   "id": "7b37157a-8591-4553-94af-a97d666a0e06",
   "metadata": {},
   "source": [
    "Gráfico da quantidade de estados"
   ]
  },
  {
   "cell_type": "code",
   "execution_count": 231,
   "id": "50feba67-5bdf-4685-ae31-d7b4f0139fbd",
   "metadata": {},
   "outputs": [
    {
     "data": {
      "image/png": "[encoded data removed]",
      "text/plain": [
       "<Figure size 1000x600 with 1 Axes>"
      ]
     },
     "metadata": {},
     "output_type": "display_data"
    }
   ],
   "source": [
    "fig, ax = plt.subplots(figsize=(10, 6))  # Set the figure size\n",
    "\n",
    "# Calculate the counts of each state\n",
    "counts = estados_df['quantidade']\n",
    "\n",
    "# Extract the state names\n",
    "estados_nomes = estados_df['uf']\n",
    "\n",
    "# Plotting the bar chart\n",
    "ax.bar(estados_nomes, counts)\n",
    "\n",
    "ax.set_ylabel('Count')  # Label for y-axis\n",
    "ax.set_xlabel('Estados')  # Label for x-axis\n",
    "ax.set_title('Quantidade de Estados')  # Title of the plot\n",
    "\n",
    "# Rotate the x-axis labels for better readability if needed\n",
    "plt.xticks(rotation=90)\n",
    "\n",
    "plt.show()"
   ]
  },
  {
   "cell_type": "markdown",
   "id": "82625215-2b83-47ff-bf2f-b720393cf961",
   "metadata": {},
   "source": [
    "### Análise da coluna tipo doença"
   ]
  },
  {
   "cell_type": "code",
   "execution_count": 232,
   "id": "13012882-9672-44ab-a5a6-a2f621b25fd4",
   "metadata": {},
   "outputs": [
    {
     "data": {
      "text/html": [
       "<div>\n",
       "<style scoped>\n",
       "    .dataframe tbody tr th:only-of-type {\n",
       "        vertical-align: middle;\n",
       "    }\n",
       "\n",
       "    .dataframe tbody tr th {\n",
       "        vertical-align: top;\n",
       "    }\n",
       "\n",
       "    .dataframe thead th {\n",
       "        text-align: right;\n",
       "    }\n",
       "</style>\n",
       "<table border=\"1\" class=\"dataframe\">\n",
       "  <thead>\n",
       "    <tr style=\"text-align: right;\">\n",
       "      <th></th>\n",
       "      <th>uf</th>\n",
       "      <th>tipo_doenca</th>\n",
       "      <th>local_obito</th>\n",
       "      <th>faixa_etaria</th>\n",
       "      <th>sexo</th>\n",
       "      <th>total</th>\n",
       "    </tr>\n",
       "  </thead>\n",
       "  <tbody>\n",
       "    <tr>\n",
       "      <th>0</th>\n",
       "      <td>AC</td>\n",
       "      <td>OUTRAS</td>\n",
       "      <td>DOMICILIO</td>\n",
       "      <td>&lt; 9</td>\n",
       "      <td>F</td>\n",
       "      <td>4</td>\n",
       "    </tr>\n",
       "    <tr>\n",
       "      <th>1</th>\n",
       "      <td>AC</td>\n",
       "      <td>OUTRAS</td>\n",
       "      <td>DOMICILIO</td>\n",
       "      <td>&lt; 9</td>\n",
       "      <td>M</td>\n",
       "      <td>7</td>\n",
       "    </tr>\n",
       "    <tr>\n",
       "      <th>2</th>\n",
       "      <td>AC</td>\n",
       "      <td>OUTRAS</td>\n",
       "      <td>HOSPITAL</td>\n",
       "      <td>&lt; 9</td>\n",
       "      <td>F</td>\n",
       "      <td>19</td>\n",
       "    </tr>\n",
       "    <tr>\n",
       "      <th>3</th>\n",
       "      <td>AC</td>\n",
       "      <td>OUTRAS</td>\n",
       "      <td>HOSPITAL</td>\n",
       "      <td>&lt; 9</td>\n",
       "      <td>I</td>\n",
       "      <td>1</td>\n",
       "    </tr>\n",
       "    <tr>\n",
       "      <th>4</th>\n",
       "      <td>AC</td>\n",
       "      <td>OUTRAS</td>\n",
       "      <td>HOSPITAL</td>\n",
       "      <td>&lt; 9</td>\n",
       "      <td>M</td>\n",
       "      <td>26</td>\n",
       "    </tr>\n",
       "    <tr>\n",
       "      <th>...</th>\n",
       "      <td>...</td>\n",
       "      <td>...</td>\n",
       "      <td>...</td>\n",
       "      <td>...</td>\n",
       "      <td>...</td>\n",
       "      <td>...</td>\n",
       "    </tr>\n",
       "    <tr>\n",
       "      <th>10430</th>\n",
       "      <td>TO</td>\n",
       "      <td>SEPTICEMIA</td>\n",
       "      <td>HOSPITAL</td>\n",
       "      <td>N/I</td>\n",
       "      <td>F</td>\n",
       "      <td>7</td>\n",
       "    </tr>\n",
       "    <tr>\n",
       "      <th>10431</th>\n",
       "      <td>TO</td>\n",
       "      <td>SEPTICEMIA</td>\n",
       "      <td>HOSPITAL</td>\n",
       "      <td>N/I</td>\n",
       "      <td>I</td>\n",
       "      <td>1</td>\n",
       "    </tr>\n",
       "    <tr>\n",
       "      <th>10432</th>\n",
       "      <td>TO</td>\n",
       "      <td>SEPTICEMIA</td>\n",
       "      <td>HOSPITAL</td>\n",
       "      <td>N/I</td>\n",
       "      <td>M</td>\n",
       "      <td>22</td>\n",
       "    </tr>\n",
       "    <tr>\n",
       "      <th>10433</th>\n",
       "      <td>TO</td>\n",
       "      <td>SRAG</td>\n",
       "      <td>HOSPITAL</td>\n",
       "      <td>N/I</td>\n",
       "      <td>F</td>\n",
       "      <td>1</td>\n",
       "    </tr>\n",
       "    <tr>\n",
       "      <th>10434</th>\n",
       "      <td>TO</td>\n",
       "      <td>SRAG</td>\n",
       "      <td>HOSPITAL</td>\n",
       "      <td>N/I</td>\n",
       "      <td>M</td>\n",
       "      <td>1</td>\n",
       "    </tr>\n",
       "  </tbody>\n",
       "</table>\n",
       "<p>10435 rows × 6 columns</p>\n",
       "</div>"
      ],
      "text/plain": [
       "       uf tipo_doenca local_obito faixa_etaria sexo  total\n",
       "0      AC      OUTRAS   DOMICILIO          < 9    F      4\n",
       "1      AC      OUTRAS   DOMICILIO          < 9    M      7\n",
       "2      AC      OUTRAS    HOSPITAL          < 9    F     19\n",
       "3      AC      OUTRAS    HOSPITAL          < 9    I      1\n",
       "4      AC      OUTRAS    HOSPITAL          < 9    M     26\n",
       "...    ..         ...         ...          ...  ...    ...\n",
       "10430  TO  SEPTICEMIA    HOSPITAL          N/I    F      7\n",
       "10431  TO  SEPTICEMIA    HOSPITAL          N/I    I      1\n",
       "10432  TO  SEPTICEMIA    HOSPITAL          N/I    M     22\n",
       "10433  TO        SRAG    HOSPITAL          N/I    F      1\n",
       "10434  TO        SRAG    HOSPITAL          N/I    M      1\n",
       "\n",
       "[10435 rows x 6 columns]"
      ]
     },
     "execution_count": 232,
     "metadata": {},
     "output_type": "execute_result"
    }
   ],
   "source": [
    "data"
   ]
  },
  {
   "cell_type": "code",
   "execution_count": 233,
   "id": "089c26b2-2d41-4331-be3f-297fe7fae451",
   "metadata": {},
   "outputs": [
    {
     "data": {
      "text/plain": [
       "0            OUTRAS\n",
       "1            OUTRAS\n",
       "2            OUTRAS\n",
       "3            OUTRAS\n",
       "4            OUTRAS\n",
       "            ...    \n",
       "10430    SEPTICEMIA\n",
       "10431    SEPTICEMIA\n",
       "10432    SEPTICEMIA\n",
       "10433          SRAG\n",
       "10434          SRAG\n",
       "Name: tipo_doenca, Length: 10435, dtype: object"
      ]
     },
     "execution_count": 233,
     "metadata": {},
     "output_type": "execute_result"
    }
   ],
   "source": [
    "data.tipo_doenca"
   ]
  },
  {
   "cell_type": "code",
   "execution_count": 234,
   "id": "2c9262fc-1591-44e4-832f-8a8c2a563971",
   "metadata": {},
   "outputs": [
    {
     "data": {
      "text/plain": [
       "tipo_doenca\n",
       "OUTRAS                        3160\n",
       "PNEUMONIA                     1820\n",
       "INSUFICIENCIA_RESPIRATORIA    1806\n",
       "SEPTICEMIA                    1647\n",
       "INDETERMINADA                  862\n",
       "COVID                          626\n",
       "SRAG                           514\n",
       "Name: count, dtype: int64"
      ]
     },
     "execution_count": 234,
     "metadata": {},
     "output_type": "execute_result"
    }
   ],
   "source": [
    "data.tipo_doenca.value_counts()"
   ]
  },
  {
   "cell_type": "code",
   "execution_count": 235,
   "id": "f15e8f51-0888-4051-9665-509a8f01aa8c",
   "metadata": {},
   "outputs": [],
   "source": [
    "tipo_doenca_quantidade = data['tipo_doenca'].value_counts()"
   ]
  },
  {
   "cell_type": "code",
   "execution_count": 236,
   "id": "38ee4ec0-7456-4776-9169-ca562ca4d497",
   "metadata": {},
   "outputs": [
    {
     "name": "stdout",
     "output_type": "stream",
     "text": [
      "                  tipo_doenca  quantidade\n",
      "0                      OUTRAS        3160\n",
      "1                   PNEUMONIA        1820\n",
      "2  INSUFICIENCIA_RESPIRATORIA        1806\n",
      "3                  SEPTICEMIA        1647\n",
      "4               INDETERMINADA         862\n",
      "5                       COVID         626\n",
      "6                        SRAG         514\n"
     ]
    }
   ],
   "source": [
    "df_tipo_doenca = tipo_doenca_quantidade.rename_axis('tipo_doenca').reset_index(name='quantidade')\n",
    "print(df_tipo_doenca)\n",
    "df_tipo_doenca.to_csv('tipo_doenca.csv')"
   ]
  },
  {
   "cell_type": "code",
   "execution_count": 237,
   "id": "19f0c456-a152-47e5-8dfe-f2103328cc22",
   "metadata": {},
   "outputs": [],
   "source": [
    "df_tipo_doenca = pd.read_csv('tipo_doenca.csv')"
   ]
  },
  {
   "cell_type": "code",
   "execution_count": 238,
   "id": "d4da5e78-49b1-4173-aade-254865916ad1",
   "metadata": {},
   "outputs": [],
   "source": [
    "df_tipo_doenca\n",
    "df_tipo_doenca.drop(df_tipo_doenca.filter(regex=\"Unname\"),axis=1, inplace=True)"
   ]
  },
  {
   "cell_type": "code",
   "execution_count": 239,
   "id": "69bc4485-5adb-4986-a7fb-a3e3068a9982",
   "metadata": {},
   "outputs": [
    {
     "data": {
      "text/html": [
       "<div>\n",
       "<style scoped>\n",
       "    .dataframe tbody tr th:only-of-type {\n",
       "        vertical-align: middle;\n",
       "    }\n",
       "\n",
       "    .dataframe tbody tr th {\n",
       "        vertical-align: top;\n",
       "    }\n",
       "\n",
       "    .dataframe thead th {\n",
       "        text-align: right;\n",
       "    }\n",
       "</style>\n",
       "<table border=\"1\" class=\"dataframe\">\n",
       "  <thead>\n",
       "    <tr style=\"text-align: right;\">\n",
       "      <th></th>\n",
       "      <th>tipo_doenca</th>\n",
       "      <th>quantidade</th>\n",
       "    </tr>\n",
       "  </thead>\n",
       "  <tbody>\n",
       "    <tr>\n",
       "      <th>0</th>\n",
       "      <td>OUTRAS</td>\n",
       "      <td>3160</td>\n",
       "    </tr>\n",
       "    <tr>\n",
       "      <th>1</th>\n",
       "      <td>PNEUMONIA</td>\n",
       "      <td>1820</td>\n",
       "    </tr>\n",
       "    <tr>\n",
       "      <th>2</th>\n",
       "      <td>INSUFICIENCIA_RESPIRATORIA</td>\n",
       "      <td>1806</td>\n",
       "    </tr>\n",
       "    <tr>\n",
       "      <th>3</th>\n",
       "      <td>SEPTICEMIA</td>\n",
       "      <td>1647</td>\n",
       "    </tr>\n",
       "    <tr>\n",
       "      <th>4</th>\n",
       "      <td>INDETERMINADA</td>\n",
       "      <td>862</td>\n",
       "    </tr>\n",
       "    <tr>\n",
       "      <th>5</th>\n",
       "      <td>COVID</td>\n",
       "      <td>626</td>\n",
       "    </tr>\n",
       "    <tr>\n",
       "      <th>6</th>\n",
       "      <td>SRAG</td>\n",
       "      <td>514</td>\n",
       "    </tr>\n",
       "  </tbody>\n",
       "</table>\n",
       "</div>"
      ],
      "text/plain": [
       "                  tipo_doenca  quantidade\n",
       "0                      OUTRAS        3160\n",
       "1                   PNEUMONIA        1820\n",
       "2  INSUFICIENCIA_RESPIRATORIA        1806\n",
       "3                  SEPTICEMIA        1647\n",
       "4               INDETERMINADA         862\n",
       "5                       COVID         626\n",
       "6                        SRAG         514"
      ]
     },
     "execution_count": 239,
     "metadata": {},
     "output_type": "execute_result"
    }
   ],
   "source": [
    "df_tipo_doenca"
   ]
  },
  {
   "cell_type": "markdown",
   "id": "02bc5ad3-0bd9-4724-9578-cdf45378cf60",
   "metadata": {},
   "source": [
    "Gráfico de quantidade -> tipo doença"
   ]
  },
  {
   "cell_type": "code",
   "execution_count": 240,
   "id": "a75f9497-33ac-47e2-a488-a3f8e21f586e",
   "metadata": {},
   "outputs": [
    {
     "data": {
      "image/png": "[encoded data removed]",
      "text/plain": [
       "<Figure size 1000x1500 with 1 Axes>"
      ]
     },
     "metadata": {},
     "output_type": "display_data"
    }
   ],
   "source": [
    "fig, ax = plt.subplots(figsize=(10, 15))  # Set the figure size\n",
    "\n",
    "# Calculate the counts of each state\n",
    "counts = df_tipo_doenca['quantidade']\n",
    "\n",
    "# Extract the state names\n",
    "tipo_doenca_index = df_tipo_doenca['tipo_doenca']\n",
    "\n",
    "# Plotting the bar chart\n",
    "ax.bar(tipo_doenca_index, counts)\n",
    "\n",
    "ax.set_ylabel('Count')  # Label for y-axis\n",
    "ax.set_xlabel('Tipo Doença')  # Label for x-axis\n",
    "ax.set_title('Quantidade de tipo doeça')  # Title of the plot\n",
    "\n",
    "# Rotate the x-axis labels for better readability if needed\n",
    "plt.xticks(rotation=90)\n",
    "\n",
    "plt.show()"
   ]
  },
  {
   "cell_type": "markdown",
   "id": "8d993fe0",
   "metadata": {},
   "source": [
    "### Quantidade de Local Obito"
   ]
  },
  {
   "cell_type": "code",
   "execution_count": 241,
   "id": "e89d8fa9",
   "metadata": {},
   "outputs": [],
   "source": [
    "local_obito = data.local_obito"
   ]
  },
  {
   "cell_type": "code",
   "execution_count": 242,
   "id": "4c146f90",
   "metadata": {},
   "outputs": [
    {
     "data": {
      "image/png": "[encoded data removed]",
      "text/plain": [
       "<Figure size 1000x600 with 1 Axes>"
      ]
     },
     "metadata": {},
     "output_type": "display_data"
    }
   ],
   "source": [
    "hospitais = sum(data.local_obito == 'HOSPITAL')\n",
    "outros = sum(data.local_obito != 'HOSPITAL')\n",
    "\n",
    "# Set the figure size\n",
    "fig, ax = plt.subplots(figsize=(10, 6))\n",
    "\n",
    "# Calculate the counts of each state (only two counts for two categories)\n",
    "counts = [hospitais, outros]\n",
    "\n",
    "# Extract the state names (two categories)\n",
    "local_obito_index = ['Hospitais', 'Outros']\n",
    "\n",
    "# Ensure the lists are of the same length\n",
    "assert len(local_obito_index) == len(counts), \"The length of local_obito_index and counts must be the same\"\n",
    "\n",
    "# Plotting the bar chart\n",
    "ax.bar(local_obito_index, counts)\n",
    "\n",
    "# Set the labels and title\n",
    "ax.set_ylabel('Count')  # Label for y-axis\n",
    "ax.set_xlabel('Local obito')  # Label for x-axis\n",
    "ax.set_title('Quantidade de Local obito')  # Title of the plot\n",
    "\n",
    "# Rotate the x-axis labels for better readability\n",
    "plt.xticks(rotation=45)\n",
    "\n",
    "# Show the plot\n",
    "plt.show()"
   ]
  },
  {
   "cell_type": "code",
   "execution_count": 243,
   "id": "ad497111",
   "metadata": {},
   "outputs": [
    {
     "data": {
      "text/plain": [
       "6916"
      ]
     },
     "execution_count": 243,
     "metadata": {},
     "output_type": "execute_result"
    }
   ],
   "source": [
    "outros"
   ]
  },
  {
   "cell_type": "code",
   "execution_count": 244,
   "id": "0ccb9fd1",
   "metadata": {},
   "outputs": [],
   "source": [
    "local_obito_quantidade = local_obito.value_counts()"
   ]
  },
  {
   "cell_type": "code",
   "execution_count": 245,
   "id": "526bc28c",
   "metadata": {},
   "outputs": [
    {
     "name": "stdout",
     "output_type": "stream",
     "text": [
      "             local_obito  quantidade\n",
      "0               HOSPITAL        3519\n",
      "1              DOMICILIO        2235\n",
      "2  OUTROS_SERVICOS_SAUDE        1603\n",
      "3                  OUTRO        1377\n",
      "4               IGNORADO         882\n",
      "5            VIA_PUBLICA         694\n",
      "6            POSTO_SAUDE          88\n",
      "7             AMBULANCIA          37\n"
     ]
    }
   ],
   "source": [
    "df_local_obito = local_obito_quantidade.rename_axis('local_obito').reset_index(name='quantidade')\n",
    "print(df_local_obito)\n",
    "df_local_obito.to_csv('local_obito.csv')"
   ]
  },
  {
   "cell_type": "code",
   "execution_count": 246,
   "id": "c18c79df",
   "metadata": {},
   "outputs": [],
   "source": [
    "df_local_obito = pd.read_csv('local_obito.csv')"
   ]
  },
  {
   "cell_type": "code",
   "execution_count": 247,
   "id": "3f45ce32",
   "metadata": {},
   "outputs": [
    {
     "data": {
      "text/html": [
       "<div>\n",
       "<style scoped>\n",
       "    .dataframe tbody tr th:only-of-type {\n",
       "        vertical-align: middle;\n",
       "    }\n",
       "\n",
       "    .dataframe tbody tr th {\n",
       "        vertical-align: top;\n",
       "    }\n",
       "\n",
       "    .dataframe thead th {\n",
       "        text-align: right;\n",
       "    }\n",
       "</style>\n",
       "<table border=\"1\" class=\"dataframe\">\n",
       "  <thead>\n",
       "    <tr style=\"text-align: right;\">\n",
       "      <th></th>\n",
       "      <th>Unnamed: 0</th>\n",
       "      <th>local_obito</th>\n",
       "      <th>quantidade</th>\n",
       "    </tr>\n",
       "  </thead>\n",
       "  <tbody>\n",
       "    <tr>\n",
       "      <th>0</th>\n",
       "      <td>0</td>\n",
       "      <td>HOSPITAL</td>\n",
       "      <td>3519</td>\n",
       "    </tr>\n",
       "    <tr>\n",
       "      <th>1</th>\n",
       "      <td>1</td>\n",
       "      <td>DOMICILIO</td>\n",
       "      <td>2235</td>\n",
       "    </tr>\n",
       "    <tr>\n",
       "      <th>2</th>\n",
       "      <td>2</td>\n",
       "      <td>OUTROS_SERVICOS_SAUDE</td>\n",
       "      <td>1603</td>\n",
       "    </tr>\n",
       "    <tr>\n",
       "      <th>3</th>\n",
       "      <td>3</td>\n",
       "      <td>OUTRO</td>\n",
       "      <td>1377</td>\n",
       "    </tr>\n",
       "    <tr>\n",
       "      <th>4</th>\n",
       "      <td>4</td>\n",
       "      <td>IGNORADO</td>\n",
       "      <td>882</td>\n",
       "    </tr>\n",
       "    <tr>\n",
       "      <th>5</th>\n",
       "      <td>5</td>\n",
       "      <td>VIA_PUBLICA</td>\n",
       "      <td>694</td>\n",
       "    </tr>\n",
       "    <tr>\n",
       "      <th>6</th>\n",
       "      <td>6</td>\n",
       "      <td>POSTO_SAUDE</td>\n",
       "      <td>88</td>\n",
       "    </tr>\n",
       "    <tr>\n",
       "      <th>7</th>\n",
       "      <td>7</td>\n",
       "      <td>AMBULANCIA</td>\n",
       "      <td>37</td>\n",
       "    </tr>\n",
       "  </tbody>\n",
       "</table>\n",
       "</div>"
      ],
      "text/plain": [
       "   Unnamed: 0            local_obito  quantidade\n",
       "0           0               HOSPITAL        3519\n",
       "1           1              DOMICILIO        2235\n",
       "2           2  OUTROS_SERVICOS_SAUDE        1603\n",
       "3           3                  OUTRO        1377\n",
       "4           4               IGNORADO         882\n",
       "5           5            VIA_PUBLICA         694\n",
       "6           6            POSTO_SAUDE          88\n",
       "7           7             AMBULANCIA          37"
      ]
     },
     "execution_count": 247,
     "metadata": {},
     "output_type": "execute_result"
    }
   ],
   "source": [
    "df_local_obito"
   ]
  },
  {
   "cell_type": "code",
   "execution_count": 248,
   "id": "196bf171",
   "metadata": {},
   "outputs": [],
   "source": [
    "df_local_obito.drop(df_local_obito.filter(regex=\"Unname\"),axis=1, inplace=True)"
   ]
  },
  {
   "cell_type": "code",
   "execution_count": 249,
   "id": "1261715e",
   "metadata": {},
   "outputs": [
    {
     "data": {
      "text/html": [
       "<div>\n",
       "<style scoped>\n",
       "    .dataframe tbody tr th:only-of-type {\n",
       "        vertical-align: middle;\n",
       "    }\n",
       "\n",
       "    .dataframe tbody tr th {\n",
       "        vertical-align: top;\n",
       "    }\n",
       "\n",
       "    .dataframe thead th {\n",
       "        text-align: right;\n",
       "    }\n",
       "</style>\n",
       "<table border=\"1\" class=\"dataframe\">\n",
       "  <thead>\n",
       "    <tr style=\"text-align: right;\">\n",
       "      <th></th>\n",
       "      <th>local_obito</th>\n",
       "      <th>quantidade</th>\n",
       "    </tr>\n",
       "  </thead>\n",
       "  <tbody>\n",
       "    <tr>\n",
       "      <th>0</th>\n",
       "      <td>HOSPITAL</td>\n",
       "      <td>3519</td>\n",
       "    </tr>\n",
       "    <tr>\n",
       "      <th>1</th>\n",
       "      <td>DOMICILIO</td>\n",
       "      <td>2235</td>\n",
       "    </tr>\n",
       "    <tr>\n",
       "      <th>2</th>\n",
       "      <td>OUTROS_SERVICOS_SAUDE</td>\n",
       "      <td>1603</td>\n",
       "    </tr>\n",
       "    <tr>\n",
       "      <th>3</th>\n",
       "      <td>OUTRO</td>\n",
       "      <td>1377</td>\n",
       "    </tr>\n",
       "    <tr>\n",
       "      <th>4</th>\n",
       "      <td>IGNORADO</td>\n",
       "      <td>882</td>\n",
       "    </tr>\n",
       "    <tr>\n",
       "      <th>5</th>\n",
       "      <td>VIA_PUBLICA</td>\n",
       "      <td>694</td>\n",
       "    </tr>\n",
       "    <tr>\n",
       "      <th>6</th>\n",
       "      <td>POSTO_SAUDE</td>\n",
       "      <td>88</td>\n",
       "    </tr>\n",
       "    <tr>\n",
       "      <th>7</th>\n",
       "      <td>AMBULANCIA</td>\n",
       "      <td>37</td>\n",
       "    </tr>\n",
       "  </tbody>\n",
       "</table>\n",
       "</div>"
      ],
      "text/plain": [
       "             local_obito  quantidade\n",
       "0               HOSPITAL        3519\n",
       "1              DOMICILIO        2235\n",
       "2  OUTROS_SERVICOS_SAUDE        1603\n",
       "3                  OUTRO        1377\n",
       "4               IGNORADO         882\n",
       "5            VIA_PUBLICA         694\n",
       "6            POSTO_SAUDE          88\n",
       "7             AMBULANCIA          37"
      ]
     },
     "execution_count": 249,
     "metadata": {},
     "output_type": "execute_result"
    }
   ],
   "source": [
    "df_local_obito"
   ]
  },
  {
   "cell_type": "code",
   "execution_count": 250,
   "id": "33ffdbe9",
   "metadata": {},
   "outputs": [
    {
     "data": {
      "text/plain": [
       "8"
      ]
     },
     "execution_count": 250,
     "metadata": {},
     "output_type": "execute_result"
    }
   ],
   "source": [
    "df_local_obito['quantidade'].value_counts().sum()"
   ]
  },
  {
   "cell_type": "code",
   "execution_count": 251,
   "id": "7c63f5be",
   "metadata": {},
   "outputs": [
    {
     "data": {
      "image/png": "[encoded data removed]",
      "text/plain": [
       "<Figure size 1000x600 with 1 Axes>"
      ]
     },
     "metadata": {},
     "output_type": "display_data"
    }
   ],
   "source": [
    "fig, ax = plt.subplots(figsize=(10, 6))  # Set the figure size\n",
    "\n",
    "# Calculate the counts of each state\n",
    "counts = df_local_obito['quantidade']\n",
    "\n",
    "# Extract the state names\n",
    "local_obito_index = df_local_obito['local_obito']\n",
    "\n",
    "# Plotting the bar chart\n",
    "ax.bar(local_obito_index, counts)\n",
    "\n",
    "ax.set_ylabel('Count')  # Label for y-axis\n",
    "ax.set_xlabel('Local obito')  # Label for x-axis\n",
    "ax.set_title('Quantidade de Local obito')  # Title of the plot\n",
    "\n",
    "# Rotate the x-axis labels for better readability if needed\n",
    "plt.xticks(rotation=90)\n",
    "\n",
    "plt.show()"
   ]
  },
  {
   "cell_type": "markdown",
   "id": "4ff54dff",
   "metadata": {},
   "source": [
    "### Quantidade Faixa Etária"
   ]
  },
  {
   "cell_type": "code",
   "execution_count": 252,
   "id": "af1944c0",
   "metadata": {},
   "outputs": [
    {
     "data": {
      "text/plain": [
       "0        < 9\n",
       "1        < 9\n",
       "2        < 9\n",
       "3        < 9\n",
       "4        < 9\n",
       "        ... \n",
       "10430    N/I\n",
       "10431    N/I\n",
       "10432    N/I\n",
       "10433    N/I\n",
       "10434    N/I\n",
       "Name: faixa_etaria, Length: 10435, dtype: object"
      ]
     },
     "execution_count": 252,
     "metadata": {},
     "output_type": "execute_result"
    }
   ],
   "source": [
    "data.faixa_etaria"
   ]
  },
  {
   "cell_type": "code",
   "execution_count": 253,
   "id": "edfcce60",
   "metadata": {},
   "outputs": [],
   "source": [
    "quantidade_faixa_etaria = data.faixa_etaria.value_counts()"
   ]
  },
  {
   "cell_type": "code",
   "execution_count": 254,
   "id": "17e42f1f",
   "metadata": {},
   "outputs": [
    {
     "data": {
      "text/plain": [
       "faixa_etaria\n",
       "80 - 89    1250\n",
       "70 - 79    1236\n",
       "60 - 69    1174\n",
       "50 - 59    1083\n",
       "90 - 99    1020\n",
       "40 - 49     953\n",
       "30 - 39     829\n",
       "< 9         726\n",
       "20 - 29     691\n",
       "> 100       555\n",
       "10 - 19     492\n",
       "N/I         426\n",
       "Name: count, dtype: int64"
      ]
     },
     "execution_count": 254,
     "metadata": {},
     "output_type": "execute_result"
    }
   ],
   "source": [
    "quantidade_faixa_etaria"
   ]
  },
  {
   "cell_type": "code",
   "execution_count": 255,
   "id": "67081bdd",
   "metadata": {},
   "outputs": [
    {
     "name": "stdout",
     "output_type": "stream",
     "text": [
      "   faixa_etaria  quantidade\n",
      "0       80 - 89        1250\n",
      "1       70 - 79        1236\n",
      "2       60 - 69        1174\n",
      "3       50 - 59        1083\n",
      "4       90 - 99        1020\n",
      "5       40 - 49         953\n",
      "6       30 - 39         829\n",
      "7           < 9         726\n",
      "8       20 - 29         691\n",
      "9         > 100         555\n",
      "10      10 - 19         492\n",
      "11          N/I         426\n"
     ]
    }
   ],
   "source": [
    "df_faixa_etaria = quantidade_faixa_etaria.rename_axis('faixa_etaria').reset_index(name='quantidade')\n",
    "print(df_faixa_etaria)\n",
    "df_faixa_etaria.to_csv('faixa_etaria.csv')"
   ]
  },
  {
   "cell_type": "code",
   "execution_count": 256,
   "id": "c6252bb3",
   "metadata": {},
   "outputs": [
    {
     "data": {
      "text/html": [
       "<div>\n",
       "<style scoped>\n",
       "    .dataframe tbody tr th:only-of-type {\n",
       "        vertical-align: middle;\n",
       "    }\n",
       "\n",
       "    .dataframe tbody tr th {\n",
       "        vertical-align: top;\n",
       "    }\n",
       "\n",
       "    .dataframe thead th {\n",
       "        text-align: right;\n",
       "    }\n",
       "</style>\n",
       "<table border=\"1\" class=\"dataframe\">\n",
       "  <thead>\n",
       "    <tr style=\"text-align: right;\">\n",
       "      <th></th>\n",
       "      <th>faixa_etaria</th>\n",
       "      <th>quantidade</th>\n",
       "    </tr>\n",
       "  </thead>\n",
       "  <tbody>\n",
       "    <tr>\n",
       "      <th>0</th>\n",
       "      <td>80 - 89</td>\n",
       "      <td>1250</td>\n",
       "    </tr>\n",
       "    <tr>\n",
       "      <th>1</th>\n",
       "      <td>70 - 79</td>\n",
       "      <td>1236</td>\n",
       "    </tr>\n",
       "    <tr>\n",
       "      <th>2</th>\n",
       "      <td>60 - 69</td>\n",
       "      <td>1174</td>\n",
       "    </tr>\n",
       "    <tr>\n",
       "      <th>3</th>\n",
       "      <td>50 - 59</td>\n",
       "      <td>1083</td>\n",
       "    </tr>\n",
       "    <tr>\n",
       "      <th>4</th>\n",
       "      <td>90 - 99</td>\n",
       "      <td>1020</td>\n",
       "    </tr>\n",
       "    <tr>\n",
       "      <th>5</th>\n",
       "      <td>40 - 49</td>\n",
       "      <td>953</td>\n",
       "    </tr>\n",
       "    <tr>\n",
       "      <th>6</th>\n",
       "      <td>30 - 39</td>\n",
       "      <td>829</td>\n",
       "    </tr>\n",
       "    <tr>\n",
       "      <th>7</th>\n",
       "      <td>&lt; 9</td>\n",
       "      <td>726</td>\n",
       "    </tr>\n",
       "    <tr>\n",
       "      <th>8</th>\n",
       "      <td>20 - 29</td>\n",
       "      <td>691</td>\n",
       "    </tr>\n",
       "    <tr>\n",
       "      <th>9</th>\n",
       "      <td>&gt; 100</td>\n",
       "      <td>555</td>\n",
       "    </tr>\n",
       "    <tr>\n",
       "      <th>10</th>\n",
       "      <td>10 - 19</td>\n",
       "      <td>492</td>\n",
       "    </tr>\n",
       "    <tr>\n",
       "      <th>11</th>\n",
       "      <td>N/I</td>\n",
       "      <td>426</td>\n",
       "    </tr>\n",
       "  </tbody>\n",
       "</table>\n",
       "</div>"
      ],
      "text/plain": [
       "   faixa_etaria  quantidade\n",
       "0       80 - 89        1250\n",
       "1       70 - 79        1236\n",
       "2       60 - 69        1174\n",
       "3       50 - 59        1083\n",
       "4       90 - 99        1020\n",
       "5       40 - 49         953\n",
       "6       30 - 39         829\n",
       "7           < 9         726\n",
       "8       20 - 29         691\n",
       "9         > 100         555\n",
       "10      10 - 19         492\n",
       "11          N/I         426"
      ]
     },
     "execution_count": 256,
     "metadata": {},
     "output_type": "execute_result"
    }
   ],
   "source": [
    "df_faixa_etaria"
   ]
  },
  {
   "cell_type": "code",
   "execution_count": 257,
   "id": "92bdf474",
   "metadata": {},
   "outputs": [
    {
     "data": {
      "image/png": "[encoded data removed]",
      "text/plain": [
       "<Figure size 1000x600 with 1 Axes>"
      ]
     },
     "metadata": {},
     "output_type": "display_data"
    }
   ],
   "source": [
    "fig, ax = plt.subplots(figsize=(10, 6))  # Set the figure size\n",
    "\n",
    "# Calculate the counts of each state\n",
    "counts = df_faixa_etaria['quantidade']\n",
    "\n",
    "# Extract the state names\n",
    "faixa_etaria_index = df_faixa_etaria['faixa_etaria']\n",
    "\n",
    "# Plotting the bar chart\n",
    "ax.bar(faixa_etaria_index, counts)\n",
    "\n",
    "ax.set_ylabel('Count')  # Label for y-axis\n",
    "ax.set_xlabel('Faixa etária')  # Label for x-axis\n",
    "ax.set_title('Quantidade Faixa Etária')  # Title of the plot\n",
    "\n",
    "# Rotate the x-axis labels for better readability if needed\n",
    "plt.xticks(rotation=90)\n",
    "\n",
    "plt.show()"
   ]
  },
  {
   "cell_type": "markdown",
   "id": "114a69df",
   "metadata": {},
   "source": [
    "### Quantidade: SEXO"
   ]
  },
  {
   "cell_type": "code",
   "execution_count": 258,
   "id": "776d69d0",
   "metadata": {
    "scrolled": true
   },
   "outputs": [
    {
     "data": {
      "text/plain": [
       "0        F\n",
       "1        M\n",
       "2        F\n",
       "3        I\n",
       "4        M\n",
       "        ..\n",
       "10430    F\n",
       "10431    I\n",
       "10432    M\n",
       "10433    F\n",
       "10434    M\n",
       "Name: sexo, Length: 10435, dtype: object"
      ]
     },
     "execution_count": 258,
     "metadata": {},
     "output_type": "execute_result"
    }
   ],
   "source": [
    "data.sexo"
   ]
  },
  {
   "cell_type": "code",
   "execution_count": 259,
   "id": "c6724db5",
   "metadata": {},
   "outputs": [],
   "source": [
    "quantidade_genero = data.sexo.value_counts()"
   ]
  },
  {
   "cell_type": "code",
   "execution_count": 260,
   "id": "f940ca17",
   "metadata": {},
   "outputs": [
    {
     "name": "stdout",
     "output_type": "stream",
     "text": [
      "  genero  quantidade\n",
      "0      M        5347\n",
      "1      F        4871\n",
      "2      I         217\n"
     ]
    }
   ],
   "source": [
    "df_genero = quantidade_genero.rename_axis('genero').reset_index(name='quantidade')\n",
    "print(df_genero)\n",
    "df_genero.to_csv('sexo.csv')"
   ]
  },
  {
   "cell_type": "code",
   "execution_count": 261,
   "id": "b3fd4107",
   "metadata": {},
   "outputs": [],
   "source": [
    "df_genero_data = pd.read_csv('sexo.csv')"
   ]
  },
  {
   "cell_type": "code",
   "execution_count": 262,
   "id": "108e7267",
   "metadata": {},
   "outputs": [
    {
     "data": {
      "text/html": [
       "<div>\n",
       "<style scoped>\n",
       "    .dataframe tbody tr th:only-of-type {\n",
       "        vertical-align: middle;\n",
       "    }\n",
       "\n",
       "    .dataframe tbody tr th {\n",
       "        vertical-align: top;\n",
       "    }\n",
       "\n",
       "    .dataframe thead th {\n",
       "        text-align: right;\n",
       "    }\n",
       "</style>\n",
       "<table border=\"1\" class=\"dataframe\">\n",
       "  <thead>\n",
       "    <tr style=\"text-align: right;\">\n",
       "      <th></th>\n",
       "      <th>Unnamed: 0</th>\n",
       "      <th>genero</th>\n",
       "      <th>quantidade</th>\n",
       "    </tr>\n",
       "  </thead>\n",
       "  <tbody>\n",
       "    <tr>\n",
       "      <th>0</th>\n",
       "      <td>0</td>\n",
       "      <td>M</td>\n",
       "      <td>5347</td>\n",
       "    </tr>\n",
       "    <tr>\n",
       "      <th>1</th>\n",
       "      <td>1</td>\n",
       "      <td>F</td>\n",
       "      <td>4871</td>\n",
       "    </tr>\n",
       "    <tr>\n",
       "      <th>2</th>\n",
       "      <td>2</td>\n",
       "      <td>I</td>\n",
       "      <td>217</td>\n",
       "    </tr>\n",
       "  </tbody>\n",
       "</table>\n",
       "</div>"
      ],
      "text/plain": [
       "   Unnamed: 0 genero  quantidade\n",
       "0           0      M        5347\n",
       "1           1      F        4871\n",
       "2           2      I         217"
      ]
     },
     "execution_count": 262,
     "metadata": {},
     "output_type": "execute_result"
    }
   ],
   "source": [
    "df_genero_data"
   ]
  },
  {
   "cell_type": "code",
   "execution_count": 263,
   "id": "434c0b7e",
   "metadata": {},
   "outputs": [],
   "source": [
    "df_genero_data\n",
    "df_genero_data.drop(df_genero_data.filter(regex=\"Unname\"),axis=1, inplace=True)"
   ]
  },
  {
   "cell_type": "code",
   "execution_count": 264,
   "id": "ddde7f95",
   "metadata": {},
   "outputs": [
    {
     "data": {
      "text/html": [
       "<div>\n",
       "<style scoped>\n",
       "    .dataframe tbody tr th:only-of-type {\n",
       "        vertical-align: middle;\n",
       "    }\n",
       "\n",
       "    .dataframe tbody tr th {\n",
       "        vertical-align: top;\n",
       "    }\n",
       "\n",
       "    .dataframe thead th {\n",
       "        text-align: right;\n",
       "    }\n",
       "</style>\n",
       "<table border=\"1\" class=\"dataframe\">\n",
       "  <thead>\n",
       "    <tr style=\"text-align: right;\">\n",
       "      <th></th>\n",
       "      <th>genero</th>\n",
       "      <th>quantidade</th>\n",
       "    </tr>\n",
       "  </thead>\n",
       "  <tbody>\n",
       "    <tr>\n",
       "      <th>0</th>\n",
       "      <td>M</td>\n",
       "      <td>5347</td>\n",
       "    </tr>\n",
       "    <tr>\n",
       "      <th>1</th>\n",
       "      <td>F</td>\n",
       "      <td>4871</td>\n",
       "    </tr>\n",
       "    <tr>\n",
       "      <th>2</th>\n",
       "      <td>I</td>\n",
       "      <td>217</td>\n",
       "    </tr>\n",
       "  </tbody>\n",
       "</table>\n",
       "</div>"
      ],
      "text/plain": [
       "  genero  quantidade\n",
       "0      M        5347\n",
       "1      F        4871\n",
       "2      I         217"
      ]
     },
     "execution_count": 264,
     "metadata": {},
     "output_type": "execute_result"
    }
   ],
   "source": [
    "df_genero_data"
   ]
  },
  {
   "cell_type": "markdown",
   "id": "7d0e1523",
   "metadata": {},
   "source": [
    "Diferença entre Feminino e Masculino"
   ]
  },
  {
   "cell_type": "code",
   "execution_count": 265,
   "id": "239a3bf8",
   "metadata": {},
   "outputs": [
    {
     "data": {
      "text/plain": [
       "476"
      ]
     },
     "execution_count": 265,
     "metadata": {},
     "output_type": "execute_result"
    }
   ],
   "source": [
    "sum(data.sexo == 'M') - sum(data.sexo == 'F')"
   ]
  },
  {
   "cell_type": "code",
   "execution_count": 266,
   "id": "dd37c9da",
   "metadata": {},
   "outputs": [
    {
     "data": {
      "text/plain": [
       "5088"
      ]
     },
     "execution_count": 266,
     "metadata": {},
     "output_type": "execute_result"
    }
   ],
   "source": [
    "sum(data.sexo == 'F') + sum(data.sexo == 'I')"
   ]
  },
  {
   "cell_type": "code",
   "execution_count": 267,
   "id": "88a56659",
   "metadata": {},
   "outputs": [
    {
     "data": {
      "image/png": "[encoded data removed]",
      "text/plain": [
       "<Figure size 1000x600 with 1 Axes>"
      ]
     },
     "metadata": {},
     "output_type": "display_data"
    }
   ],
   "source": [
    "fig, ax = plt.subplots(figsize=(10, 6))  # Set the figure size\n",
    "\n",
    "# Calculate the counts of each state\n",
    "counts = df_genero_data['quantidade']\n",
    "\n",
    "# Extract the state names\n",
    "genero_index = df_genero_data['genero']\n",
    "\n",
    "# Plotting the bar chart\n",
    "ax.bar(genero_index, counts)\n",
    "\n",
    "ax.set_ylabel('Count')  # Label for y-axis\n",
    "ax.set_xlabel('Genêro')  # Label for x-axis\n",
    "ax.set_title('Quantidade Genêro')  # Title of the plot\n",
    "\n",
    "# Rotate the x-axis labels for better readability if needed\n",
    "plt.xticks(rotation=90)\n",
    "\n",
    "plt.show()"
   ]
  },
  {
   "cell_type": "code",
   "execution_count": 268,
   "id": "1aa9bc7e",
   "metadata": {},
   "outputs": [
    {
     "data": {
      "text/html": [
       "<div>\n",
       "<style scoped>\n",
       "    .dataframe tbody tr th:only-of-type {\n",
       "        vertical-align: middle;\n",
       "    }\n",
       "\n",
       "    .dataframe tbody tr th {\n",
       "        vertical-align: top;\n",
       "    }\n",
       "\n",
       "    .dataframe thead th {\n",
       "        text-align: right;\n",
       "    }\n",
       "</style>\n",
       "<table border=\"1\" class=\"dataframe\">\n",
       "  <thead>\n",
       "    <tr style=\"text-align: right;\">\n",
       "      <th></th>\n",
       "      <th>uf</th>\n",
       "      <th>tipo_doenca</th>\n",
       "      <th>local_obito</th>\n",
       "      <th>faixa_etaria</th>\n",
       "      <th>sexo</th>\n",
       "      <th>total</th>\n",
       "    </tr>\n",
       "  </thead>\n",
       "  <tbody>\n",
       "    <tr>\n",
       "      <th>0</th>\n",
       "      <td>AC</td>\n",
       "      <td>OUTRAS</td>\n",
       "      <td>DOMICILIO</td>\n",
       "      <td>&lt; 9</td>\n",
       "      <td>F</td>\n",
       "      <td>4</td>\n",
       "    </tr>\n",
       "    <tr>\n",
       "      <th>1</th>\n",
       "      <td>AC</td>\n",
       "      <td>OUTRAS</td>\n",
       "      <td>DOMICILIO</td>\n",
       "      <td>&lt; 9</td>\n",
       "      <td>M</td>\n",
       "      <td>7</td>\n",
       "    </tr>\n",
       "    <tr>\n",
       "      <th>2</th>\n",
       "      <td>AC</td>\n",
       "      <td>OUTRAS</td>\n",
       "      <td>HOSPITAL</td>\n",
       "      <td>&lt; 9</td>\n",
       "      <td>F</td>\n",
       "      <td>19</td>\n",
       "    </tr>\n",
       "    <tr>\n",
       "      <th>3</th>\n",
       "      <td>AC</td>\n",
       "      <td>OUTRAS</td>\n",
       "      <td>HOSPITAL</td>\n",
       "      <td>&lt; 9</td>\n",
       "      <td>I</td>\n",
       "      <td>1</td>\n",
       "    </tr>\n",
       "    <tr>\n",
       "      <th>4</th>\n",
       "      <td>AC</td>\n",
       "      <td>OUTRAS</td>\n",
       "      <td>HOSPITAL</td>\n",
       "      <td>&lt; 9</td>\n",
       "      <td>M</td>\n",
       "      <td>26</td>\n",
       "    </tr>\n",
       "    <tr>\n",
       "      <th>...</th>\n",
       "      <td>...</td>\n",
       "      <td>...</td>\n",
       "      <td>...</td>\n",
       "      <td>...</td>\n",
       "      <td>...</td>\n",
       "      <td>...</td>\n",
       "    </tr>\n",
       "    <tr>\n",
       "      <th>10430</th>\n",
       "      <td>TO</td>\n",
       "      <td>SEPTICEMIA</td>\n",
       "      <td>HOSPITAL</td>\n",
       "      <td>N/I</td>\n",
       "      <td>F</td>\n",
       "      <td>7</td>\n",
       "    </tr>\n",
       "    <tr>\n",
       "      <th>10431</th>\n",
       "      <td>TO</td>\n",
       "      <td>SEPTICEMIA</td>\n",
       "      <td>HOSPITAL</td>\n",
       "      <td>N/I</td>\n",
       "      <td>I</td>\n",
       "      <td>1</td>\n",
       "    </tr>\n",
       "    <tr>\n",
       "      <th>10432</th>\n",
       "      <td>TO</td>\n",
       "      <td>SEPTICEMIA</td>\n",
       "      <td>HOSPITAL</td>\n",
       "      <td>N/I</td>\n",
       "      <td>M</td>\n",
       "      <td>22</td>\n",
       "    </tr>\n",
       "    <tr>\n",
       "      <th>10433</th>\n",
       "      <td>TO</td>\n",
       "      <td>SRAG</td>\n",
       "      <td>HOSPITAL</td>\n",
       "      <td>N/I</td>\n",
       "      <td>F</td>\n",
       "      <td>1</td>\n",
       "    </tr>\n",
       "    <tr>\n",
       "      <th>10434</th>\n",
       "      <td>TO</td>\n",
       "      <td>SRAG</td>\n",
       "      <td>HOSPITAL</td>\n",
       "      <td>N/I</td>\n",
       "      <td>M</td>\n",
       "      <td>1</td>\n",
       "    </tr>\n",
       "  </tbody>\n",
       "</table>\n",
       "<p>10435 rows × 6 columns</p>\n",
       "</div>"
      ],
      "text/plain": [
       "       uf tipo_doenca local_obito faixa_etaria sexo  total\n",
       "0      AC      OUTRAS   DOMICILIO          < 9    F      4\n",
       "1      AC      OUTRAS   DOMICILIO          < 9    M      7\n",
       "2      AC      OUTRAS    HOSPITAL          < 9    F     19\n",
       "3      AC      OUTRAS    HOSPITAL          < 9    I      1\n",
       "4      AC      OUTRAS    HOSPITAL          < 9    M     26\n",
       "...    ..         ...         ...          ...  ...    ...\n",
       "10430  TO  SEPTICEMIA    HOSPITAL          N/I    F      7\n",
       "10431  TO  SEPTICEMIA    HOSPITAL          N/I    I      1\n",
       "10432  TO  SEPTICEMIA    HOSPITAL          N/I    M     22\n",
       "10433  TO        SRAG    HOSPITAL          N/I    F      1\n",
       "10434  TO        SRAG    HOSPITAL          N/I    M      1\n",
       "\n",
       "[10435 rows x 6 columns]"
      ]
     },
     "execution_count": 268,
     "metadata": {},
     "output_type": "execute_result"
    }
   ],
   "source": [
    "data"
   ]
  },
  {
   "cell_type": "markdown",
   "id": "00201931",
   "metadata": {},
   "source": [
    "### Selecao de certos dados nas primeiras cinco cidades com mais óbitos no Brasil"
   ]
  },
  {
   "cell_type": "code",
   "execution_count": 269,
   "id": "4805c598",
   "metadata": {},
   "outputs": [
    {
     "data": {
      "text/plain": [
       "2"
      ]
     },
     "execution_count": 269,
     "metadata": {},
     "output_type": "execute_result"
    }
   ],
   "source": [
    "select = (data.uf == 'SP') & (data.local_obito == 'HOSPITAL') & (data.total >= 5) & (data.sexo == 'I')\n",
    "n1 = data[select].shape[0]\n",
    "n1"
   ]
  },
  {
   "cell_type": "code",
   "execution_count": 270,
   "id": "07c1868f",
   "metadata": {},
   "outputs": [
    {
     "data": {
      "text/plain": [
       "71"
      ]
     },
     "execution_count": 270,
     "metadata": {},
     "output_type": "execute_result"
    }
   ],
   "source": [
    "select = (data.uf == 'SP') & (data.local_obito == 'HOSPITAL') & (data.total >= 5) & (data.sexo == 'F')\n",
    "n2 = data[select].shape[0]\n",
    "n2"
   ]
  },
  {
   "cell_type": "code",
   "execution_count": 271,
   "id": "d59c0ed1",
   "metadata": {},
   "outputs": [
    {
     "data": {
      "text/plain": [
       "74"
      ]
     },
     "execution_count": 271,
     "metadata": {},
     "output_type": "execute_result"
    }
   ],
   "source": [
    "select = (data.uf == 'SP') & (data.local_obito == 'HOSPITAL') & (data.total >= 5) & (data.sexo == 'M')\n",
    "n3 = data[select].shape[0]\n",
    "n3"
   ]
  },
  {
   "cell_type": "code",
   "execution_count": 272,
   "id": "1c2f8dc0",
   "metadata": {},
   "outputs": [
    {
     "data": {
      "text/plain": [
       "125"
      ]
     },
     "execution_count": 272,
     "metadata": {},
     "output_type": "execute_result"
    }
   ],
   "source": [
    "select = (data.uf == 'MG') & (data.local_obito == 'DOMICILIO') & (data.total >= 0)\n",
    "n4 = data[select].shape[0]\n",
    "n4"
   ]
  },
  {
   "cell_type": "code",
   "execution_count": 273,
   "id": "d0bad419",
   "metadata": {},
   "outputs": [
    {
     "data": {
      "text/plain": [
       "117"
      ]
     },
     "execution_count": 273,
     "metadata": {},
     "output_type": "execute_result"
    }
   ],
   "source": [
    "select = (data.uf == 'MG') & (data.local_obito == 'OUTROS_SERVICOS_SAUDE') & (data.total >= 0)\n",
    "n4 = data[select].shape[0]\n",
    "n4"
   ]
  },
  {
   "cell_type": "code",
   "execution_count": 274,
   "id": "718b2a19",
   "metadata": {},
   "outputs": [
    {
     "data": {
      "text/plain": [
       "11"
      ]
     },
     "execution_count": 274,
     "metadata": {},
     "output_type": "execute_result"
    }
   ],
   "source": [
    "select = (data.uf == 'RJ') & (data.tipo_doenca == 'COVID') & (data.total >= 0) & (data.local_obito == 'OUTROS_SERVICOS_SAUDE')\n",
    "n5 = data[select].shape[0]\n",
    "n5"
   ]
  },
  {
   "cell_type": "code",
   "execution_count": 275,
   "id": "fac512b4",
   "metadata": {},
   "outputs": [
    {
     "data": {
      "text/plain": [
       "16"
      ]
     },
     "execution_count": 275,
     "metadata": {},
     "output_type": "execute_result"
    }
   ],
   "source": [
    "select = (data.uf == 'BA') & (data.tipo_doenca == 'INSUFICIENCIA_RESPIRATORIA') & (data.total >= 5) & (data.local_obito == 'DOMICILIO')\n",
    "n6 = data[select].shape[0]\n",
    "n6"
   ]
  },
  {
   "cell_type": "code",
   "execution_count": 276,
   "id": "0db9369c",
   "metadata": {},
   "outputs": [
    {
     "data": {
      "text/plain": [
       "2"
      ]
     },
     "execution_count": 276,
     "metadata": {},
     "output_type": "execute_result"
    }
   ],
   "source": [
    "select = (data.uf == 'CE') & (data.tipo_doenca == 'PNEUMONIA') & (data.total >= 10) & (data.local_obito == 'HOSPITAL') & (data.faixa_etaria == '80 - 89')\n",
    "n7 = data[select].shape[0]\n",
    "n7"
   ]
  },
  {
   "cell_type": "code",
   "execution_count": 307,
   "id": "92b8f5bd",
   "metadata": {},
   "outputs": [
    {
     "name": "stdout",
     "output_type": "stream",
     "text": [
      "Número de óbitos em hospitais em São Paulo com mais de 5 óbitos com sexo indeterminado -> 2\n",
      "Número de óbitos em hospitais em São Paulo com mais de 5 óbitos com sexo feminino -> 71\n",
      "Número de óbitos em hospitais em São Paulo com mais de 5 óbitos com sexo masculino -> 74\n",
      "Número de óbitos em hospitais em Minas Gerais com mais de 0 óbitos -> 117\n",
      "Número de óbitos em outros servicos de saúde no Rio de Janeiro com mais de 0 óbitos -> 11\n",
      "Número de óbitos em hospitais no Ceará com mais de 10 óbitos com idades entre 80-89 anos por pneumonia -> 2\n"
     ]
    }
   ],
   "source": [
    "print('Número de óbitos em hospitais em São Paulo com mais de 5 óbitos com sexo indeterminado ->',format(n1))\n",
    "print('Número de óbitos em hospitais em São Paulo com mais de 5 óbitos com sexo feminino ->',format(n2))\n",
    "print('Número de óbitos em hospitais em São Paulo com mais de 5 óbitos com sexo masculino ->',format(n3))\n",
    "print('Número de óbitos em hospitais em Minas Gerais com mais de 0 óbitos ->',format(n4))\n",
    "print('Número de óbitos em outros servicos de saúde no Rio de Janeiro com mais de 0 óbitos ->',format(n5))\n",
    "print('Número de óbitos em hospitais no Ceará com mais de 10 óbitos com idades entre 80-89 anos por pneumonia ->',format(n7))"
   ]
  },
  {
   "cell_type": "code",
   "execution_count": 278,
   "id": "9379b3ea",
   "metadata": {},
   "outputs": [
    {
     "data": {
      "text/plain": [
       "uf\n",
       "SP    723\n",
       "MG    670\n",
       "RJ    530\n",
       "BA    510\n",
       "CE    507\n",
       "PE    496\n",
       "GO    494\n",
       "PR    484\n",
       "RS    480\n",
       "PA    442\n",
       "MA    409\n",
       "MT    382\n",
       "PB    380\n",
       "RN    380\n",
       "SC    369\n",
       "AL    353\n",
       "ES    341\n",
       "DF    334\n",
       "SE    315\n",
       "PI    297\n",
       "MS    290\n",
       "AM    287\n",
       "TO    255\n",
       "RO    229\n",
       "AC    194\n",
       "AP    175\n",
       "RR    109\n",
       "Name: count, dtype: int64"
      ]
     },
     "execution_count": 278,
     "metadata": {},
     "output_type": "execute_result"
    }
   ],
   "source": [
    "data.uf.value_counts()"
   ]
  },
  {
   "cell_type": "code",
   "execution_count": 279,
   "id": "ee598be8",
   "metadata": {},
   "outputs": [
    {
     "data": {
      "text/plain": [
       "local_obito\n",
       "HOSPITAL                 3519\n",
       "DOMICILIO                2235\n",
       "OUTROS_SERVICOS_SAUDE    1603\n",
       "OUTRO                    1377\n",
       "IGNORADO                  882\n",
       "VIA_PUBLICA               694\n",
       "POSTO_SAUDE                88\n",
       "AMBULANCIA                 37\n",
       "Name: count, dtype: int64"
      ]
     },
     "execution_count": 279,
     "metadata": {},
     "output_type": "execute_result"
    }
   ],
   "source": [
    "data.local_obito.value_counts()"
   ]
  },
  {
   "cell_type": "markdown",
   "id": "e6d0c11d",
   "metadata": {},
   "source": [
    "### Primeiro 5 estados com mais óbitos no Brasil"
   ]
  },
  {
   "cell_type": "code",
   "execution_count": 280,
   "id": "a41848bf",
   "metadata": {},
   "outputs": [
    {
     "name": "stdout",
     "output_type": "stream",
     "text": [
      "Primeiro 5 estados com mais óbitos no Brasil:\n",
      "\n",
      "Primeiro Lugar -> SP   | 723\n",
      "Segundo Lugar ->  MG   | 670\n",
      "Terceiro Lugar -> RJ   | 530\n",
      "Quarto Lugar ->   BA   | 510\n",
      "Quinto Lugar ->   CE   | 507\n"
     ]
    }
   ],
   "source": [
    "print('Primeiro 5 estados com mais óbitos no Brasil:\\n')\n",
    "print('Primeiro Lugar ->',estados_df['uf'][0],'  |',estados_df['quantidade'][0])\n",
    "print('Segundo Lugar -> ',estados_df['uf'][1], '  |',estados_df['quantidade'][1])\n",
    "print('Terceiro Lugar ->',estados_df['uf'][2],'  |',estados_df['quantidade'][2])\n",
    "print('Quarto Lugar ->  ',estados_df['uf'][3],  '  |',estados_df['quantidade'][3])\n",
    "print('Quinto Lugar ->  ',estados_df['uf'][4],  '  |',estados_df['quantidade'][4])"
   ]
  },
  {
   "cell_type": "markdown",
   "id": "7ed04830",
   "metadata": {},
   "source": [
    "### Calculando as estástiticas dos dados"
   ]
  },
  {
   "cell_type": "markdown",
   "id": "6e34134b",
   "metadata": {},
   "source": [
    "https://docs.python.org/3/library/statistics.html"
   ]
  },
  {
   "cell_type": "code",
   "execution_count": 281,
   "id": "4ccfa5ca",
   "metadata": {},
   "outputs": [],
   "source": [
    "from statistics import *\n",
    "from math import isnan"
   ]
  },
  {
   "cell_type": "code",
   "execution_count": 282,
   "id": "b6f67ae7",
   "metadata": {},
   "outputs": [
    {
     "data": {
      "text/plain": [
       "0         4\n",
       "1         7\n",
       "2        19\n",
       "3         1\n",
       "4        26\n",
       "         ..\n",
       "10430     7\n",
       "10431     1\n",
       "10432    22\n",
       "10433     1\n",
       "10434     1\n",
       "Name: total, Length: 10435, dtype: int64"
      ]
     },
     "execution_count": 282,
     "metadata": {},
     "output_type": "execute_result"
    }
   ],
   "source": [
    "data.total"
   ]
  },
  {
   "cell_type": "code",
   "execution_count": 310,
   "id": "80e63890",
   "metadata": {},
   "outputs": [
    {
     "data": {
      "text/plain": [
       "10435"
      ]
     },
     "execution_count": 310,
     "metadata": {},
     "output_type": "execute_result"
    }
   ],
   "source": [
    "data.total.shape[0]"
   ]
  },
  {
   "cell_type": "code",
   "execution_count": 283,
   "id": "910e3723",
   "metadata": {},
   "outputs": [
    {
     "data": {
      "text/plain": [
       "4"
      ]
     },
     "execution_count": 283,
     "metadata": {},
     "output_type": "execute_result"
    }
   ],
   "source": [
    "median(data.total)"
   ]
  },
  {
   "cell_type": "code",
   "execution_count": 284,
   "id": "e8b18920",
   "metadata": {},
   "outputs": [
    {
     "data": {
      "text/plain": [
       "['faixa_etaria', 'local_obito', 'sexo', 'tipo_doenca', 'total', 'uf']"
      ]
     },
     "execution_count": 284,
     "metadata": {},
     "output_type": "execute_result"
    }
   ],
   "source": [
    "sorted(data)"
   ]
  },
  {
   "cell_type": "markdown",
   "id": "3ef8583e",
   "metadata": {},
   "source": [
    " statistics.mean(data)"
   ]
  },
  {
   "cell_type": "markdown",
   "id": "d272829f",
   "metadata": {},
   "source": [
    "Return the sample arithmetic mean of data which can be a sequence or iterable."
   ]
  },
  {
   "cell_type": "code",
   "execution_count": 285,
   "id": "c3a3d150",
   "metadata": {},
   "outputs": [
    {
     "data": {
      "text/plain": [
       "43.27034020124581"
      ]
     },
     "execution_count": 285,
     "metadata": {},
     "output_type": "execute_result"
    }
   ],
   "source": [
    "# Média dos números da coluna total\n",
    "mean(data['total'])"
   ]
  },
  {
   "cell_type": "markdown",
   "id": "6a70187a",
   "metadata": {},
   "source": [
    "statistics.fmean(data, weights=None)"
   ]
  },
  {
   "cell_type": "markdown",
   "id": "60cb850b",
   "metadata": {},
   "source": [
    "Convert data to floats and compute the arithmetic mean."
   ]
  },
  {
   "cell_type": "code",
   "execution_count": 286,
   "id": "d27f9486",
   "metadata": {},
   "outputs": [
    {
     "data": {
      "text/plain": [
       "43.27034020124581"
      ]
     },
     "execution_count": 286,
     "metadata": {},
     "output_type": "execute_result"
    }
   ],
   "source": [
    "fmean(data['total'])"
   ]
  },
  {
   "cell_type": "markdown",
   "id": "82030b9f",
   "metadata": {},
   "source": [
    " statistics.geometric_mean(data)¶"
   ]
  },
  {
   "cell_type": "markdown",
   "id": "3c62e1b7",
   "metadata": {},
   "source": [
    "Return the harmonic mean of data, a sequence or iterable of real-valued numbers."
   ]
  },
  {
   "cell_type": "code",
   "execution_count": 287,
   "id": "e229b5c3",
   "metadata": {},
   "outputs": [
    {
     "data": {
      "text/plain": [
       "6"
      ]
     },
     "execution_count": 287,
     "metadata": {},
     "output_type": "execute_result"
    }
   ],
   "source": [
    "round(geometric_mean(data['total']))"
   ]
  },
  {
   "cell_type": "code",
   "execution_count": 288,
   "id": "189dc1dd",
   "metadata": {},
   "outputs": [
    {
     "data": {
      "text/plain": [
       "6.2784999169934785"
      ]
     },
     "execution_count": 288,
     "metadata": {},
     "output_type": "execute_result"
    }
   ],
   "source": [
    "geometric_mean(data['total'])"
   ]
  },
  {
   "cell_type": "markdown",
   "id": "bb6b3ef7",
   "metadata": {},
   "source": [
    "statistics.harmonic_mean(data, weights=None)"
   ]
  },
  {
   "cell_type": "code",
   "execution_count": 289,
   "id": "777a2d84",
   "metadata": {},
   "outputs": [
    {
     "data": {
      "text/plain": [
       "3"
      ]
     },
     "execution_count": 289,
     "metadata": {},
     "output_type": "execute_result"
    }
   ],
   "source": [
    "round(harmonic_mean(data.total))"
   ]
  },
  {
   "cell_type": "code",
   "execution_count": 290,
   "id": "c2c1a2a7",
   "metadata": {},
   "outputs": [
    {
     "data": {
      "text/plain": [
       "2.504478138805884"
      ]
     },
     "execution_count": 290,
     "metadata": {},
     "output_type": "execute_result"
    }
   ],
   "source": [
    "harmonic_mean(data.total)"
   ]
  },
  {
   "cell_type": "markdown",
   "id": "ed4763c7",
   "metadata": {},
   "source": [
    "statistics.median(data)"
   ]
  },
  {
   "cell_type": "markdown",
   "id": "0094a5f5",
   "metadata": {},
   "source": [
    "Return the median (middle value) of numeric data, using the common “mean of middle two” method"
   ]
  },
  {
   "cell_type": "code",
   "execution_count": 291,
   "id": "e7bf8918",
   "metadata": {},
   "outputs": [
    {
     "data": {
      "text/plain": [
       "4"
      ]
     },
     "execution_count": 291,
     "metadata": {},
     "output_type": "execute_result"
    }
   ],
   "source": [
    "# Cálcula a média da coluna Total\n",
    "median(data.total)"
   ]
  },
  {
   "cell_type": "markdown",
   "id": "56aa3973",
   "metadata": {},
   "source": [
    "statistics.median_low(data)"
   ]
  },
  {
   "cell_type": "markdown",
   "id": "071b814a",
   "metadata": {},
   "source": [
    "Return the low median of numeric data"
   ]
  },
  {
   "cell_type": "code",
   "execution_count": 292,
   "id": "03adc528",
   "metadata": {},
   "outputs": [
    {
     "data": {
      "text/plain": [
       "4"
      ]
     },
     "execution_count": 292,
     "metadata": {},
     "output_type": "execute_result"
    }
   ],
   "source": [
    "median_low(data.total)"
   ]
  },
  {
   "cell_type": "markdown",
   "id": "275dcad4",
   "metadata": {},
   "source": [
    "statistics.median_high(data)"
   ]
  },
  {
   "cell_type": "markdown",
   "id": "44f0b756",
   "metadata": {},
   "source": [
    "Return the high median of data. If data is empty, StatisticsError is raised. data can be a sequence or iterable."
   ]
  },
  {
   "cell_type": "code",
   "execution_count": 293,
   "id": "ce42a14d",
   "metadata": {},
   "outputs": [
    {
     "data": {
      "text/plain": [
       "4"
      ]
     },
     "execution_count": 293,
     "metadata": {},
     "output_type": "execute_result"
    }
   ],
   "source": [
    "median_high(data.total)"
   ]
  },
  {
   "cell_type": "markdown",
   "id": "d2db0f13",
   "metadata": {},
   "source": [
    "statistics.median_grouped(data, interval=1.0)"
   ]
  },
  {
   "cell_type": "markdown",
   "id": "3079450a",
   "metadata": {},
   "source": [
    "Estimates the median for numeric data that has been grouped or binned around the midpoints of consecutive, fixed-width intervals."
   ]
  },
  {
   "cell_type": "code",
   "execution_count": 294,
   "id": "c5db59db",
   "metadata": {},
   "outputs": [
    {
     "data": {
      "text/plain": [
       "4.299056603773585"
      ]
     },
     "execution_count": 294,
     "metadata": {},
     "output_type": "execute_result"
    }
   ],
   "source": [
    "median_grouped(data.total)"
   ]
  },
  {
   "cell_type": "code",
   "execution_count": 295,
   "id": "b67c25cf",
   "metadata": {},
   "outputs": [
    {
     "data": {
      "text/plain": [
       "6.990566037735849"
      ]
     },
     "execution_count": 295,
     "metadata": {},
     "output_type": "execute_result"
    }
   ],
   "source": [
    "median_grouped(data.total, interval=10)"
   ]
  },
  {
   "cell_type": "code",
   "execution_count": 296,
   "id": "b307da0d",
   "metadata": {},
   "outputs": [
    {
     "data": {
      "text/plain": [
       "8.485849056603774"
      ]
     },
     "execution_count": 296,
     "metadata": {},
     "output_type": "execute_result"
    }
   ],
   "source": [
    "median_grouped(data.total, interval=15.0)"
   ]
  },
  {
   "cell_type": "markdown",
   "id": "55aca1c3",
   "metadata": {},
   "source": [
    "statistics.mode(data)"
   ]
  },
  {
   "cell_type": "markdown",
   "id": "001da5d1",
   "metadata": {},
   "source": [
    "Return the single most common data point from discrete or nominal data."
   ]
  },
  {
   "cell_type": "code",
   "execution_count": 297,
   "id": "af723ec2",
   "metadata": {},
   "outputs": [
    {
     "data": {
      "text/plain": [
       "1"
      ]
     },
     "execution_count": 297,
     "metadata": {},
     "output_type": "execute_result"
    }
   ],
   "source": [
    "mode(data.total)"
   ]
  },
  {
   "cell_type": "markdown",
   "id": "7cc23126",
   "metadata": {},
   "source": [
    "statistics.multimode(data)"
   ]
  },
  {
   "cell_type": "markdown",
   "id": "783c34ee",
   "metadata": {},
   "source": [
    "Return a list of the most frequently occurring values in the order they were first encountered in the data."
   ]
  },
  {
   "cell_type": "code",
   "execution_count": 298,
   "id": "dc9491f0",
   "metadata": {},
   "outputs": [
    {
     "data": {
      "text/plain": [
       "[1]"
      ]
     },
     "execution_count": 298,
     "metadata": {},
     "output_type": "execute_result"
    }
   ],
   "source": [
    "multimode(data.total)"
   ]
  },
  {
   "cell_type": "markdown",
   "id": "a8fa50a1",
   "metadata": {},
   "source": [
    " statistics.pstdev(data, mu=None)¶"
   ]
  },
  {
   "cell_type": "markdown",
   "id": "cda8bdf1",
   "metadata": {},
   "source": [
    "Return the population standard deviation (the square root of the population variance)"
   ]
  },
  {
   "cell_type": "code",
   "execution_count": 299,
   "id": "ec72ea11",
   "metadata": {},
   "outputs": [
    {
     "data": {
      "text/plain": [
       "177"
      ]
     },
     "execution_count": 299,
     "metadata": {},
     "output_type": "execute_result"
    }
   ],
   "source": [
    "round(pstdev(data.total))"
   ]
  },
  {
   "cell_type": "code",
   "execution_count": 300,
   "id": "42fcbdf8",
   "metadata": {},
   "outputs": [
    {
     "data": {
      "text/plain": [
       "177.21461529053502"
      ]
     },
     "execution_count": 300,
     "metadata": {},
     "output_type": "execute_result"
    }
   ],
   "source": [
    "pstdev(data.total)"
   ]
  },
  {
   "cell_type": "markdown",
   "id": "75cd0994",
   "metadata": {},
   "source": [
    "If you have already calculated the mean of your data, you can pass it as the optional second argument mu to avoid recalculation:"
   ]
  },
  {
   "cell_type": "code",
   "execution_count": 301,
   "id": "45058a23",
   "metadata": {},
   "outputs": [
    {
     "data": {
      "text/plain": [
       "177.21461529053502"
      ]
     },
     "execution_count": 301,
     "metadata": {},
     "output_type": "execute_result"
    }
   ],
   "source": [
    "mu = mean(data.total)\n",
    "pstdev(data.total, mu)"
   ]
  },
  {
   "cell_type": "markdown",
   "id": "3dda0626",
   "metadata": {},
   "source": [
    "statistics.stdev(data, xbar=None)"
   ]
  },
  {
   "cell_type": "markdown",
   "id": "470e40ab",
   "metadata": {},
   "source": [
    "return the sample standard deviation (the square root of the sample variance)"
   ]
  },
  {
   "cell_type": "code",
   "execution_count": 302,
   "id": "f6af50de",
   "metadata": {},
   "outputs": [
    {
     "data": {
      "text/plain": [
       "177.2231072576334"
      ]
     },
     "execution_count": 302,
     "metadata": {},
     "output_type": "execute_result"
    }
   ],
   "source": [
    "stdev(data.total)"
   ]
  },
  {
   "cell_type": "markdown",
   "id": "1afcd83d",
   "metadata": {},
   "source": [
    "statistics.variance(data, xbar=None)"
   ]
  },
  {
   "cell_type": "markdown",
   "id": "71172898",
   "metadata": {},
   "source": [
    "Return the sample variance of data, an iterable of at least two real-valued numbers."
   ]
  },
  {
   "cell_type": "markdown",
   "id": "3b7408a8",
   "metadata": {},
   "source": [
    "If the optional second argument xbar is given, it should be the sample mean of data"
   ]
  },
  {
   "cell_type": "code",
   "execution_count": 303,
   "id": "bea65172",
   "metadata": {},
   "outputs": [
    {
     "data": {
      "text/plain": [
       "31408.02974605063"
      ]
     },
     "execution_count": 303,
     "metadata": {},
     "output_type": "execute_result"
    }
   ],
   "source": [
    "variance(data.total)"
   ]
  },
  {
   "cell_type": "markdown",
   "id": "643e5dec",
   "metadata": {},
   "source": [
    "If you have already calculated the sample mean of your data, you can pass it as the optional second argument xbar to avoid recalculation:"
   ]
  },
  {
   "cell_type": "code",
   "execution_count": 304,
   "id": "dfcea77e",
   "metadata": {},
   "outputs": [
    {
     "data": {
      "text/plain": [
       "31408.029746050634"
      ]
     },
     "execution_count": 304,
     "metadata": {},
     "output_type": "execute_result"
    }
   ],
   "source": [
    "m = mean(data.total)\n",
    "variance(data.total, m)"
   ]
  },
  {
   "cell_type": "markdown",
   "id": "a678f6f7",
   "metadata": {},
   "source": [
    "statistics.quantiles(data, *, n=4, method='exclusive')"
   ]
  },
  {
   "cell_type": "markdown",
   "id": "71b507f0",
   "metadata": {},
   "source": [
    "Divide data into n continuous intervals with equal probability."
   ]
  },
  {
   "cell_type": "code",
   "execution_count": 305,
   "id": "47fc97d5",
   "metadata": {},
   "outputs": [
    {
     "data": {
      "text/plain": [
       "[1.0, 1.0, 2.0, 3.0, 4.0, 7.0, 13.0, 29.0, 79.0]"
      ]
     },
     "execution_count": 305,
     "metadata": {},
     "output_type": "execute_result"
    }
   ],
   "source": [
    "[round(q, 1) for q in quantiles(data.total, n=10)] "
   ]
  },
  {
   "cell_type": "code",
   "execution_count": 306,
   "id": "5074d789",
   "metadata": {},
   "outputs": [
    {
     "data": {
      "text/plain": [
       "[1.0, 4.0, 19.0]"
      ]
     },
     "execution_count": 306,
     "metadata": {},
     "output_type": "execute_result"
    }
   ],
   "source": [
    "quantiles(data.total)"
   ]
  },
  {
   "cell_type": "markdown",
   "id": "f6954d36",
   "metadata": {},
   "source": [
    " statistics.covariance(x, y, /)"
   ]
  },
  {
   "cell_type": "markdown",
   "id": "524d66ad",
   "metadata": {},
   "source": [
    "Return the sample covariance of two inputs x and y"
   ]
  },
  {
   "cell_type": "markdown",
   "id": "c435bfb8",
   "metadata": {},
   "source": [
    "statistics.correlation(x, y, /, *, method='linear')"
   ]
  },
  {
   "cell_type": "markdown",
   "id": "8d0abbe3",
   "metadata": {},
   "source": [
    "Return the Pearson’s correlation coefficient for two inputs"
   ]
  },
  {
   "cell_type": "markdown",
   "id": "d0fd41ee",
   "metadata": {},
   "source": [
    " statistics.linear_regression(x, y, /, *, proportional=False)"
   ]
  },
  {
   "cell_type": "markdown",
   "id": "536a9a31",
   "metadata": {},
   "source": [
    "Return the slope and intercept of simple linear regression parameters estimated using ordinary least squares"
   ]
  },
  {
   "cell_type": "code",
   "execution_count": null,
   "id": "092061da",
   "metadata": {},
   "outputs": [],
   "source": []
  }
 ],
 "metadata": {
  "kernelspec": {
   "display_name": "Python 3 (ipykernel)",
   "language": "python",
   "name": "python3"
  },
  "language_info": {
   "codemirror_mode": {
    "name": "ipython",
    "version": 3
   },
   "file_extension": ".py",
   "mimetype": "text/x-python",
   "name": "python",
   "nbconvert_exporter": "python",
   "pygments_lexer": "ipython3",
   "version": "3.11.7"
  },
  "widgets": {
   "application/vnd.jupyter.widget-state+json": {
    "state": {},
    "version_major": 2,
    "version_minor": 0
   }
  }
 },
 "nbformat": 4,
 "nbformat_minor": 5
}
